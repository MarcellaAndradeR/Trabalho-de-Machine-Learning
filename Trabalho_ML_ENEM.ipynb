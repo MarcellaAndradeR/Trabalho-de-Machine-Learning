{
  "nbformat": 4,
  "nbformat_minor": 0,
  "metadata": {
    "kernelspec": {
      "display_name": "Python 3",
      "language": "python",
      "name": "python3"
    },
    "language_info": {
      "codemirror_mode": {
        "name": "ipython",
        "version": 3
      },
      "file_extension": ".py",
      "mimetype": "text/x-python",
      "name": "python",
      "nbconvert_exporter": "python",
      "pygments_lexer": "ipython3",
      "version": "3.7.3"
    },
    "colab": {
      "name": "Trabalho_ML_ENEM.ipynb",
      "provenance": []
    }
  },
  "cells": [
    {
      "cell_type": "markdown",
      "metadata": {
        "id": "WQ_f6SJsQcj7"
      },
      "source": [
        "# Banco de dados #\n",
        "% Inicialmente abrir o banco de dados e analisar o que temos %"
      ]
    },
    {
      "cell_type": "code",
      "metadata": {
        "id": "G956_8fNQckN"
      },
      "source": [
        "# IMPORTANDO AS BIBLIOTECAS QUE QUE SERÃO UTILIZADAS\n",
        "\n",
        "import numpy as np\n",
        "import pandas as pd\n",
        "import matplotlib.pyplot as plt\n",
        "import seaborn as sns\n",
        "import missingno as msno\n",
        "import csv\n",
        "from scipy import stats\n",
        "from sklearn import metrics\n",
        "\n",
        "%matplotlib inline"
      ],
      "execution_count": null,
      "outputs": []
    },
    {
      "cell_type": "code",
      "metadata": {
        "id": "EHcNNQ-OQejO"
      },
      "source": [
        "#Importar base de dados do drive (Inserir base de dados no drive!!)\n",
        "\n",
        "from google.colab import drive\n",
        "\n",
        "drive.mount('/content/drive')"
      ],
      "execution_count": null,
      "outputs": []
    },
    {
      "cell_type": "code",
      "metadata": {
        "id": "ydt91C38QckP"
      },
      "source": [
        "#Abrir a base de dados csv com restrição de colunas para não estourar a memória\n",
        "\n",
        "dados = pd.read_csv('/content/drive/My Drive/MICRODADOS_ENEM_2018.csv', sep=';', encoding='iso-8859-1', usecols=['TP_NACIONALIDADE','Q001','Q002', 'Q024', 'Q025', 'Q026','TP_PRESENCA_CN','TP_PRESENCA_CH','TP_PRESENCA_LC','SG_UF_RESIDENCIA','TP_SEXO', 'TP_ESTADO_CIVIL','TP_COR_RACA','TP_ST_CONCLUSAO','TP_ANO_CONCLUIU','TP_ENSINO','TP_ESCOLA','SG_UF_ESC','TP_DEPENDENCIA_ADM_ESC','TP_LOCALIZACAO_ESC','Q006','NU_NOTA_CN', 'NU_NOTA_CH', 'NU_NOTA_LC', 'NU_NOTA_MT', 'NU_NOTA_REDACAO'])\n",
        "\n",
        "#usecols=['SG_UF_RESIDENCIA','TP_SEXO', 'TP_ESTADO_CIVIL','TP_COR_RACA','TP_ST_CONCLUSAO','TP_ANO_CONCLUIU','TP_ENSINO','TP_ESCOLA','SG_UF_ESC','TP_DEPENDENCIA_ADM_ESC','TP_LOCALIZACAO_ESC','Q006','NU_NOTA_CN', 'NU_NOTA_CH', 'NU_NOTA_LC', 'NU_NOTA_MT', 'NU_NOTA_REDACAO']"
      ],
      "execution_count": null,
      "outputs": []
    },
    {
      "cell_type": "code",
      "metadata": {
        "id": "evJJG4C0QckQ"
      },
      "source": [
        "#Visualizar Banco de dados\n",
        "dados.shape"
      ],
      "execution_count": null,
      "outputs": []
    },
    {
      "cell_type": "markdown",
      "metadata": {
        "id": "FI37m1TyQckR"
      },
      "source": [
        "%Descrição das Variáveis Utilizadas%\n",
        "\n",
        "SG_UF_RESIDENCIA - Sigla da Unidade da Federação de residência\n",
        "\n",
        "TP_ESCOLA - Tipo de escola do Ensino Médio (1-Não Respondeu, 2-Pública, 3-Privada, 4-Exterior)\n",
        "\n",
        "NU_NOTA_CN - Nota Ciencias Naturais\n",
        "\n",
        "NU_NOTA_CH - Nota Ciencias Humanas\n",
        "\n",
        "NU_NOTA_LC - Nota de Linguagens e códigos\n",
        "\n",
        "NU_NOTA_MT - Nota de Matemática\n",
        "\n",
        "NU_NOTA_REDACAO - Nota da Redação\n",
        "\n",
        "Q006 - Qual é a renda mensal de sua família? \n",
        "\n",
        "A\tNenhuma renda.\n",
        "\n",
        "B\tAté 954,00.\n",
        "\n",
        "C\tDe 954,01 até 1.431,00.\n",
        "\n",
        "D\tDe 1.431,01 até 1.908,00.\n",
        "\n",
        "E\tDe 1.908,01 até 2.385,00.\n",
        "\n",
        "F\tDe 2.385,01 até 2.862,00.\n",
        "\n",
        "G\tDe 2.862,01 até 3.816,00.\n",
        "\n",
        "H\tDe 3.816,01 até 4.770,00.\n",
        "\n",
        "I\tDe 4.770,01 até 5.724,00.\n",
        "\n",
        "J\tDe 5.724,01 até 6.678,00.\n",
        "\n",
        "K\tDe 6.678,01 até 7.632,00.\n",
        "\n",
        "L\tDe 7.632,01 até 8.586,00.\n",
        "\n",
        "M\tDe 8.586,01 até 9.540,00.\n",
        "\n",
        "N\tDe 9.540,01 até 11.448,00.\n",
        "\n",
        "O\tDe 11.448,01 até 14.310,00.\n",
        "\n",
        "P\tDe 14.310,01 até 19.080,00.\n",
        "\n",
        "Q\tMais de 19.080,00."
      ]
    },
    {
      "cell_type": "markdown",
      "metadata": {
        "id": "RCOnIq37QckS"
      },
      "source": [
        "# Análise das Notas de Matemática "
      ]
    },
    {
      "cell_type": "code",
      "metadata": {
        "id": "sSHdDfJQQckT"
      },
      "source": [
        "#Distribuição das notas de matemática\n",
        "\n",
        "x0 = dados['NU_NOTA_MT'].fillna(0)\n",
        "sns.distplot(x0)"
      ],
      "execution_count": null,
      "outputs": []
    },
    {
      "cell_type": "code",
      "metadata": {
        "id": "OlKiEVhtQckT"
      },
      "source": [
        "dados.head()"
      ],
      "execution_count": null,
      "outputs": []
    },
    {
      "cell_type": "code",
      "metadata": {
        "id": "NyZtkp9PQckU"
      },
      "source": [
        "#Correlação entre as notas\n",
        "corrAlvo = sns.heatmap(dados[['NU_NOTA_MT','NU_NOTA_CN','NU_NOTA_CH','NU_NOTA_LC','NU_NOTA_REDACAO']].corr(method = 'pearson'), annot = True, cmap = 'YlGnBu')\n",
        "corrAlvo = plt.gcf()\n",
        "corrAlvo.set_size_inches(8,6)\n",
        "plt.show()"
      ],
      "execution_count": null,
      "outputs": []
    },
    {
      "cell_type": "code",
      "metadata": {
        "id": "rtifLE6dQckV"
      },
      "source": [
        "# DISTRIBUIÇÃO DAS NOTAS DE MATEMÁTICA POR TIPO DE ESCOLA\n",
        "plt.figure(figsize=(12,4))\n",
        "plt.title('Distribuição notas de Matemática por tipo de Escola')\n",
        "sns.distplot(dados[dados['TP_ESCOLA'] == 2]['NU_NOTA_MT'], kde=True,bins=50, label='Publica')\n",
        "sns.distplot(dados[dados['TP_ESCOLA'] == 3]['NU_NOTA_MT'], kde=True,bins=50, label='Privada')\n",
        "plt.legend()\n",
        "plt.show()"
      ],
      "execution_count": null,
      "outputs": []
    },
    {
      "cell_type": "code",
      "metadata": {
        "id": "6WvT3ZImQckW"
      },
      "source": [
        "#Boxplot Notas de Matemática por tipo de escola\n",
        "plt.figure(figsize=(14,4))\n",
        "ax = sns.catplot(x='TP_ESCOLA', y='NU_NOTA_MT', data = dados, kind=\"box\")\n",
        "plt.show();"
      ],
      "execution_count": null,
      "outputs": []
    },
    {
      "cell_type": "code",
      "metadata": {
        "id": "IGTmqbb0QckW"
      },
      "source": [
        "# MÉDIA DAS NOTAS DE MATEMÁTICA POR TIPO DE ESCOLA\n",
        "dados.groupby('TP_ESCOLA')['NU_NOTA_MT'].mean()"
      ],
      "execution_count": null,
      "outputs": []
    },
    {
      "cell_type": "code",
      "metadata": {
        "id": "PiLivXT4QckX"
      },
      "source": [
        "# DESVIO PADRÃO DAS NOTAS DE MATEMÁTICA POR TIPO DE ESCOLA\n",
        "dados.groupby('TP_ESCOLA')['NU_NOTA_MT'].std()"
      ],
      "execution_count": null,
      "outputs": []
    },
    {
      "cell_type": "code",
      "metadata": {
        "id": "KcFMhMYPQckX"
      },
      "source": [
        "# MEDIANA DAS NOTAS DE MATEMÁTICA POR TIPO DE ESCOLA\n",
        "dados.groupby('TP_ESCOLA')['NU_NOTA_MT'].median()"
      ],
      "execution_count": null,
      "outputs": []
    },
    {
      "cell_type": "code",
      "metadata": {
        "id": "fNpoxJV3QckY"
      },
      "source": [
        "#Variância\n",
        "dados['NU_NOTA_MT'].var()"
      ],
      "execution_count": null,
      "outputs": []
    },
    {
      "cell_type": "code",
      "metadata": {
        "id": "LcmV6wqRQckY"
      },
      "source": [
        "#Distribuição das instâncias por estado do Brasil (Balancear os dados)\n",
        "dados['SG_UF_RESIDENCIA'].value_counts()"
      ],
      "execution_count": null,
      "outputs": []
    },
    {
      "cell_type": "code",
      "metadata": {
        "id": "67saLeexQckZ"
      },
      "source": [
        "#teste para reduzir para 2469 \n",
        "g = dados.groupby('SG_UF_RESIDENCIA')\n",
        "g.apply(lambda x: x.sample(g.size().min()))"
      ],
      "execution_count": null,
      "outputs": []
    },
    {
      "cell_type": "code",
      "metadata": {
        "id": "GARvymFkQcka"
      },
      "source": [
        "y"
      ],
      "execution_count": null,
      "outputs": []
    },
    {
      "cell_type": "code",
      "metadata": {
        "id": "0-0-uGYcQckc"
      },
      "source": [
        "#Nota de matemática, 5 classes\n",
        "\n",
        "#dados['y_true'] = np.where(dados['NU_NOTA_MT']<440, lambda dados: 1)\n",
        "\n",
        "\n",
        "def classe(x):\n",
        "    if x < 440 :\n",
        "        return 1\n",
        "    elif  440<x<490:\n",
        "        return 2\n",
        "    elif 490<x<540:\n",
        "        return 3\n",
        "    elif 540<x<620:\n",
        "        return 4\n",
        "    else:\n",
        "        return 5 \n",
        "\n",
        "dados['y_true'] = dados['NU_NOTA_MT'].apply (lambda x: classe(float(x))) "
      ],
      "execution_count": null,
      "outputs": []
    },
    {
      "cell_type": "code",
      "metadata": {
        "id": "bodYhqdFQckd"
      },
      "source": [
        "y_true = dados['y_true']"
      ],
      "execution_count": null,
      "outputs": []
    },
    {
      "cell_type": "code",
      "metadata": {
        "id": "gOztc_HxQcke"
      },
      "source": [
        ""
      ],
      "execution_count": null,
      "outputs": []
    },
    {
      "cell_type": "code",
      "metadata": {
        "id": "_1Xs7adYQcke"
      },
      "source": [
        ""
      ],
      "execution_count": null,
      "outputs": []
    },
    {
      "cell_type": "code",
      "metadata": {
        "id": "0PR9I65gQcke"
      },
      "source": [
        "#Entre 400 e 500\n",
        "dados = dados.loc[dados['NU_NOTA_MT'] < 620]\n",
        "dados = dados.loc[dados['NU_NOTA_MT'] >= 540]\n",
        "dados.count()"
      ],
      "execution_count": null,
      "outputs": []
    },
    {
      "cell_type": "code",
      "metadata": {
        "id": "75YpiXKMQckf"
      },
      "source": [
        "#Entre 500 e 600\n",
        "nota56 = dados.loc[dados['NU_NOTA_MT'] < 600]\n",
        "nota56 = dados.loc[dados['NU_NOTA_MT'] > 500]\n",
        "dados.count()"
      ],
      "execution_count": null,
      "outputs": []
    },
    {
      "cell_type": "code",
      "metadata": {
        "id": "97_zYBIYQckf"
      },
      "source": [
        "#Entre 600 e 700\n",
        "dados = dados.loc[dados['NU_NOTA_MT'] < 700]\n",
        "dados = dados.loc[dados['NU_NOTA_MT'] > 600]\n",
        "dados.count()"
      ],
      "execution_count": null,
      "outputs": []
    },
    {
      "cell_type": "code",
      "metadata": {
        "id": "yE4b08PDQckg"
      },
      "source": [
        "#Entre 700 e 800\n",
        "dados = dados.loc[dados['NU_NOTA_MT'] < 800]\n",
        "dados = dados.loc[dados['NU_NOTA_MT'] > 700]\n",
        "dados.count()"
      ],
      "execution_count": null,
      "outputs": []
    },
    {
      "cell_type": "code",
      "metadata": {
        "id": "8OCvqS-YQckg"
      },
      "source": [
        "# DISTRIBUIÇÃO DAS NOTAS DE MATEMÁTICA POR SEXO\n",
        "plt.figure(figsize=(12,4))\n",
        "plt.title('Distribuição notas de Matemática por Sexo')\n",
        "sns.distplot(dados[dados['TP_SEXO'] == 'M']['NU_NOTA_MT'], kde=True,bins=50, label='Masculino')\n",
        "sns.distplot(dados[dados['TP_SEXO'] == 'F']['NU_NOTA_MT'], kde=True,bins=50, label='Feminino')\n",
        "plt.legend()\n",
        "plt.show()"
      ],
      "execution_count": null,
      "outputs": []
    },
    {
      "cell_type": "code",
      "metadata": {
        "id": "fUmP4FMnQckh"
      },
      "source": [
        "dados['TP_ANO_CONCLUIU']"
      ],
      "execution_count": null,
      "outputs": []
    },
    {
      "cell_type": "code",
      "metadata": {
        "id": "RJrBm7TgQckh"
      },
      "source": [
        "#Analisar se as maiores notas são de pessoas mais velhas ou das que acabaram de sair do EM. \n",
        "plt.figure(figsize=(12,4))\n",
        "plt.title('Distribuição notas de Matemática por Ano')\n",
        "sns.distplot(dados[dados['TP_ANO_CONCLUIU'] == 1]['NU_NOTA_MT'], kde=True,bins=50, label='2017')\n",
        "sns.distplot(dados[dados['TP_ANO_CONCLUIU'] != 1]['NU_NOTA_MT'], kde=True,bins=50, label='Diferente 2017')\n",
        "plt.legend()\n",
        "plt.show()"
      ],
      "execution_count": null,
      "outputs": []
    },
    {
      "cell_type": "code",
      "metadata": {
        "id": "AhKD14bhQcki"
      },
      "source": [
        "# Distribuição das notas de matemática por Raça\n",
        "\n",
        "plt.figure(figsize=(14,6))\n",
        "plt.title('Distribuição notas de Matemática')\n",
        "sns.distplot(dados[dados['TP_COR_RACA']==0]['NU_NOTA_MT'], kde=True,bins=50, label='Não declarado')\n",
        "sns.distplot(dados[dados['TP_COR_RACA']==1]['NU_NOTA_MT'], kde=True,bins=50, label='Branca')\n",
        "sns.distplot(dados[dados['TP_COR_RACA']==2]['NU_NOTA_MT'], kde=True,bins=50, label='Preta')\n",
        "sns.distplot(dados[dados['TP_COR_RACA']==3]['NU_NOTA_MT'], kde=True,bins=50, label='Parda')\n",
        "sns.distplot(dados[dados['TP_COR_RACA']==4]['NU_NOTA_MT'], kde=True,bins=50, label='Amarela')\n",
        "sns.distplot(dados[dados['TP_COR_RACA']==5]['NU_NOTA_MT'], kde=True,bins=50, label='Indígena ')\n",
        "sns.distplot(dados[dados['TP_COR_RACA']==6]['NU_NOTA_MT'], kde=True,bins=50, label='Não dispõe da informação')\n",
        "plt.legend()\n",
        "plt.show();"
      ],
      "execution_count": null,
      "outputs": []
    },
    {
      "cell_type": "code",
      "metadata": {
        "id": "TPpp-qa2Qckj"
      },
      "source": [
        "# NÚMERO DE CANDIDATOS QUE FALTARAM OU FORAM DESCLASSIFICADOS NA PROVA DE Ciências da Natureza\n",
        "\n",
        "Nota_CN_Missing = dados[(dados['NU_NOTA_CN'].isnull() == True)]['NU_NOTA_MT'].shape[0]\n",
        "Nota_CN_Missing"
      ],
      "execution_count": null,
      "outputs": []
    },
    {
      "cell_type": "code",
      "metadata": {
        "id": "e7U1Q8cRQckj"
      },
      "source": [
        "# DOS CANDIDATOS, QUANTOS FORAM DESCLASSIFICADOS OU FALTARAM NA PROVA DE MATEMÁTICA?\n",
        "\n",
        "dados[(dados['NU_NOTA_CH'].isnull() == True)&(dados['NU_NOTA_MT'].isnull() == True)].shape[0]"
      ],
      "execution_count": null,
      "outputs": []
    },
    {
      "cell_type": "code",
      "metadata": {
        "id": "sksT8CfSQckk"
      },
      "source": [
        "# PORCENTAGEM DE CANDIDATOS QUE FORAM DESCLASSIFICADOS OU FALTARAM EM CN, MAS TIVERAM ALGUMA NOTA \n",
        "# EM MATEMÁTICA \n",
        "\n",
        "(dados[(dados['NU_NOTA_CN'].isnull() == True)&(dados['NU_NOTA_MT'].isnull() == False)].shape[0]/Nota_CN_Missing)*100\n",
        "\n",
        "# Observe que nenhuma das pessoas que foram desclassificadas ou faltaram em Ciências da Natureza, \n",
        "# tiveram alguma nota em Matemática"
      ],
      "execution_count": null,
      "outputs": []
    },
    {
      "cell_type": "code",
      "metadata": {
        "id": "Iem8SVJ_Qckk"
      },
      "source": [
        "outlier_CN = list(dados[(dados['NU_NOTA_CN'].isnull() == True)&(dados['NU_NOTA_MT'].isnull() == False)].index)"
      ],
      "execution_count": null,
      "outputs": []
    },
    {
      "cell_type": "code",
      "metadata": {
        "id": "0yhW26xNQckk"
      },
      "source": [
        "# PORCENTAGEM DOS CANDIDATOS CLASSIFICADOS ANALIZANDO ESSE QUESITO\n",
        "\n",
        "(dados[(dados['NU_NOTA_CN'].isnull() == True)&(dados['NU_NOTA_MT'].isnull() == True)].shape[0]/Nota_CN_Missing)*100"
      ],
      "execution_count": null,
      "outputs": []
    },
    {
      "cell_type": "code",
      "metadata": {
        "id": "IEm4Qu3VQckl"
      },
      "source": [
        "# Número de candidatos que faltaram ou foram desclassificadas na prova de Ciências Humanas\n",
        "\n",
        "Nota_CH_Missing = dados[(dados['NU_NOTA_CH'].isnull() == True)]['NU_NOTA_MT'].shape[0]\n",
        "Nota_CH_Missing"
      ],
      "execution_count": null,
      "outputs": []
    },
    {
      "cell_type": "code",
      "metadata": {
        "id": "AWA3YMKdQckm"
      },
      "source": [
        "# Porcentagem de candidatos que foram desclassificados ou faltaram em CH, mas tiveram alguma \n",
        "#nota em Matemática\n",
        "\n",
        "(dados[(dados['NU_NOTA_CH'].isnull() == True)&(dados['NU_NOTA_MT'].isnull() == False)].shape[0]/Nota_CH_Missing)*100"
      ],
      "execution_count": null,
      "outputs": []
    },
    {
      "cell_type": "code",
      "metadata": {
        "id": "o9_B7cWiQckm"
      },
      "source": [
        "# Porcentagem de candidatos que estavam presentes em ambas as provas\n",
        "\n",
        "(dados[(dados['NU_NOTA_CH'].isnull() == True)&(dados['NU_NOTA_MT'].isnull() == True)].shape[0]/Nota_CH_Missing)*100"
      ],
      "execution_count": null,
      "outputs": []
    },
    {
      "cell_type": "code",
      "metadata": {
        "id": "btnCp-_vQckn"
      },
      "source": [
        "outlier_CH = list(dados[(dados['NU_NOTA_CH'].isnull() == True)&(dados['NU_NOTA_MT'].isnull() == False)].index)"
      ],
      "execution_count": null,
      "outputs": []
    },
    {
      "cell_type": "code",
      "metadata": {
        "id": "mH99Nf2YQckn"
      },
      "source": [
        "# NÚMERO DE PESSOAS QUE FALTARAM OU FORAM DESCLASSIFICADAS NA PROVA DE LINGUAGENS E CÓDIGOS\n",
        "\n",
        "Nota_LC_Missing = dados[(dados['NU_NOTA_LC'].isnull() == True)]['NU_NOTA_MT'].shape[0]\n",
        "Nota_LC_Missing"
      ],
      "execution_count": null,
      "outputs": []
    },
    {
      "cell_type": "code",
      "metadata": {
        "id": "qQSn1Y9eQckn"
      },
      "source": [
        "# DOS CANDIDATOS, QUANTOS FORAM DESCLASSIFICADOS OU FALTARAM NA PROVA DE MATEMÁTICA?\n",
        "\n",
        "dados[(dados['NU_NOTA_LC'].isnull() == True)&(dados['NU_NOTA_MT'].isnull() == True)].shape[0]"
      ],
      "execution_count": null,
      "outputs": []
    },
    {
      "cell_type": "code",
      "metadata": {
        "id": "h9-G2vBhQcko"
      },
      "source": [
        "# PORCENTAGEM DE CANDIDATOS QUE FORAM DESCLASSIFICADOS OU FALTARAM EM LC, MAS TIVERAM ALGUMA \n",
        "# NOTA EM MATEMÁTICA\n",
        "\n",
        "(dados[(dados['NU_NOTA_LC'].isnull() == True)&(dados['NU_NOTA_MT'].isnull() == True)].shape[0]/Nota_LC_Missing)*100"
      ],
      "execution_count": null,
      "outputs": []
    },
    {
      "cell_type": "code",
      "metadata": {
        "id": "FUJvUxlAQcko"
      },
      "source": [
        ""
      ],
      "execution_count": null,
      "outputs": []
    },
    {
      "cell_type": "markdown",
      "metadata": {
        "id": "mDyCeeBLQckp"
      },
      "source": [
        "# Pré processamento #\n",
        "% Etapa de préprocessamento testando 7 técnicas diferentes%"
      ]
    },
    {
      "cell_type": "code",
      "metadata": {
        "id": "C-bXiJdFQckp"
      },
      "source": [
        "#Método de redução de instâncias\n",
        "#Dados Faltantes\n",
        "dados.isnull().sum()"
      ],
      "execution_count": null,
      "outputs": []
    },
    {
      "cell_type": "code",
      "metadata": {
        "id": "6RsbPG5BQckq"
      },
      "source": [
        "msno.bar(dados.sample(10000))\n",
        "\n",
        "#sns.heatmap(dados.isnull(), cbar = False)"
      ],
      "execution_count": null,
      "outputs": []
    },
    {
      "cell_type": "code",
      "metadata": {
        "id": "XKkp8_U_Qckq"
      },
      "source": [
        "# PORCENTAGEM DE VALORES FALTANTES POR ATRIBUTOS\n",
        "\n",
        "(dados.isnull().sum() / dados.shape[0]) * 100"
      ],
      "execution_count": null,
      "outputs": []
    },
    {
      "cell_type": "code",
      "metadata": {
        "id": "Mc5DIn_6Qckr"
      },
      "source": [
        "# ELIMINANDO OS ATRIBUTOS COM PORCENTAGEM ACIMA DE 50% DE VALORES FALTANTES\n",
        "\n",
        "excluColsNull = ['TP_DEPENDENCIA_ADM_ESC', 'TP_LOCALIZACAO_ESC', 'SG_UF_ESC'] \n",
        "\n",
        "dados.drop(excluColsNull, axis = 1, inplace=True)"
      ],
      "execution_count": null,
      "outputs": []
    },
    {
      "cell_type": "code",
      "metadata": {
        "id": "QuVeuzlLQckr"
      },
      "source": [
        "#Eliminando nota de matemática igual a zero\n",
        "\n",
        "dados[(dados['NU_NOTA_MT']==0)].shape[0]"
      ],
      "execution_count": null,
      "outputs": []
    },
    {
      "cell_type": "code",
      "metadata": {
        "id": "DG8bjYOGQckr"
      },
      "source": [
        "notaMT0 = dados[dados['NU_NOTA_MT']== 0]['NU_NOTA_MT']"
      ],
      "execution_count": null,
      "outputs": []
    },
    {
      "cell_type": "code",
      "metadata": {
        "id": "wpF_ZIhDQcks"
      },
      "source": [
        "outlier_MT = list(dados[(dados['NU_NOTA_MT']==0)].index)"
      ],
      "execution_count": null,
      "outputs": []
    },
    {
      "cell_type": "code",
      "metadata": {
        "id": "mkFHRAV-Qcks"
      },
      "source": [
        "# EXCLUSÃO DE DADOS NOS QUAIS O CANDIDATO FALTOU EM CN, CH OU TEVE NOTA EM MATEMÁTICA IGUAL A ZERO\n",
        "\n",
        "outliers = list(set(outlier_CN + outlier_CH + outlier_MT))"
      ],
      "execution_count": null,
      "outputs": []
    },
    {
      "cell_type": "code",
      "metadata": {
        "id": "J-6PWwonQckt"
      },
      "source": [
        "len(outliers)"
      ],
      "execution_count": null,
      "outputs": []
    },
    {
      "cell_type": "code",
      "metadata": {
        "id": "xgUxFXfSQcku"
      },
      "source": [
        "dados= dados.drop(outliers)"
      ],
      "execution_count": null,
      "outputs": []
    },
    {
      "cell_type": "code",
      "metadata": {
        "id": "bMf8UX8DQckv"
      },
      "source": [
        "dados[(dados['TP_PRESENCA_CN']==0) &(dados['NU_NOTA_MT']>600)].shape[0]"
      ],
      "execution_count": null,
      "outputs": []
    },
    {
      "cell_type": "code",
      "metadata": {
        "id": "FkLecoSsQckv"
      },
      "source": [
        "dados[(dados['TP_PRESENCA_CH']==0) &(dados['NU_NOTA_MT']>600)].shape[0]"
      ],
      "execution_count": null,
      "outputs": []
    },
    {
      "cell_type": "code",
      "metadata": {
        "id": "Bg_X1hILQckv"
      },
      "source": [
        "outliersCN = list((dados[(dados['TP_PRESENCA_CN']==0) &(dados['NU_NOTA_MT']>600)]).index)\n",
        "outliersCN"
      ],
      "execution_count": null,
      "outputs": []
    },
    {
      "cell_type": "code",
      "metadata": {
        "id": "M5UTxIi5Qckw"
      },
      "source": [
        "outliersCH = list((dados[(dados['TP_PRESENCA_CH']==0) &(dados['NU_NOTA_MT']>600)]).index)\n",
        "outliersCH"
      ],
      "execution_count": null,
      "outputs": []
    },
    {
      "cell_type": "code",
      "metadata": {
        "id": "tNJAvLKUQckw"
      },
      "source": [
        "outliersTP = list(set(outliersCN + outliersCH))"
      ],
      "execution_count": null,
      "outputs": []
    },
    {
      "cell_type": "code",
      "metadata": {
        "id": "94zZzuwjQckx"
      },
      "source": [
        "dados= dados.drop(outliersTP)"
      ],
      "execution_count": null,
      "outputs": []
    },
    {
      "cell_type": "code",
      "metadata": {
        "id": "0v_0AgmXQckx"
      },
      "source": [
        "#VERIFICACO A DISTRIBUIÇÃO DAS NOTAS LEVANDO EM CONSIDERAÇÃO OS VALORES FALTANTES\n",
        "\n",
        "sns.distplot(dados['NU_NOTA_LC'].fillna(0), label='NOTA_LC')\n",
        "sns.distplot(dados['NU_NOTA_CH'].fillna(0), label='NOTA_CH')\n",
        "sns.distplot(dados['NU_NOTA_LC'].fillna(0), label='NOTA_LC')\n",
        "sns.distplot(dados['NU_NOTA_REDACAO'].fillna(0), label='NOTA_REDACAO')\n",
        "plt.legend()\n",
        "plt.show()"
      ],
      "execution_count": null,
      "outputs": []
    },
    {
      "cell_type": "code",
      "metadata": {
        "id": "BeGToAVAQcky"
      },
      "source": [
        "# INFERIR ZERO AOS DADOS FALTANTES. PARTINDO DA IDÉIA QUE FALTA IMPLICA EM NOTA ZERO\n",
        "dados = dados.fillna(value={'NU_NOTA_CN':0,'NU_NOTA_CH':0,'NU_NOTA_LC':0,\n",
        "                                  'NU_NOTA_REDACAO':0, 'TP_STATUS_REDACAO':0, 'NU_NOTA_MT':0})"
      ],
      "execution_count": null,
      "outputs": []
    },
    {
      "cell_type": "code",
      "metadata": {
        "id": "Z2GyZrq7Qcky"
      },
      "source": [
        "dados.columns.values"
      ],
      "execution_count": null,
      "outputs": []
    },
    {
      "cell_type": "code",
      "metadata": {
        "id": "pd3HJ3zKQcky"
      },
      "source": [
        "# PORCENTAGEM DE VALORES FALTANTES POR ATRIBUTO\n",
        "\n",
        "(dados.isnull().sum() / dados.shape[0]) * 100"
      ],
      "execution_count": null,
      "outputs": []
    },
    {
      "cell_type": "code",
      "metadata": {
        "id": "7EfHvCUfQckz"
      },
      "source": [
        "#Deletar o restante dos dados faltantes\n",
        "\n",
        "dados = dados.dropna(axis=0)"
      ],
      "execution_count": null,
      "outputs": []
    },
    {
      "cell_type": "code",
      "metadata": {
        "id": "w48K1xGxQckz"
      },
      "source": [
        "dados.shape"
      ],
      "execution_count": null,
      "outputs": []
    },
    {
      "cell_type": "code",
      "metadata": {
        "id": "2M_ikQGyQck0"
      },
      "source": [
        "dados.head()"
      ],
      "execution_count": null,
      "outputs": []
    },
    {
      "cell_type": "code",
      "metadata": {
        "id": "JA7btRWOQck0"
      },
      "source": [
        "# TRANSFOAMNDO DADOS DE TEXTUAIS EM NÚMERICOS\n",
        "\n",
        "from sklearn.preprocessing import LabelEncoder\n",
        "\n",
        "var_cat1 = ['SG_UF_RESIDENCIA', 'TP_SEXO', 'TP_COR_RACA',\n",
        "       'TP_NACIONALIDADE', 'TP_ST_CONCLUSAO','TP_ESCOLA',\n",
        "       'TP_PRESENCA_CN', 'TP_PRESENCA_CH', 'TP_PRESENCA_LC',\n",
        "        'Q001','Q002', 'Q006', 'Q024', 'Q025', 'Q026']\n",
        "\n",
        "le = LabelEncoder()\n",
        "\n",
        "for i in var_cat1: \n",
        "    dados[i] = le.fit_transform(dados[i].astype(str))\n",
        "    dados.dtypes"
      ],
      "execution_count": null,
      "outputs": []
    },
    {
      "cell_type": "code",
      "metadata": {
        "id": "DGqdVOf8Qck1"
      },
      "source": [
        "#Filtro de baixa correlação\n",
        "\n",
        "# POR MEIO DAS CORRELAÇÕES POSITIVAS E MAIS ALTAS, SELECIONAMOS AS FEATURES MAIS RELEVANTES PARA\n",
        "# O NOSSO MODELO \n",
        "\n",
        "# 1º VAMOS VERIFICAR A CORRELAÇÃO DE TODAS AS VARIÁVEIS DO NOSSO CONJUNTO \n",
        "\n",
        "corrAlvo1 = sns.heatmap(dados.corr(method = 'pearson'), annot=True, cmap = 'YlGnBu')\n",
        "\n",
        "corrAlvo = plt.gcf()\n",
        "corrAlvo.set_size_inches(30,20)\n",
        "plt.show()"
      ],
      "execution_count": null,
      "outputs": []
    },
    {
      "cell_type": "code",
      "metadata": {
        "id": "kpcemiS6Qck1"
      },
      "source": [
        "#Using Pearson Correlation (teste)\n",
        "plt.figure(figsize=(30,20))\n",
        "cor = dados.corr()\n",
        "sns.heatmap(cor, annot=True, cmap=plt.cm.Reds)\n",
        "plt.show()"
      ],
      "execution_count": null,
      "outputs": []
    },
    {
      "cell_type": "code",
      "metadata": {
        "id": "MArni3BtQck2"
      },
      "source": [
        "#Correlation with output variable\n",
        "cor_target = abs(cor[\"NU_NOTA_MT\"])\n",
        "#Seleção dos atributos\n",
        "relevant_features = cor_target[cor_target>0.2]\n",
        "relevant_features"
      ],
      "execution_count": null,
      "outputs": []
    },
    {
      "cell_type": "code",
      "metadata": {
        "id": "Nv5v2Vm2Qck3"
      },
      "source": [
        "# CORRELAÇÃO ENTRE A NOTA DE MATEMÁTICA E OUTRAS NOTAS\n",
        "\n",
        "dados[['NU_NOTA_MT','NU_NOTA_CN','NU_NOTA_CH','NU_NOTA_LC','NU_NOTA_REDACAO']].corr()"
      ],
      "execution_count": null,
      "outputs": []
    },
    {
      "cell_type": "code",
      "metadata": {
        "id": "uTUcYPr5Qck3"
      },
      "source": [
        "# CORRELAÇÃO ENTRE AS FALTAS NAS PROVAS \n",
        "\n",
        "dados[['TP_PRESENCA_CN','TP_PRESENCA_CH','TP_PRESENCA_LC']].corr()"
      ],
      "execution_count": null,
      "outputs": []
    },
    {
      "cell_type": "code",
      "metadata": {
        "id": "TTajytpYQck4"
      },
      "source": [
        "# CORRELAÇÃO ENTRE AS PRESENÇAS NAS PROVAS - GRAFICAMENTE\n",
        "\n",
        "corrAlvo2 = sns.heatmap(dados[['TP_PRESENCA_CN','TP_PRESENCA_CH','TP_PRESENCA_LC']]\n",
        "               .corr(method='pearson'), annot=True, cmap='YlGnBu')\n",
        "corrAlvo=plt.gcf()\n",
        "corrAlvo.set_size_inches(8,6)\n",
        "plt.show()\n",
        "\n",
        "# Percebemos que existe uma correlação muito alta entre faltas nas provas de outras disciplinas \n",
        "# e faltas na prova de matemática. Assim, concluímos que alunos que faltam em outras provas tendem\n",
        "# a faltar também na prova de matemática."
      ],
      "execution_count": null,
      "outputs": []
    },
    {
      "cell_type": "code",
      "metadata": {
        "id": "NEJQ26qPQck4"
      },
      "source": [
        ""
      ],
      "execution_count": null,
      "outputs": []
    },
    {
      "cell_type": "code",
      "metadata": {
        "id": "MqGQ0V5RQck4"
      },
      "source": [
        "dados.head()"
      ],
      "execution_count": null,
      "outputs": []
    },
    {
      "cell_type": "code",
      "metadata": {
        "id": "gw0fnLWlQck5"
      },
      "source": [
        "# APÓS A LIMPEZA NOSSO CONJ DE DADOS PERMANECE COM AS SEGUINTES COLUNAS\n",
        "dados.info()"
      ],
      "execution_count": null,
      "outputs": []
    },
    {
      "cell_type": "markdown",
      "metadata": {
        "id": "tnKDucm5Qck5"
      },
      "source": [
        "PCA"
      ]
    },
    {
      "cell_type": "code",
      "metadata": {
        "id": "Aje3uJEYQck6"
      },
      "source": [
        "#PCA\n",
        "\n",
        "from sklearn.datasets import fetch_openml\n",
        "from sklearn.decomposition import PCA\n",
        "from sklearn.preprocessing import StandardScaler\n",
        "from sklearn import metrics\n",
        "from sklearn.model_selection import train_test_split"
      ],
      "execution_count": null,
      "outputs": []
    },
    {
      "cell_type": "code",
      "metadata": {
        "id": "B9UUtg8ZQck6"
      },
      "source": [
        "# test_size: qual proporção de dados originais é usada para o conjunto de testes\n",
        "\n",
        "train_x, test_x, train_y, test_y = train_test_split(\n",
        "    dados, dados['NU_NOTA_MT'], test_size=1/7.0, random_state=0)"
      ],
      "execution_count": null,
      "outputs": []
    },
    {
      "cell_type": "code",
      "metadata": {
        "id": "K5KIVoOdQck6"
      },
      "source": [
        "print(train_x.shape)"
      ],
      "execution_count": null,
      "outputs": []
    },
    {
      "cell_type": "code",
      "metadata": {
        "id": "8Y8Ll6a7Qck7"
      },
      "source": [
        "print(train_y.shape)"
      ],
      "execution_count": null,
      "outputs": []
    },
    {
      "cell_type": "code",
      "metadata": {
        "id": "RWxHSc6RQck7"
      },
      "source": [
        "print(test_x.shape)"
      ],
      "execution_count": null,
      "outputs": []
    },
    {
      "cell_type": "code",
      "metadata": {
        "id": "Ltzb3_wTQck8"
      },
      "source": [
        "print(test_y.shape)"
      ],
      "execution_count": null,
      "outputs": []
    },
    {
      "cell_type": "markdown",
      "metadata": {
        "id": "Hab1iAksQck8"
      },
      "source": [
        "# Padronizando os dados do PCA"
      ]
    },
    {
      "cell_type": "code",
      "metadata": {
        "id": "gGXga3piQck8"
      },
      "source": [
        "from sklearn.preprocessing import StandardScaler\n",
        "scaler = StandardScaler()\n",
        "\n",
        "# Fit on training set only.\n",
        "scaler.fit(train_x)\n",
        "\n",
        "# Apply transform to both the training set and the test set.\n",
        "train_x = scaler.transform(train_x)\n",
        "test_x = scaler.transform(test_x)"
      ],
      "execution_count": null,
      "outputs": []
    },
    {
      "cell_type": "code",
      "metadata": {
        "id": "1HezAQC_Qck9"
      },
      "source": [
        "# PCA para acelerar algoritmos de aprendizado de máquina (Logistic Regression)\n",
        "#Passo 0: Importar e usar o PCA. Após o PCA, aplicar um algoritmo de ML aos dados transformados"
      ],
      "execution_count": null,
      "outputs": []
    },
    {
      "cell_type": "code",
      "metadata": {
        "id": "s59S9nlsQck9"
      },
      "source": [
        "from sklearn.decomposition import PCA"
      ],
      "execution_count": null,
      "outputs": []
    },
    {
      "cell_type": "code",
      "metadata": {
        "id": "623J3VkJQck-"
      },
      "source": [
        "#Faça uma instância do modelo\n",
        "\n",
        "pca = PCA(0.9)"
      ],
      "execution_count": null,
      "outputs": []
    },
    {
      "cell_type": "code",
      "metadata": {
        "id": "N3hediGgQck-"
      },
      "source": [
        "# Colocar o PCA no conjunto de treinamento. Nota: o PCA está apenas no conjunto de treinamento\n",
        "\n",
        "pca.fit(train_x)"
      ],
      "execution_count": null,
      "outputs": []
    },
    {
      "cell_type": "code",
      "metadata": {
        "id": "YXhP3WbrQck-"
      },
      "source": [
        "pca.n_components_"
      ],
      "execution_count": null,
      "outputs": []
    },
    {
      "cell_type": "code",
      "metadata": {
        "id": "pxriiUkxQck_"
      },
      "source": [
        "#Aplique o mapeamento (transformação) ao conjunto de treinamento e teste.\n",
        "\n",
        "train_x = pca.transform(train_x)\n",
        "test_x = pca.transform(test_x)"
      ],
      "execution_count": null,
      "outputs": []
    },
    {
      "cell_type": "code",
      "metadata": {
        "id": "UNyYqNXDQck_"
      },
      "source": [
        "#Etapa 1: importar o modelo que vou usar\n",
        "\n",
        "#No sklearn, todos os modelos de aprendizado de máquina são implementados como classes Python\n",
        "from sklearn.linear_model import LinearRegression\n",
        "from sklearn.feature_selection import RFE"
      ],
      "execution_count": null,
      "outputs": []
    },
    {
      "cell_type": "code",
      "metadata": {
        "id": "DGkKE70IQck_"
      },
      "source": [
        "#Etapa 2: criar uma instância do modelo\n",
        "\n",
        "model = LinearRegression()\n",
        "#Initializing RFE model\n",
        "rfe = RFE(model, 7)"
      ],
      "execution_count": null,
      "outputs": []
    },
    {
      "cell_type": "code",
      "metadata": {
        "id": "FtHu8VFAQclA"
      },
      "source": [
        "#Etapa 3: treinando o modelo nos dados, armazenando as informações aprendidas com os dados\n",
        "\n",
        "#O modelo está aprendendo a relação entre x (dígitos) e y (rótulos)\n",
        "\n",
        "model.fit(train_x, train_y)"
      ],
      "execution_count": null,
      "outputs": []
    },
    {
      "cell_type": "code",
      "metadata": {
        "id": "RGPIINE8QclA"
      },
      "source": [
        "#Etapa 4: prever os rótulos de novos dados (novas notas de Matemática)\n",
        "\n",
        "#Usa as informações que o modelo aprendeu durante o processo de treinamento do modelo\n",
        "\n",
        "model.predict(test_x[0].reshape(1,-1))"
      ],
      "execution_count": null,
      "outputs": []
    },
    {
      "cell_type": "code",
      "metadata": {
        "id": "9FiUDIuIQclB"
      },
      "source": [
        "model.predict(test_x[0:10])"
      ],
      "execution_count": null,
      "outputs": []
    },
    {
      "cell_type": "code",
      "metadata": {
        "id": "XUmV2QZwQclB"
      },
      "source": [
        "score = model.score(test_x, test_y)\n",
        "print(score)"
      ],
      "execution_count": null,
      "outputs": []
    },
    {
      "cell_type": "code",
      "metadata": {
        "id": "Uod1nOiSQclB"
      },
      "source": [
        "#Pode criar uma tabela com os valores - .99, .95, .90 e .85\n",
        "#.85 - 89%\n",
        "#.90 - 89%\n",
        "#.95 - 89%\n",
        "#.99 - 97%\n",
        "\n",
        "pd.DataFrame(data = [[.99, 17, .97],\n",
        "                     [.95, 14, .89],\n",
        "                     [.90, 12, .89],\n",
        "                     [.85, 10, .89]], \n",
        "             columns = ['Variação (%)',\n",
        "                      'Número de componentes', \n",
        "                       'Precisão (%)'])"
      ],
      "execution_count": null,
      "outputs": []
    },
    {
      "cell_type": "markdown",
      "metadata": {
        "id": "Mb7ZkgIxQclC"
      },
      "source": [
        "Método Wrapper"
      ]
    },
    {
      "cell_type": "code",
      "metadata": {
        "id": "S4aOIEwNQclC"
      },
      "source": [
        "#Adicionando uma coluna constante de unidades, obrigatória para o modelo sm.OLS\n",
        "import statsmodels.api as sm\n",
        "\n",
        "X_1 = sm.add_constant(train_x)\n",
        "\n",
        "#Fitting sm.OLS model\n",
        "model = sm.OLS(train_y,X_1).fit()\n",
        "model.pvalues"
      ],
      "execution_count": null,
      "outputs": []
    },
    {
      "cell_type": "code",
      "metadata": {
        "id": "XBKcf6DNQclD"
      },
      "source": [
        "#Backward Elimination\n",
        "cols = list(dados.columns)\n",
        "pmax = 1\n",
        "while (len(cols)>0):\n",
        "    p= []\n",
        "    X_1 = train_x[cols]\n",
        "    X_1 = sm.add_constant(X_1)\n",
        "    model = sm.OLS(train_y,X_1).fit()\n",
        "    p = pd.Series(model.pvalues.values[1:],index = cols)      \n",
        "    pmax = max(p)\n",
        "    feature_with_p_max = p.idxmax()\n",
        "    if(pmax>0.05):\n",
        "        cols.remove(feature_with_p_max)\n",
        "    else:\n",
        "        break\n",
        "selected_features_BE = cols"
      ],
      "execution_count": null,
      "outputs": []
    },
    {
      "cell_type": "code",
      "metadata": {
        "id": "-Y70bmAMQclD"
      },
      "source": [
        "#Esse é o conjunto final de variáveis Q25 foi eliminado\n",
        "selected_features_BE"
      ],
      "execution_count": null,
      "outputs": []
    },
    {
      "cell_type": "code",
      "metadata": {
        "id": "lpqWEv8jQclD"
      },
      "source": [
        "#Recursive Feature Elimination\n",
        "\n",
        "from sklearn.linear_model import LinearRegression\n",
        "from sklearn.feature_selection import RFE\n",
        "\n",
        "model = LinearRegression()\n",
        "#Initializing RFE model\n",
        "rfe = RFE(model, 7)\n",
        "#Transforming data using RFE\n",
        "X_rfe = rfe.fit_transform(train_x,train_y)  \n",
        "#Fitting the data to model\n",
        "model.fit(X_rfe,train_y)\n",
        "print(rfe.support_)\n",
        "print(rfe.ranking_)"
      ],
      "execution_count": null,
      "outputs": []
    },
    {
      "cell_type": "markdown",
      "metadata": {
        "id": "XJqLy_54QclE"
      },
      "source": [
        "O método Recursive Feature Elimination (RFE) funciona removendo recursivamente atributos e construindo um modelo nos atributos que permanecem. Ele usa a métrica de precisão para classificar o recurso de acordo com sua importância. O método RFE leva o modelo a ser usado e o número de recursos necessários como entrada. Em seguida, fornece a classificação de todas as variáveis, sendo 1 a mais importante. Ele também oferece suporte, sendo True um recurso relevante e Falso um recurso irrelevante.\n",
        "\n",
        "Aqui, pegamos o modelo LinearRegression com 7 recursos e o RFE classificou os recursos como acima, mas a seleção do número '7' foi aleatória. Agora, precisamos encontrar o número ideal de recursos, para os quais a precisão é mais alta. Fazemos isso usando o loop que começa com 1 recurso e vai até 23. Em seguida, escolhemos aquele para o qual a precisão é mais alta."
      ]
    },
    {
      "cell_type": "code",
      "metadata": {
        "id": "hwT2pxG0QclE"
      },
      "source": [
        "X = dados.drop(\"NU_NOTA_MT\",1)\n",
        "y = dados[\"NU_NOTA_MT\"]"
      ],
      "execution_count": null,
      "outputs": []
    },
    {
      "cell_type": "code",
      "metadata": {
        "id": "d-Um_FlsQclF"
      },
      "source": [
        "#no of features\n",
        "nof_list=np.arange(1,23)            \n",
        "high_score=0\n",
        "#Variable to store the optimum features\n",
        "nof=0           \n",
        "score_list =[]\n",
        "for n in range(len(nof_list)):\n",
        "    X_train, X_test, y_train, y_test = train_test_split(X,y, test_size = 0.3, random_state = 0)\n",
        "    model = LinearRegression()\n",
        "    rfe = RFE(model,nof_list[n])\n",
        "    X_train_rfe = rfe.fit_transform(X_train,y_train)\n",
        "    X_test_rfe = rfe.transform(X_test)\n",
        "    model.fit(X_train_rfe,y_train)\n",
        "    score = model.score(X_test_rfe,y_test)\n",
        "    score_list.append(score)\n",
        "    if(score>high_score):\n",
        "        high_score = score\n",
        "        nof = nof_list[n]"
      ],
      "execution_count": null,
      "outputs": []
    },
    {
      "cell_type": "code",
      "metadata": {
        "id": "9LAkyhcbQclF"
      },
      "source": [
        "print(\"Optimum number of features: %d\" %nof)\n",
        "print(\"Score with %d features: %f\" % (nof, high_score))"
      ],
      "execution_count": null,
      "outputs": []
    },
    {
      "cell_type": "markdown",
      "metadata": {
        "id": "n8hbvbxtQclF"
      },
      "source": [
        "O número ideal de recursos é 22. Agora, alimentamos 22 como número de recursos ao RFE e obtemos o conjunto final de recursos fornecido pelo método RFE, da seguinte maneira:"
      ]
    },
    {
      "cell_type": "code",
      "metadata": {
        "id": "7sFDdEBbQclG"
      },
      "source": [
        "cols = list(X.columns)\n",
        "model = LinearRegression()\n",
        "#Initializing RFE model\n",
        "rfe = RFE(model, 22)             \n",
        "#Transforming data using RFE\n",
        "X_rfe = rfe.fit_transform(X,y)  \n",
        "#Fitting the data to model\n",
        "model.fit(X_rfe,y)              \n",
        "temp = pd.Series(rfe.support_,index = cols)\n",
        "selected_features_rfe = temp[temp==True].index\n",
        "print(selected_features_rfe)"
      ],
      "execution_count": null,
      "outputs": []
    },
    {
      "cell_type": "markdown",
      "metadata": {
        "id": "Wgp-ieHCQclJ"
      },
      "source": [
        "# Redução de Atributos automática"
      ]
    },
    {
      "cell_type": "code",
      "metadata": {
        "id": "4FUhpwAZQclJ",
        "colab": {
          "base_uri": "https://localhost:8080/",
          "height": 163
        },
        "outputId": "c4cb4c21-382f-4b43-9435-ff0a9de1364c"
      },
      "source": [
        "dados.info(memory_usage='deep')"
      ],
      "execution_count": null,
      "outputs": [
        {
          "output_type": "error",
          "ename": "NameError",
          "evalue": "ignored",
          "traceback": [
            "\u001b[0;31m---------------------------------------------------------------------------\u001b[0m",
            "\u001b[0;31mNameError\u001b[0m                                 Traceback (most recent call last)",
            "\u001b[0;32m<ipython-input-1-0f84a5591fb7>\u001b[0m in \u001b[0;36m<module>\u001b[0;34m()\u001b[0m\n\u001b[0;32m----> 1\u001b[0;31m \u001b[0mdados\u001b[0m\u001b[0;34m.\u001b[0m\u001b[0minfo\u001b[0m\u001b[0;34m(\u001b[0m\u001b[0mmemory_usage\u001b[0m\u001b[0;34m=\u001b[0m\u001b[0;34m'deep'\u001b[0m\u001b[0;34m)\u001b[0m\u001b[0;34m\u001b[0m\u001b[0;34m\u001b[0m\u001b[0m\n\u001b[0m",
            "\u001b[0;31mNameError\u001b[0m: name 'dados' is not defined"
          ]
        }
      ]
    },
    {
      "cell_type": "code",
      "metadata": {
        "id": "0I3VyaBXQclK"
      },
      "source": [
        "sample1 = pd.read_csv('MICRODADOS_ENEM_2018.csv', sep=';', encoding='iso-8859-1', usecols=['TP_NACIONALIDADE','Q001','Q002', 'Q024', 'Q025', 'Q026','TP_PRESENCA_CN','TP_PRESENCA_CH','TP_PRESENCA_LC','SG_UF_RESIDENCIA','TP_SEXO', 'TP_ESTADO_CIVIL','TP_COR_RACA','TP_ST_CONCLUSAO','TP_ANO_CONCLUIU','TP_ENSINO','TP_ESCOLA','SG_UF_ESC','TP_DEPENDENCIA_ADM_ESC','TP_LOCALIZACAO_ESC','Q006','NU_NOTA_CN', 'NU_NOTA_CH', 'NU_NOTA_LC', 'NU_NOTA_MT', 'NU_NOTA_REDACAO'], low_memory=False, nrows=1000000)"
      ],
      "execution_count": null,
      "outputs": []
    },
    {
      "cell_type": "code",
      "metadata": {
        "id": "LpspeGCjQclK"
      },
      "source": [
        "sample2 = pd.read_csv('MICRODADOS_ENEM_2018.csv', sep=';', encoding='iso-8859-1', usecols=['TP_NACIONALIDADE','Q001','Q002', 'Q024', 'Q025', 'Q026','TP_PRESENCA_CN','TP_PRESENCA_CH','TP_PRESENCA_LC','SG_UF_RESIDENCIA','TP_SEXO', 'TP_ESTADO_CIVIL','TP_COR_RACA','TP_ST_CONCLUSAO','TP_ANO_CONCLUIU','TP_ENSINO','TP_ESCOLA','SG_UF_ESC','TP_DEPENDENCIA_ADM_ESC','TP_LOCALIZACAO_ESC','Q006','NU_NOTA_CN', 'NU_NOTA_CH', 'NU_NOTA_LC', 'NU_NOTA_MT', 'NU_NOTA_REDACAO'], low_memory=False, nrows=100000)"
      ],
      "execution_count": null,
      "outputs": []
    },
    {
      "cell_type": "code",
      "metadata": {
        "id": "4mCwxdYRQclL"
      },
      "source": [
        "sample3 = pd.read_csv('MICRODADOS_ENEM_2018.csv', sep=';', encoding='iso-8859-1', usecols=['TP_NACIONALIDADE','Q001','Q002', 'Q024', 'Q025', 'Q026','TP_PRESENCA_CN','TP_PRESENCA_CH','TP_PRESENCA_LC','SG_UF_RESIDENCIA','TP_SEXO', 'TP_ESTADO_CIVIL','TP_COR_RACA','TP_ST_CONCLUSAO','TP_ANO_CONCLUIU','TP_ENSINO','TP_ESCOLA','SG_UF_ESC','TP_DEPENDENCIA_ADM_ESC','TP_LOCALIZACAO_ESC','Q006','NU_NOTA_CN', 'NU_NOTA_CH', 'NU_NOTA_LC', 'NU_NOTA_MT', 'NU_NOTA_REDACAO'], low_memory=False, nrows=20000)"
      ],
      "execution_count": null,
      "outputs": []
    },
    {
      "cell_type": "code",
      "metadata": {
        "id": "W33w1_HBQclL"
      },
      "source": [
        "sample4 = pd.read_csv('MICRODADOS_ENEM_2018.csv', sep=';', encoding='iso-8859-1', usecols=['TP_NACIONALIDADE','Q001','Q002', 'Q024', 'Q025', 'Q026','TP_PRESENCA_CN','TP_PRESENCA_CH','TP_PRESENCA_LC','SG_UF_RESIDENCIA','TP_SEXO', 'TP_ESTADO_CIVIL','TP_COR_RACA','TP_ST_CONCLUSAO','TP_ANO_CONCLUIU','TP_ENSINO','TP_ESCOLA','SG_UF_ESC','TP_DEPENDENCIA_ADM_ESC','TP_LOCALIZACAO_ESC','Q006','NU_NOTA_CN', 'NU_NOTA_CH', 'NU_NOTA_LC', 'NU_NOTA_MT', 'NU_NOTA_REDACAO'], low_memory=False, nrows=10000)"
      ],
      "execution_count": null,
      "outputs": []
    },
    {
      "cell_type": "code",
      "metadata": {
        "id": "01964PRyQclM"
      },
      "source": [
        "dados.info(memory_usage='deep')"
      ],
      "execution_count": null,
      "outputs": []
    },
    {
      "cell_type": "markdown",
      "metadata": {
        "id": "Abl4NmL8QclM"
      },
      "source": [
        "# Funções de Preprocessamento"
      ]
    },
    {
      "cell_type": "code",
      "metadata": {
        "id": "gsOzznw0QclN"
      },
      "source": [
        "#Função transformar dados textuais em numéricos\n",
        "\n",
        "from sklearn.preprocessing import LabelEncoder\n",
        "\n",
        "def label_encoder(dados):\n",
        "\n",
        "    var_cat1 = ['SG_UF_RESIDENCIA', 'TP_SEXO', 'TP_COR_RACA',\n",
        "       'TP_NACIONALIDADE', 'TP_ST_CONCLUSAO','TP_ESCOLA',\n",
        "       'TP_PRESENCA_CN', 'TP_PRESENCA_CH', 'TP_PRESENCA_LC',\n",
        "        'Q001','Q002', 'Q006', 'Q024', 'Q025', 'Q026']\n",
        "\n",
        "    le = LabelEncoder()\n",
        "\n",
        "    for i in var_cat1: \n",
        "        dados[i] = le.fit_transform(dados[i].astype(str))\n",
        "        dados.dtypes\n",
        "        \n",
        "    return dados"
      ],
      "execution_count": null,
      "outputs": []
    },
    {
      "cell_type": "code",
      "metadata": {
        "id": "D4buAAJRQclN"
      },
      "source": [
        "#Função preprocessamento\n",
        "\n",
        "def preproc(dados):\n",
        "    outlier_CN = list(dados[(dados['NU_NOTA_CN'].isnull() == True)&(dados['NU_NOTA_MT'].isnull() == False)].index)\n",
        "    outlier_CH = list(dados[(dados['NU_NOTA_CH'].isnull() == True)&(dados['NU_NOTA_MT'].isnull() == False)].index)\n",
        "    excluColsNull = ['TP_DEPENDENCIA_ADM_ESC', 'TP_LOCALIZACAO_ESC', 'SG_UF_ESC'] \n",
        "    dados.drop(excluColsNull, axis = 1, inplace=True)\n",
        "    dados[(dados['NU_NOTA_MT']==0)].shape[0]\n",
        "    notaMT0 = dados[dados['NU_NOTA_MT']== 0]['NU_NOTA_MT']\n",
        "    outlier_MT = list(dados[(dados['NU_NOTA_MT']==0)].index)\n",
        "    outliers = list(set(outlier_CN + outlier_CH + outlier_MT))\n",
        "    dados= dados.drop(outliers)\n",
        "    dados = dados.fillna(value={'NU_NOTA_CN':0,'NU_NOTA_CH':0,'NU_NOTA_LC':0,\n",
        "                                  'NU_NOTA_REDACAO':0, 'TP_STATUS_REDACAO':0, 'NU_NOTA_MT':0})\n",
        "    dados = dados.dropna(axis=0)\n",
        "    label_encoder(dados)\n",
        "    \n",
        "    return dados"
      ],
      "execution_count": null,
      "outputs": []
    },
    {
      "cell_type": "code",
      "metadata": {
        "id": "uC49dKdYQclO"
      },
      "source": [
        "#Base de dados Completa:\n",
        "dados = preproc(dados)"
      ],
      "execution_count": null,
      "outputs": []
    },
    {
      "cell_type": "markdown",
      "metadata": {
        "id": "OsJOFz89QclO"
      },
      "source": [
        "# Reduções"
      ]
    },
    {
      "cell_type": "code",
      "metadata": {
        "id": "7niwyO6gQclO"
      },
      "source": [
        "#Base de dados reduzida em 1000000 instâncias:\n",
        "dados = preproc(sample1)"
      ],
      "execution_count": null,
      "outputs": []
    },
    {
      "cell_type": "code",
      "metadata": {
        "id": "mzLbH1QtQclP"
      },
      "source": [
        "#Base de dados reduzida em 100000 instâncias:\n",
        "dados = preproc(sample2)"
      ],
      "execution_count": null,
      "outputs": []
    },
    {
      "cell_type": "code",
      "metadata": {
        "id": "jSnvooDcQclP"
      },
      "source": [
        "#Base de dados reduzida em 20000 instâncias:\n",
        "dados = preproc(sample3)"
      ],
      "execution_count": null,
      "outputs": []
    },
    {
      "cell_type": "code",
      "metadata": {
        "id": "z935nwnxQclQ"
      },
      "source": [
        "#Base de dados reduzida em 10000 instâncias:\n",
        "dados = preproc(sample4)"
      ],
      "execution_count": null,
      "outputs": []
    },
    {
      "cell_type": "code",
      "metadata": {
        "id": "S6L0Hzq_QclQ",
        "outputId": "4c045338-4a4d-4c9d-ad8d-16bf207dfac9"
      },
      "source": [
        "dados.head()"
      ],
      "execution_count": null,
      "outputs": [
        {
          "output_type": "execute_result",
          "data": {
            "text/html": [
              "<div>\n",
              "<style scoped>\n",
              "    .dataframe tbody tr th:only-of-type {\n",
              "        vertical-align: middle;\n",
              "    }\n",
              "\n",
              "    .dataframe tbody tr th {\n",
              "        vertical-align: top;\n",
              "    }\n",
              "\n",
              "    .dataframe thead th {\n",
              "        text-align: right;\n",
              "    }\n",
              "</style>\n",
              "<table border=\"1\" class=\"dataframe\">\n",
              "  <thead>\n",
              "    <tr style=\"text-align: right;\">\n",
              "      <th></th>\n",
              "      <th>SG_UF_RESIDENCIA</th>\n",
              "      <th>TP_SEXO</th>\n",
              "      <th>TP_ESTADO_CIVIL</th>\n",
              "      <th>TP_COR_RACA</th>\n",
              "      <th>TP_NACIONALIDADE</th>\n",
              "      <th>TP_ST_CONCLUSAO</th>\n",
              "      <th>TP_ANO_CONCLUIU</th>\n",
              "      <th>TP_ESCOLA</th>\n",
              "      <th>TP_ENSINO</th>\n",
              "      <th>TP_PRESENCA_CN</th>\n",
              "      <th>...</th>\n",
              "      <th>NU_NOTA_CH</th>\n",
              "      <th>NU_NOTA_LC</th>\n",
              "      <th>NU_NOTA_MT</th>\n",
              "      <th>NU_NOTA_REDACAO</th>\n",
              "      <th>Q001</th>\n",
              "      <th>Q002</th>\n",
              "      <th>Q006</th>\n",
              "      <th>Q024</th>\n",
              "      <th>Q025</th>\n",
              "      <th>Q026</th>\n",
              "    </tr>\n",
              "  </thead>\n",
              "  <tbody>\n",
              "    <tr>\n",
              "      <th>0</th>\n",
              "      <td>6</td>\n",
              "      <td>1</td>\n",
              "      <td>1.0</td>\n",
              "      <td>1</td>\n",
              "      <td>0</td>\n",
              "      <td>1</td>\n",
              "      <td>0</td>\n",
              "      <td>1</td>\n",
              "      <td>1.0</td>\n",
              "      <td>0</td>\n",
              "      <td>...</td>\n",
              "      <td>0.0</td>\n",
              "      <td>0.0</td>\n",
              "      <td>0.0</td>\n",
              "      <td>0.0</td>\n",
              "      <td>0</td>\n",
              "      <td>0</td>\n",
              "      <td>0</td>\n",
              "      <td>0</td>\n",
              "      <td>0</td>\n",
              "      <td>1</td>\n",
              "    </tr>\n",
              "    <tr>\n",
              "      <th>1</th>\n",
              "      <td>9</td>\n",
              "      <td>0</td>\n",
              "      <td>0.0</td>\n",
              "      <td>3</td>\n",
              "      <td>1</td>\n",
              "      <td>0</td>\n",
              "      <td>5</td>\n",
              "      <td>0</td>\n",
              "      <td>1.0</td>\n",
              "      <td>1</td>\n",
              "      <td>...</td>\n",
              "      <td>568.7</td>\n",
              "      <td>513.1</td>\n",
              "      <td>480.3</td>\n",
              "      <td>280.0</td>\n",
              "      <td>1</td>\n",
              "      <td>1</td>\n",
              "      <td>1</td>\n",
              "      <td>0</td>\n",
              "      <td>0</td>\n",
              "      <td>0</td>\n",
              "    </tr>\n",
              "    <tr>\n",
              "      <th>2</th>\n",
              "      <td>25</td>\n",
              "      <td>0</td>\n",
              "      <td>0.0</td>\n",
              "      <td>1</td>\n",
              "      <td>1</td>\n",
              "      <td>0</td>\n",
              "      <td>3</td>\n",
              "      <td>0</td>\n",
              "      <td>3.0</td>\n",
              "      <td>0</td>\n",
              "      <td>...</td>\n",
              "      <td>0.0</td>\n",
              "      <td>0.0</td>\n",
              "      <td>0.0</td>\n",
              "      <td>0.0</td>\n",
              "      <td>4</td>\n",
              "      <td>4</td>\n",
              "      <td>2</td>\n",
              "      <td>1</td>\n",
              "      <td>1</td>\n",
              "      <td>0</td>\n",
              "    </tr>\n",
              "    <tr>\n",
              "      <th>3</th>\n",
              "      <td>4</td>\n",
              "      <td>0</td>\n",
              "      <td>0.0</td>\n",
              "      <td>3</td>\n",
              "      <td>2</td>\n",
              "      <td>0</td>\n",
              "      <td>8</td>\n",
              "      <td>0</td>\n",
              "      <td>1.0</td>\n",
              "      <td>0</td>\n",
              "      <td>...</td>\n",
              "      <td>0.0</td>\n",
              "      <td>0.0</td>\n",
              "      <td>0.0</td>\n",
              "      <td>0.0</td>\n",
              "      <td>1</td>\n",
              "      <td>2</td>\n",
              "      <td>1</td>\n",
              "      <td>1</td>\n",
              "      <td>1</td>\n",
              "      <td>0</td>\n",
              "    </tr>\n",
              "    <tr>\n",
              "      <th>4</th>\n",
              "      <td>4</td>\n",
              "      <td>1</td>\n",
              "      <td>0.0</td>\n",
              "      <td>0</td>\n",
              "      <td>1</td>\n",
              "      <td>1</td>\n",
              "      <td>0</td>\n",
              "      <td>1</td>\n",
              "      <td>1.0</td>\n",
              "      <td>0</td>\n",
              "      <td>...</td>\n",
              "      <td>419.9</td>\n",
              "      <td>345.8</td>\n",
              "      <td>0.0</td>\n",
              "      <td>360.0</td>\n",
              "      <td>2</td>\n",
              "      <td>4</td>\n",
              "      <td>1</td>\n",
              "      <td>1</td>\n",
              "      <td>1</td>\n",
              "      <td>1</td>\n",
              "    </tr>\n",
              "  </tbody>\n",
              "</table>\n",
              "<p>5 rows × 23 columns</p>\n",
              "</div>"
            ],
            "text/plain": [
              "   SG_UF_RESIDENCIA  TP_SEXO  TP_ESTADO_CIVIL  TP_COR_RACA  TP_NACIONALIDADE  \\\n",
              "0                 6        1              1.0            1                 0   \n",
              "1                 9        0              0.0            3                 1   \n",
              "2                25        0              0.0            1                 1   \n",
              "3                 4        0              0.0            3                 2   \n",
              "4                 4        1              0.0            0                 1   \n",
              "\n",
              "   TP_ST_CONCLUSAO  TP_ANO_CONCLUIU  TP_ESCOLA  TP_ENSINO  TP_PRESENCA_CN  \\\n",
              "0                1                0          1        1.0               0   \n",
              "1                0                5          0        1.0               1   \n",
              "2                0                3          0        3.0               0   \n",
              "3                0                8          0        1.0               0   \n",
              "4                1                0          1        1.0               0   \n",
              "\n",
              "   ...  NU_NOTA_CH  NU_NOTA_LC  NU_NOTA_MT  NU_NOTA_REDACAO  Q001  Q002  Q006  \\\n",
              "0  ...         0.0         0.0         0.0              0.0     0     0     0   \n",
              "1  ...       568.7       513.1       480.3            280.0     1     1     1   \n",
              "2  ...         0.0         0.0         0.0              0.0     4     4     2   \n",
              "3  ...         0.0         0.0         0.0              0.0     1     2     1   \n",
              "4  ...       419.9       345.8         0.0            360.0     2     4     1   \n",
              "\n",
              "   Q024  Q025  Q026  \n",
              "0     0     0     1  \n",
              "1     0     0     0  \n",
              "2     1     1     0  \n",
              "3     1     1     0  \n",
              "4     1     1     1  \n",
              "\n",
              "[5 rows x 23 columns]"
            ]
          },
          "metadata": {
            "tags": []
          },
          "execution_count": 6
        }
      ]
    },
    {
      "cell_type": "markdown",
      "metadata": {
        "id": "7kM0U31cQclR"
      },
      "source": [
        "# Treinamento e Teste"
      ]
    },
    {
      "cell_type": "code",
      "metadata": {
        "id": "8C-7QstMQclR"
      },
      "source": [
        "# DIVIDINDO O NOSSO CONJUNTO EM TREINO E TESTE\n",
        "\n",
        "X = dados.drop(columns =['NU_NOTA_MT'], axis=1)\n",
        "y = dados['NU_NOTA_MT']\n",
        "\n",
        "#X = np.array(dados.drop(['NU_NOTA_MT','y_true'], 1).astype(float))\n",
        "#y = np.array(dados['y_true'])"
      ],
      "execution_count": null,
      "outputs": []
    },
    {
      "cell_type": "code",
      "metadata": {
        "id": "OmgjmKnlQclS",
        "outputId": "af22778f-f049-4853-897c-7775fc122050"
      },
      "source": [
        "X"
      ],
      "execution_count": null,
      "outputs": [
        {
          "output_type": "execute_result",
          "data": {
            "text/html": [
              "<div>\n",
              "<style scoped>\n",
              "    .dataframe tbody tr th:only-of-type {\n",
              "        vertical-align: middle;\n",
              "    }\n",
              "\n",
              "    .dataframe tbody tr th {\n",
              "        vertical-align: top;\n",
              "    }\n",
              "\n",
              "    .dataframe thead th {\n",
              "        text-align: right;\n",
              "    }\n",
              "</style>\n",
              "<table border=\"1\" class=\"dataframe\">\n",
              "  <thead>\n",
              "    <tr style=\"text-align: right;\">\n",
              "      <th></th>\n",
              "      <th>SG_UF_RESIDENCIA</th>\n",
              "      <th>TP_SEXO</th>\n",
              "      <th>TP_ESTADO_CIVIL</th>\n",
              "      <th>TP_COR_RACA</th>\n",
              "      <th>TP_NACIONALIDADE</th>\n",
              "      <th>TP_ST_CONCLUSAO</th>\n",
              "      <th>TP_ANO_CONCLUIU</th>\n",
              "      <th>TP_ESCOLA</th>\n",
              "      <th>TP_ENSINO</th>\n",
              "      <th>TP_PRESENCA_CN</th>\n",
              "      <th>...</th>\n",
              "      <th>NU_NOTA_CN</th>\n",
              "      <th>NU_NOTA_CH</th>\n",
              "      <th>NU_NOTA_LC</th>\n",
              "      <th>NU_NOTA_REDACAO</th>\n",
              "      <th>Q001</th>\n",
              "      <th>Q002</th>\n",
              "      <th>Q006</th>\n",
              "      <th>Q024</th>\n",
              "      <th>Q025</th>\n",
              "      <th>Q026</th>\n",
              "    </tr>\n",
              "  </thead>\n",
              "  <tbody>\n",
              "    <tr>\n",
              "      <th>0</th>\n",
              "      <td>6</td>\n",
              "      <td>1</td>\n",
              "      <td>1.0</td>\n",
              "      <td>1</td>\n",
              "      <td>0</td>\n",
              "      <td>1</td>\n",
              "      <td>0</td>\n",
              "      <td>1</td>\n",
              "      <td>1.0</td>\n",
              "      <td>0</td>\n",
              "      <td>...</td>\n",
              "      <td>0.0</td>\n",
              "      <td>0.0</td>\n",
              "      <td>0.0</td>\n",
              "      <td>0.0</td>\n",
              "      <td>0</td>\n",
              "      <td>0</td>\n",
              "      <td>0</td>\n",
              "      <td>0</td>\n",
              "      <td>0</td>\n",
              "      <td>1</td>\n",
              "    </tr>\n",
              "    <tr>\n",
              "      <th>1</th>\n",
              "      <td>9</td>\n",
              "      <td>0</td>\n",
              "      <td>0.0</td>\n",
              "      <td>3</td>\n",
              "      <td>1</td>\n",
              "      <td>0</td>\n",
              "      <td>5</td>\n",
              "      <td>0</td>\n",
              "      <td>1.0</td>\n",
              "      <td>1</td>\n",
              "      <td>...</td>\n",
              "      <td>521.0</td>\n",
              "      <td>568.7</td>\n",
              "      <td>513.1</td>\n",
              "      <td>280.0</td>\n",
              "      <td>1</td>\n",
              "      <td>1</td>\n",
              "      <td>1</td>\n",
              "      <td>0</td>\n",
              "      <td>0</td>\n",
              "      <td>0</td>\n",
              "    </tr>\n",
              "    <tr>\n",
              "      <th>2</th>\n",
              "      <td>25</td>\n",
              "      <td>0</td>\n",
              "      <td>0.0</td>\n",
              "      <td>1</td>\n",
              "      <td>1</td>\n",
              "      <td>0</td>\n",
              "      <td>3</td>\n",
              "      <td>0</td>\n",
              "      <td>3.0</td>\n",
              "      <td>0</td>\n",
              "      <td>...</td>\n",
              "      <td>0.0</td>\n",
              "      <td>0.0</td>\n",
              "      <td>0.0</td>\n",
              "      <td>0.0</td>\n",
              "      <td>4</td>\n",
              "      <td>4</td>\n",
              "      <td>2</td>\n",
              "      <td>1</td>\n",
              "      <td>1</td>\n",
              "      <td>0</td>\n",
              "    </tr>\n",
              "    <tr>\n",
              "      <th>3</th>\n",
              "      <td>4</td>\n",
              "      <td>0</td>\n",
              "      <td>0.0</td>\n",
              "      <td>3</td>\n",
              "      <td>2</td>\n",
              "      <td>0</td>\n",
              "      <td>8</td>\n",
              "      <td>0</td>\n",
              "      <td>1.0</td>\n",
              "      <td>0</td>\n",
              "      <td>...</td>\n",
              "      <td>0.0</td>\n",
              "      <td>0.0</td>\n",
              "      <td>0.0</td>\n",
              "      <td>0.0</td>\n",
              "      <td>1</td>\n",
              "      <td>2</td>\n",
              "      <td>1</td>\n",
              "      <td>1</td>\n",
              "      <td>1</td>\n",
              "      <td>0</td>\n",
              "    </tr>\n",
              "    <tr>\n",
              "      <th>4</th>\n",
              "      <td>4</td>\n",
              "      <td>1</td>\n",
              "      <td>0.0</td>\n",
              "      <td>0</td>\n",
              "      <td>1</td>\n",
              "      <td>1</td>\n",
              "      <td>0</td>\n",
              "      <td>1</td>\n",
              "      <td>1.0</td>\n",
              "      <td>0</td>\n",
              "      <td>...</td>\n",
              "      <td>0.0</td>\n",
              "      <td>419.9</td>\n",
              "      <td>345.8</td>\n",
              "      <td>360.0</td>\n",
              "      <td>2</td>\n",
              "      <td>4</td>\n",
              "      <td>1</td>\n",
              "      <td>1</td>\n",
              "      <td>1</td>\n",
              "      <td>1</td>\n",
              "    </tr>\n",
              "    <tr>\n",
              "      <th>5</th>\n",
              "      <td>14</td>\n",
              "      <td>0</td>\n",
              "      <td>0.0</td>\n",
              "      <td>1</td>\n",
              "      <td>1</td>\n",
              "      <td>0</td>\n",
              "      <td>5</td>\n",
              "      <td>0</td>\n",
              "      <td>1.0</td>\n",
              "      <td>1</td>\n",
              "      <td>...</td>\n",
              "      <td>461.8</td>\n",
              "      <td>564.0</td>\n",
              "      <td>466.8</td>\n",
              "      <td>580.0</td>\n",
              "      <td>2</td>\n",
              "      <td>3</td>\n",
              "      <td>1</td>\n",
              "      <td>1</td>\n",
              "      <td>1</td>\n",
              "      <td>0</td>\n",
              "    </tr>\n",
              "    <tr>\n",
              "      <th>6</th>\n",
              "      <td>10</td>\n",
              "      <td>0</td>\n",
              "      <td>0.0</td>\n",
              "      <td>1</td>\n",
              "      <td>1</td>\n",
              "      <td>0</td>\n",
              "      <td>12</td>\n",
              "      <td>0</td>\n",
              "      <td>1.0</td>\n",
              "      <td>0</td>\n",
              "      <td>...</td>\n",
              "      <td>0.0</td>\n",
              "      <td>0.0</td>\n",
              "      <td>0.0</td>\n",
              "      <td>0.0</td>\n",
              "      <td>1</td>\n",
              "      <td>1</td>\n",
              "      <td>4</td>\n",
              "      <td>1</td>\n",
              "      <td>1</td>\n",
              "      <td>0</td>\n",
              "    </tr>\n",
              "    <tr>\n",
              "      <th>7</th>\n",
              "      <td>16</td>\n",
              "      <td>1</td>\n",
              "      <td>1.0</td>\n",
              "      <td>3</td>\n",
              "      <td>1</td>\n",
              "      <td>0</td>\n",
              "      <td>12</td>\n",
              "      <td>0</td>\n",
              "      <td>1.0</td>\n",
              "      <td>1</td>\n",
              "      <td>...</td>\n",
              "      <td>499.3</td>\n",
              "      <td>663.2</td>\n",
              "      <td>605.2</td>\n",
              "      <td>680.0</td>\n",
              "      <td>0</td>\n",
              "      <td>4</td>\n",
              "      <td>7</td>\n",
              "      <td>1</td>\n",
              "      <td>1</td>\n",
              "      <td>0</td>\n",
              "    </tr>\n",
              "    <tr>\n",
              "      <th>8</th>\n",
              "      <td>5</td>\n",
              "      <td>1</td>\n",
              "      <td>0.0</td>\n",
              "      <td>3</td>\n",
              "      <td>1</td>\n",
              "      <td>1</td>\n",
              "      <td>0</td>\n",
              "      <td>1</td>\n",
              "      <td>1.0</td>\n",
              "      <td>1</td>\n",
              "      <td>...</td>\n",
              "      <td>411.8</td>\n",
              "      <td>429.8</td>\n",
              "      <td>445.2</td>\n",
              "      <td>340.0</td>\n",
              "      <td>3</td>\n",
              "      <td>3</td>\n",
              "      <td>2</td>\n",
              "      <td>0</td>\n",
              "      <td>0</td>\n",
              "      <td>1</td>\n",
              "    </tr>\n",
              "    <tr>\n",
              "      <th>9</th>\n",
              "      <td>12</td>\n",
              "      <td>0</td>\n",
              "      <td>0.0</td>\n",
              "      <td>3</td>\n",
              "      <td>1</td>\n",
              "      <td>0</td>\n",
              "      <td>9</td>\n",
              "      <td>0</td>\n",
              "      <td>1.0</td>\n",
              "      <td>1</td>\n",
              "      <td>...</td>\n",
              "      <td>469.4</td>\n",
              "      <td>650.2</td>\n",
              "      <td>606.6</td>\n",
              "      <td>740.0</td>\n",
              "      <td>2</td>\n",
              "      <td>2</td>\n",
              "      <td>2</td>\n",
              "      <td>0</td>\n",
              "      <td>0</td>\n",
              "      <td>0</td>\n",
              "    </tr>\n",
              "    <tr>\n",
              "      <th>10</th>\n",
              "      <td>19</td>\n",
              "      <td>0</td>\n",
              "      <td>0.0</td>\n",
              "      <td>1</td>\n",
              "      <td>1</td>\n",
              "      <td>0</td>\n",
              "      <td>12</td>\n",
              "      <td>0</td>\n",
              "      <td>1.0</td>\n",
              "      <td>0</td>\n",
              "      <td>...</td>\n",
              "      <td>0.0</td>\n",
              "      <td>0.0</td>\n",
              "      <td>0.0</td>\n",
              "      <td>0.0</td>\n",
              "      <td>4</td>\n",
              "      <td>4</td>\n",
              "      <td>2</td>\n",
              "      <td>0</td>\n",
              "      <td>1</td>\n",
              "      <td>0</td>\n",
              "    </tr>\n",
              "    <tr>\n",
              "      <th>11</th>\n",
              "      <td>5</td>\n",
              "      <td>0</td>\n",
              "      <td>0.0</td>\n",
              "      <td>3</td>\n",
              "      <td>1</td>\n",
              "      <td>0</td>\n",
              "      <td>1</td>\n",
              "      <td>0</td>\n",
              "      <td>1.0</td>\n",
              "      <td>0</td>\n",
              "      <td>...</td>\n",
              "      <td>0.0</td>\n",
              "      <td>618.7</td>\n",
              "      <td>588.2</td>\n",
              "      <td>640.0</td>\n",
              "      <td>3</td>\n",
              "      <td>4</td>\n",
              "      <td>2</td>\n",
              "      <td>1</td>\n",
              "      <td>0</td>\n",
              "      <td>0</td>\n",
              "    </tr>\n",
              "    <tr>\n",
              "      <th>12</th>\n",
              "      <td>26</td>\n",
              "      <td>0</td>\n",
              "      <td>0.0</td>\n",
              "      <td>2</td>\n",
              "      <td>1</td>\n",
              "      <td>0</td>\n",
              "      <td>1</td>\n",
              "      <td>0</td>\n",
              "      <td>1.0</td>\n",
              "      <td>1</td>\n",
              "      <td>...</td>\n",
              "      <td>467.4</td>\n",
              "      <td>640.5</td>\n",
              "      <td>516.7</td>\n",
              "      <td>640.0</td>\n",
              "      <td>4</td>\n",
              "      <td>4</td>\n",
              "      <td>1</td>\n",
              "      <td>0</td>\n",
              "      <td>0</td>\n",
              "      <td>0</td>\n",
              "    </tr>\n",
              "    <tr>\n",
              "      <th>13</th>\n",
              "      <td>25</td>\n",
              "      <td>1</td>\n",
              "      <td>0.0</td>\n",
              "      <td>3</td>\n",
              "      <td>1</td>\n",
              "      <td>0</td>\n",
              "      <td>6</td>\n",
              "      <td>0</td>\n",
              "      <td>1.0</td>\n",
              "      <td>1</td>\n",
              "      <td>...</td>\n",
              "      <td>625.5</td>\n",
              "      <td>652.2</td>\n",
              "      <td>616.3</td>\n",
              "      <td>840.0</td>\n",
              "      <td>4</td>\n",
              "      <td>4</td>\n",
              "      <td>4</td>\n",
              "      <td>2</td>\n",
              "      <td>1</td>\n",
              "      <td>0</td>\n",
              "    </tr>\n",
              "    <tr>\n",
              "      <th>14</th>\n",
              "      <td>10</td>\n",
              "      <td>1</td>\n",
              "      <td>0.0</td>\n",
              "      <td>1</td>\n",
              "      <td>1</td>\n",
              "      <td>0</td>\n",
              "      <td>1</td>\n",
              "      <td>0</td>\n",
              "      <td>1.0</td>\n",
              "      <td>0</td>\n",
              "      <td>...</td>\n",
              "      <td>0.0</td>\n",
              "      <td>0.0</td>\n",
              "      <td>0.0</td>\n",
              "      <td>0.0</td>\n",
              "      <td>1</td>\n",
              "      <td>1</td>\n",
              "      <td>6</td>\n",
              "      <td>0</td>\n",
              "      <td>0</td>\n",
              "      <td>0</td>\n",
              "    </tr>\n",
              "    <tr>\n",
              "      <th>15</th>\n",
              "      <td>25</td>\n",
              "      <td>0</td>\n",
              "      <td>0.0</td>\n",
              "      <td>3</td>\n",
              "      <td>1</td>\n",
              "      <td>0</td>\n",
              "      <td>4</td>\n",
              "      <td>0</td>\n",
              "      <td>1.0</td>\n",
              "      <td>0</td>\n",
              "      <td>...</td>\n",
              "      <td>0.0</td>\n",
              "      <td>0.0</td>\n",
              "      <td>0.0</td>\n",
              "      <td>0.0</td>\n",
              "      <td>3</td>\n",
              "      <td>4</td>\n",
              "      <td>2</td>\n",
              "      <td>1</td>\n",
              "      <td>1</td>\n",
              "      <td>0</td>\n",
              "    </tr>\n",
              "    <tr>\n",
              "      <th>16</th>\n",
              "      <td>5</td>\n",
              "      <td>1</td>\n",
              "      <td>0.0</td>\n",
              "      <td>3</td>\n",
              "      <td>1</td>\n",
              "      <td>1</td>\n",
              "      <td>0</td>\n",
              "      <td>1</td>\n",
              "      <td>1.0</td>\n",
              "      <td>1</td>\n",
              "      <td>...</td>\n",
              "      <td>478.5</td>\n",
              "      <td>513.3</td>\n",
              "      <td>564.7</td>\n",
              "      <td>580.0</td>\n",
              "      <td>2</td>\n",
              "      <td>2</td>\n",
              "      <td>1</td>\n",
              "      <td>0</td>\n",
              "      <td>0</td>\n",
              "      <td>1</td>\n",
              "    </tr>\n",
              "    <tr>\n",
              "      <th>17</th>\n",
              "      <td>10</td>\n",
              "      <td>0</td>\n",
              "      <td>0.0</td>\n",
              "      <td>1</td>\n",
              "      <td>1</td>\n",
              "      <td>0</td>\n",
              "      <td>4</td>\n",
              "      <td>0</td>\n",
              "      <td>1.0</td>\n",
              "      <td>1</td>\n",
              "      <td>...</td>\n",
              "      <td>521.8</td>\n",
              "      <td>598.9</td>\n",
              "      <td>584.6</td>\n",
              "      <td>580.0</td>\n",
              "      <td>2</td>\n",
              "      <td>2</td>\n",
              "      <td>4</td>\n",
              "      <td>1</td>\n",
              "      <td>1</td>\n",
              "      <td>0</td>\n",
              "    </tr>\n",
              "    <tr>\n",
              "      <th>18</th>\n",
              "      <td>6</td>\n",
              "      <td>1</td>\n",
              "      <td>0.0</td>\n",
              "      <td>1</td>\n",
              "      <td>1</td>\n",
              "      <td>0</td>\n",
              "      <td>2</td>\n",
              "      <td>0</td>\n",
              "      <td>1.0</td>\n",
              "      <td>1</td>\n",
              "      <td>...</td>\n",
              "      <td>397.7</td>\n",
              "      <td>612.0</td>\n",
              "      <td>455.0</td>\n",
              "      <td>360.0</td>\n",
              "      <td>4</td>\n",
              "      <td>4</td>\n",
              "      <td>2</td>\n",
              "      <td>0</td>\n",
              "      <td>1</td>\n",
              "      <td>0</td>\n",
              "    </tr>\n",
              "    <tr>\n",
              "      <th>19</th>\n",
              "      <td>25</td>\n",
              "      <td>0</td>\n",
              "      <td>0.0</td>\n",
              "      <td>3</td>\n",
              "      <td>1</td>\n",
              "      <td>0</td>\n",
              "      <td>10</td>\n",
              "      <td>0</td>\n",
              "      <td>1.0</td>\n",
              "      <td>1</td>\n",
              "      <td>...</td>\n",
              "      <td>501.5</td>\n",
              "      <td>540.6</td>\n",
              "      <td>531.5</td>\n",
              "      <td>380.0</td>\n",
              "      <td>4</td>\n",
              "      <td>2</td>\n",
              "      <td>5</td>\n",
              "      <td>1</td>\n",
              "      <td>1</td>\n",
              "      <td>0</td>\n",
              "    </tr>\n",
              "    <tr>\n",
              "      <th>20</th>\n",
              "      <td>19</td>\n",
              "      <td>0</td>\n",
              "      <td>0.0</td>\n",
              "      <td>1</td>\n",
              "      <td>1</td>\n",
              "      <td>0</td>\n",
              "      <td>12</td>\n",
              "      <td>0</td>\n",
              "      <td>1.0</td>\n",
              "      <td>1</td>\n",
              "      <td>...</td>\n",
              "      <td>453.6</td>\n",
              "      <td>678.9</td>\n",
              "      <td>598.1</td>\n",
              "      <td>660.0</td>\n",
              "      <td>3</td>\n",
              "      <td>0</td>\n",
              "      <td>2</td>\n",
              "      <td>0</td>\n",
              "      <td>0</td>\n",
              "      <td>0</td>\n",
              "    </tr>\n",
              "    <tr>\n",
              "      <th>21</th>\n",
              "      <td>6</td>\n",
              "      <td>1</td>\n",
              "      <td>0.0</td>\n",
              "      <td>3</td>\n",
              "      <td>1</td>\n",
              "      <td>0</td>\n",
              "      <td>12</td>\n",
              "      <td>0</td>\n",
              "      <td>1.0</td>\n",
              "      <td>0</td>\n",
              "      <td>...</td>\n",
              "      <td>0.0</td>\n",
              "      <td>0.0</td>\n",
              "      <td>0.0</td>\n",
              "      <td>0.0</td>\n",
              "      <td>1</td>\n",
              "      <td>4</td>\n",
              "      <td>5</td>\n",
              "      <td>1</td>\n",
              "      <td>1</td>\n",
              "      <td>0</td>\n",
              "    </tr>\n",
              "    <tr>\n",
              "      <th>23</th>\n",
              "      <td>4</td>\n",
              "      <td>0</td>\n",
              "      <td>0.0</td>\n",
              "      <td>3</td>\n",
              "      <td>1</td>\n",
              "      <td>0</td>\n",
              "      <td>1</td>\n",
              "      <td>0</td>\n",
              "      <td>1.0</td>\n",
              "      <td>0</td>\n",
              "      <td>...</td>\n",
              "      <td>0.0</td>\n",
              "      <td>0.0</td>\n",
              "      <td>0.0</td>\n",
              "      <td>0.0</td>\n",
              "      <td>4</td>\n",
              "      <td>4</td>\n",
              "      <td>1</td>\n",
              "      <td>0</td>\n",
              "      <td>1</td>\n",
              "      <td>0</td>\n",
              "    </tr>\n",
              "    <tr>\n",
              "      <th>24</th>\n",
              "      <td>16</td>\n",
              "      <td>1</td>\n",
              "      <td>0.0</td>\n",
              "      <td>3</td>\n",
              "      <td>1</td>\n",
              "      <td>0</td>\n",
              "      <td>2</td>\n",
              "      <td>0</td>\n",
              "      <td>1.0</td>\n",
              "      <td>1</td>\n",
              "      <td>...</td>\n",
              "      <td>397.5</td>\n",
              "      <td>608.3</td>\n",
              "      <td>560.5</td>\n",
              "      <td>340.0</td>\n",
              "      <td>4</td>\n",
              "      <td>5</td>\n",
              "      <td>2</td>\n",
              "      <td>1</td>\n",
              "      <td>0</td>\n",
              "      <td>0</td>\n",
              "    </tr>\n",
              "    <tr>\n",
              "      <th>25</th>\n",
              "      <td>22</td>\n",
              "      <td>0</td>\n",
              "      <td>0.0</td>\n",
              "      <td>1</td>\n",
              "      <td>1</td>\n",
              "      <td>0</td>\n",
              "      <td>6</td>\n",
              "      <td>0</td>\n",
              "      <td>1.0</td>\n",
              "      <td>0</td>\n",
              "      <td>...</td>\n",
              "      <td>0.0</td>\n",
              "      <td>0.0</td>\n",
              "      <td>0.0</td>\n",
              "      <td>0.0</td>\n",
              "      <td>1</td>\n",
              "      <td>1</td>\n",
              "      <td>4</td>\n",
              "      <td>0</td>\n",
              "      <td>1</td>\n",
              "      <td>0</td>\n",
              "    </tr>\n",
              "    <tr>\n",
              "      <th>26</th>\n",
              "      <td>14</td>\n",
              "      <td>0</td>\n",
              "      <td>0.0</td>\n",
              "      <td>1</td>\n",
              "      <td>1</td>\n",
              "      <td>1</td>\n",
              "      <td>0</td>\n",
              "      <td>1</td>\n",
              "      <td>1.0</td>\n",
              "      <td>1</td>\n",
              "      <td>...</td>\n",
              "      <td>479.4</td>\n",
              "      <td>539.0</td>\n",
              "      <td>553.8</td>\n",
              "      <td>620.0</td>\n",
              "      <td>7</td>\n",
              "      <td>4</td>\n",
              "      <td>1</td>\n",
              "      <td>0</td>\n",
              "      <td>1</td>\n",
              "      <td>1</td>\n",
              "    </tr>\n",
              "    <tr>\n",
              "      <th>28</th>\n",
              "      <td>22</td>\n",
              "      <td>0</td>\n",
              "      <td>0.0</td>\n",
              "      <td>1</td>\n",
              "      <td>1</td>\n",
              "      <td>0</td>\n",
              "      <td>7</td>\n",
              "      <td>0</td>\n",
              "      <td>1.0</td>\n",
              "      <td>1</td>\n",
              "      <td>...</td>\n",
              "      <td>514.7</td>\n",
              "      <td>576.6</td>\n",
              "      <td>512.2</td>\n",
              "      <td>540.0</td>\n",
              "      <td>2</td>\n",
              "      <td>3</td>\n",
              "      <td>7</td>\n",
              "      <td>2</td>\n",
              "      <td>1</td>\n",
              "      <td>0</td>\n",
              "    </tr>\n",
              "    <tr>\n",
              "      <th>29</th>\n",
              "      <td>16</td>\n",
              "      <td>0</td>\n",
              "      <td>1.0</td>\n",
              "      <td>3</td>\n",
              "      <td>1</td>\n",
              "      <td>1</td>\n",
              "      <td>0</td>\n",
              "      <td>1</td>\n",
              "      <td>1.0</td>\n",
              "      <td>1</td>\n",
              "      <td>...</td>\n",
              "      <td>429.8</td>\n",
              "      <td>586.7</td>\n",
              "      <td>450.3</td>\n",
              "      <td>300.0</td>\n",
              "      <td>1</td>\n",
              "      <td>0</td>\n",
              "      <td>1</td>\n",
              "      <td>0</td>\n",
              "      <td>0</td>\n",
              "      <td>1</td>\n",
              "    </tr>\n",
              "    <tr>\n",
              "      <th>30</th>\n",
              "      <td>22</td>\n",
              "      <td>0</td>\n",
              "      <td>1.0</td>\n",
              "      <td>1</td>\n",
              "      <td>1</td>\n",
              "      <td>0</td>\n",
              "      <td>3</td>\n",
              "      <td>0</td>\n",
              "      <td>1.0</td>\n",
              "      <td>0</td>\n",
              "      <td>...</td>\n",
              "      <td>0.0</td>\n",
              "      <td>0.0</td>\n",
              "      <td>0.0</td>\n",
              "      <td>0.0</td>\n",
              "      <td>7</td>\n",
              "      <td>1</td>\n",
              "      <td>2</td>\n",
              "      <td>0</td>\n",
              "      <td>1</td>\n",
              "      <td>0</td>\n",
              "    </tr>\n",
              "    <tr>\n",
              "      <th>32</th>\n",
              "      <td>5</td>\n",
              "      <td>1</td>\n",
              "      <td>0.0</td>\n",
              "      <td>3</td>\n",
              "      <td>1</td>\n",
              "      <td>0</td>\n",
              "      <td>1</td>\n",
              "      <td>0</td>\n",
              "      <td>1.0</td>\n",
              "      <td>1</td>\n",
              "      <td>...</td>\n",
              "      <td>591.1</td>\n",
              "      <td>684.9</td>\n",
              "      <td>611.3</td>\n",
              "      <td>580.0</td>\n",
              "      <td>3</td>\n",
              "      <td>3</td>\n",
              "      <td>2</td>\n",
              "      <td>1</td>\n",
              "      <td>1</td>\n",
              "      <td>0</td>\n",
              "    </tr>\n",
              "    <tr>\n",
              "      <th>...</th>\n",
              "      <td>...</td>\n",
              "      <td>...</td>\n",
              "      <td>...</td>\n",
              "      <td>...</td>\n",
              "      <td>...</td>\n",
              "      <td>...</td>\n",
              "      <td>...</td>\n",
              "      <td>...</td>\n",
              "      <td>...</td>\n",
              "      <td>...</td>\n",
              "      <td>...</td>\n",
              "      <td>...</td>\n",
              "      <td>...</td>\n",
              "      <td>...</td>\n",
              "      <td>...</td>\n",
              "      <td>...</td>\n",
              "      <td>...</td>\n",
              "      <td>...</td>\n",
              "      <td>...</td>\n",
              "      <td>...</td>\n",
              "      <td>...</td>\n",
              "    </tr>\n",
              "    <tr>\n",
              "      <th>19954</th>\n",
              "      <td>1</td>\n",
              "      <td>0</td>\n",
              "      <td>0.0</td>\n",
              "      <td>3</td>\n",
              "      <td>1</td>\n",
              "      <td>0</td>\n",
              "      <td>3</td>\n",
              "      <td>0</td>\n",
              "      <td>1.0</td>\n",
              "      <td>0</td>\n",
              "      <td>...</td>\n",
              "      <td>0.0</td>\n",
              "      <td>0.0</td>\n",
              "      <td>0.0</td>\n",
              "      <td>0.0</td>\n",
              "      <td>4</td>\n",
              "      <td>2</td>\n",
              "      <td>1</td>\n",
              "      <td>0</td>\n",
              "      <td>1</td>\n",
              "      <td>0</td>\n",
              "    </tr>\n",
              "    <tr>\n",
              "      <th>19955</th>\n",
              "      <td>25</td>\n",
              "      <td>1</td>\n",
              "      <td>0.0</td>\n",
              "      <td>1</td>\n",
              "      <td>1</td>\n",
              "      <td>0</td>\n",
              "      <td>2</td>\n",
              "      <td>0</td>\n",
              "      <td>1.0</td>\n",
              "      <td>0</td>\n",
              "      <td>...</td>\n",
              "      <td>0.0</td>\n",
              "      <td>0.0</td>\n",
              "      <td>0.0</td>\n",
              "      <td>0.0</td>\n",
              "      <td>1</td>\n",
              "      <td>1</td>\n",
              "      <td>10</td>\n",
              "      <td>2</td>\n",
              "      <td>1</td>\n",
              "      <td>0</td>\n",
              "    </tr>\n",
              "    <tr>\n",
              "      <th>19956</th>\n",
              "      <td>13</td>\n",
              "      <td>0</td>\n",
              "      <td>1.0</td>\n",
              "      <td>3</td>\n",
              "      <td>1</td>\n",
              "      <td>0</td>\n",
              "      <td>2</td>\n",
              "      <td>0</td>\n",
              "      <td>1.0</td>\n",
              "      <td>1</td>\n",
              "      <td>...</td>\n",
              "      <td>518.0</td>\n",
              "      <td>591.1</td>\n",
              "      <td>560.9</td>\n",
              "      <td>600.0</td>\n",
              "      <td>4</td>\n",
              "      <td>4</td>\n",
              "      <td>1</td>\n",
              "      <td>0</td>\n",
              "      <td>1</td>\n",
              "      <td>0</td>\n",
              "    </tr>\n",
              "    <tr>\n",
              "      <th>19957</th>\n",
              "      <td>4</td>\n",
              "      <td>1</td>\n",
              "      <td>0.0</td>\n",
              "      <td>3</td>\n",
              "      <td>1</td>\n",
              "      <td>1</td>\n",
              "      <td>0</td>\n",
              "      <td>3</td>\n",
              "      <td>1.0</td>\n",
              "      <td>1</td>\n",
              "      <td>...</td>\n",
              "      <td>489.4</td>\n",
              "      <td>663.0</td>\n",
              "      <td>568.5</td>\n",
              "      <td>820.0</td>\n",
              "      <td>5</td>\n",
              "      <td>4</td>\n",
              "      <td>3</td>\n",
              "      <td>0</td>\n",
              "      <td>0</td>\n",
              "      <td>1</td>\n",
              "    </tr>\n",
              "    <tr>\n",
              "      <th>19959</th>\n",
              "      <td>10</td>\n",
              "      <td>1</td>\n",
              "      <td>0.0</td>\n",
              "      <td>3</td>\n",
              "      <td>1</td>\n",
              "      <td>0</td>\n",
              "      <td>2</td>\n",
              "      <td>0</td>\n",
              "      <td>3.0</td>\n",
              "      <td>1</td>\n",
              "      <td>...</td>\n",
              "      <td>423.8</td>\n",
              "      <td>638.2</td>\n",
              "      <td>558.3</td>\n",
              "      <td>540.0</td>\n",
              "      <td>7</td>\n",
              "      <td>1</td>\n",
              "      <td>1</td>\n",
              "      <td>1</td>\n",
              "      <td>1</td>\n",
              "      <td>0</td>\n",
              "    </tr>\n",
              "    <tr>\n",
              "      <th>19961</th>\n",
              "      <td>10</td>\n",
              "      <td>0</td>\n",
              "      <td>0.0</td>\n",
              "      <td>3</td>\n",
              "      <td>2</td>\n",
              "      <td>1</td>\n",
              "      <td>0</td>\n",
              "      <td>0</td>\n",
              "      <td>1.0</td>\n",
              "      <td>0</td>\n",
              "      <td>...</td>\n",
              "      <td>0.0</td>\n",
              "      <td>0.0</td>\n",
              "      <td>0.0</td>\n",
              "      <td>0.0</td>\n",
              "      <td>3</td>\n",
              "      <td>4</td>\n",
              "      <td>3</td>\n",
              "      <td>1</td>\n",
              "      <td>1</td>\n",
              "      <td>1</td>\n",
              "    </tr>\n",
              "    <tr>\n",
              "      <th>19965</th>\n",
              "      <td>10</td>\n",
              "      <td>0</td>\n",
              "      <td>0.0</td>\n",
              "      <td>3</td>\n",
              "      <td>1</td>\n",
              "      <td>0</td>\n",
              "      <td>4</td>\n",
              "      <td>0</td>\n",
              "      <td>1.0</td>\n",
              "      <td>0</td>\n",
              "      <td>...</td>\n",
              "      <td>0.0</td>\n",
              "      <td>0.0</td>\n",
              "      <td>0.0</td>\n",
              "      <td>0.0</td>\n",
              "      <td>1</td>\n",
              "      <td>3</td>\n",
              "      <td>4</td>\n",
              "      <td>0</td>\n",
              "      <td>1</td>\n",
              "      <td>0</td>\n",
              "    </tr>\n",
              "    <tr>\n",
              "      <th>19967</th>\n",
              "      <td>10</td>\n",
              "      <td>0</td>\n",
              "      <td>1.0</td>\n",
              "      <td>3</td>\n",
              "      <td>1</td>\n",
              "      <td>0</td>\n",
              "      <td>12</td>\n",
              "      <td>0</td>\n",
              "      <td>1.0</td>\n",
              "      <td>0</td>\n",
              "      <td>...</td>\n",
              "      <td>0.0</td>\n",
              "      <td>0.0</td>\n",
              "      <td>0.0</td>\n",
              "      <td>0.0</td>\n",
              "      <td>4</td>\n",
              "      <td>3</td>\n",
              "      <td>3</td>\n",
              "      <td>1</td>\n",
              "      <td>1</td>\n",
              "      <td>0</td>\n",
              "    </tr>\n",
              "    <tr>\n",
              "      <th>19968</th>\n",
              "      <td>25</td>\n",
              "      <td>0</td>\n",
              "      <td>0.0</td>\n",
              "      <td>1</td>\n",
              "      <td>1</td>\n",
              "      <td>0</td>\n",
              "      <td>4</td>\n",
              "      <td>0</td>\n",
              "      <td>1.0</td>\n",
              "      <td>1</td>\n",
              "      <td>...</td>\n",
              "      <td>543.8</td>\n",
              "      <td>642.2</td>\n",
              "      <td>588.8</td>\n",
              "      <td>360.0</td>\n",
              "      <td>7</td>\n",
              "      <td>2</td>\n",
              "      <td>5</td>\n",
              "      <td>0</td>\n",
              "      <td>1</td>\n",
              "      <td>0</td>\n",
              "    </tr>\n",
              "    <tr>\n",
              "      <th>19969</th>\n",
              "      <td>4</td>\n",
              "      <td>0</td>\n",
              "      <td>0.0</td>\n",
              "      <td>3</td>\n",
              "      <td>1</td>\n",
              "      <td>0</td>\n",
              "      <td>1</td>\n",
              "      <td>0</td>\n",
              "      <td>1.0</td>\n",
              "      <td>1</td>\n",
              "      <td>...</td>\n",
              "      <td>730.8</td>\n",
              "      <td>698.7</td>\n",
              "      <td>669.4</td>\n",
              "      <td>940.0</td>\n",
              "      <td>2</td>\n",
              "      <td>4</td>\n",
              "      <td>4</td>\n",
              "      <td>1</td>\n",
              "      <td>1</td>\n",
              "      <td>0</td>\n",
              "    </tr>\n",
              "    <tr>\n",
              "      <th>19970</th>\n",
              "      <td>23</td>\n",
              "      <td>0</td>\n",
              "      <td>0.0</td>\n",
              "      <td>1</td>\n",
              "      <td>1</td>\n",
              "      <td>1</td>\n",
              "      <td>0</td>\n",
              "      <td>1</td>\n",
              "      <td>1.0</td>\n",
              "      <td>0</td>\n",
              "      <td>...</td>\n",
              "      <td>0.0</td>\n",
              "      <td>485.9</td>\n",
              "      <td>393.8</td>\n",
              "      <td>620.0</td>\n",
              "      <td>2</td>\n",
              "      <td>3</td>\n",
              "      <td>6</td>\n",
              "      <td>1</td>\n",
              "      <td>1</td>\n",
              "      <td>1</td>\n",
              "    </tr>\n",
              "    <tr>\n",
              "      <th>19971</th>\n",
              "      <td>13</td>\n",
              "      <td>1</td>\n",
              "      <td>1.0</td>\n",
              "      <td>3</td>\n",
              "      <td>1</td>\n",
              "      <td>0</td>\n",
              "      <td>12</td>\n",
              "      <td>0</td>\n",
              "      <td>1.0</td>\n",
              "      <td>1</td>\n",
              "      <td>...</td>\n",
              "      <td>550.9</td>\n",
              "      <td>620.7</td>\n",
              "      <td>554.5</td>\n",
              "      <td>520.0</td>\n",
              "      <td>1</td>\n",
              "      <td>1</td>\n",
              "      <td>3</td>\n",
              "      <td>0</td>\n",
              "      <td>1</td>\n",
              "      <td>0</td>\n",
              "    </tr>\n",
              "    <tr>\n",
              "      <th>19975</th>\n",
              "      <td>13</td>\n",
              "      <td>1</td>\n",
              "      <td>0.0</td>\n",
              "      <td>3</td>\n",
              "      <td>1</td>\n",
              "      <td>1</td>\n",
              "      <td>0</td>\n",
              "      <td>1</td>\n",
              "      <td>1.0</td>\n",
              "      <td>1</td>\n",
              "      <td>...</td>\n",
              "      <td>579.7</td>\n",
              "      <td>669.1</td>\n",
              "      <td>542.0</td>\n",
              "      <td>940.0</td>\n",
              "      <td>4</td>\n",
              "      <td>3</td>\n",
              "      <td>1</td>\n",
              "      <td>0</td>\n",
              "      <td>0</td>\n",
              "      <td>1</td>\n",
              "    </tr>\n",
              "    <tr>\n",
              "      <th>19976</th>\n",
              "      <td>6</td>\n",
              "      <td>0</td>\n",
              "      <td>0.0</td>\n",
              "      <td>1</td>\n",
              "      <td>1</td>\n",
              "      <td>1</td>\n",
              "      <td>0</td>\n",
              "      <td>1</td>\n",
              "      <td>1.0</td>\n",
              "      <td>1</td>\n",
              "      <td>...</td>\n",
              "      <td>368.6</td>\n",
              "      <td>472.5</td>\n",
              "      <td>400.7</td>\n",
              "      <td>360.0</td>\n",
              "      <td>4</td>\n",
              "      <td>4</td>\n",
              "      <td>2</td>\n",
              "      <td>0</td>\n",
              "      <td>1</td>\n",
              "      <td>1</td>\n",
              "    </tr>\n",
              "    <tr>\n",
              "      <th>19977</th>\n",
              "      <td>25</td>\n",
              "      <td>0</td>\n",
              "      <td>0.0</td>\n",
              "      <td>3</td>\n",
              "      <td>1</td>\n",
              "      <td>1</td>\n",
              "      <td>0</td>\n",
              "      <td>1</td>\n",
              "      <td>1.0</td>\n",
              "      <td>1</td>\n",
              "      <td>...</td>\n",
              "      <td>395.5</td>\n",
              "      <td>597.4</td>\n",
              "      <td>494.5</td>\n",
              "      <td>360.0</td>\n",
              "      <td>2</td>\n",
              "      <td>3</td>\n",
              "      <td>1</td>\n",
              "      <td>1</td>\n",
              "      <td>1</td>\n",
              "      <td>1</td>\n",
              "    </tr>\n",
              "    <tr>\n",
              "      <th>19978</th>\n",
              "      <td>13</td>\n",
              "      <td>0</td>\n",
              "      <td>0.0</td>\n",
              "      <td>2</td>\n",
              "      <td>1</td>\n",
              "      <td>0</td>\n",
              "      <td>3</td>\n",
              "      <td>0</td>\n",
              "      <td>1.0</td>\n",
              "      <td>0</td>\n",
              "      <td>...</td>\n",
              "      <td>0.0</td>\n",
              "      <td>0.0</td>\n",
              "      <td>0.0</td>\n",
              "      <td>0.0</td>\n",
              "      <td>0</td>\n",
              "      <td>4</td>\n",
              "      <td>2</td>\n",
              "      <td>1</td>\n",
              "      <td>1</td>\n",
              "      <td>0</td>\n",
              "    </tr>\n",
              "    <tr>\n",
              "      <th>19980</th>\n",
              "      <td>15</td>\n",
              "      <td>0</td>\n",
              "      <td>1.0</td>\n",
              "      <td>1</td>\n",
              "      <td>1</td>\n",
              "      <td>0</td>\n",
              "      <td>7</td>\n",
              "      <td>0</td>\n",
              "      <td>3.0</td>\n",
              "      <td>0</td>\n",
              "      <td>...</td>\n",
              "      <td>0.0</td>\n",
              "      <td>0.0</td>\n",
              "      <td>0.0</td>\n",
              "      <td>0.0</td>\n",
              "      <td>1</td>\n",
              "      <td>2</td>\n",
              "      <td>3</td>\n",
              "      <td>1</td>\n",
              "      <td>1</td>\n",
              "      <td>0</td>\n",
              "    </tr>\n",
              "    <tr>\n",
              "      <th>19982</th>\n",
              "      <td>12</td>\n",
              "      <td>0</td>\n",
              "      <td>0.0</td>\n",
              "      <td>3</td>\n",
              "      <td>2</td>\n",
              "      <td>0</td>\n",
              "      <td>2</td>\n",
              "      <td>0</td>\n",
              "      <td>1.0</td>\n",
              "      <td>1</td>\n",
              "      <td>...</td>\n",
              "      <td>449.3</td>\n",
              "      <td>506.3</td>\n",
              "      <td>442.5</td>\n",
              "      <td>400.0</td>\n",
              "      <td>2</td>\n",
              "      <td>2</td>\n",
              "      <td>2</td>\n",
              "      <td>0</td>\n",
              "      <td>0</td>\n",
              "      <td>0</td>\n",
              "    </tr>\n",
              "    <tr>\n",
              "      <th>19983</th>\n",
              "      <td>10</td>\n",
              "      <td>0</td>\n",
              "      <td>0.0</td>\n",
              "      <td>3</td>\n",
              "      <td>1</td>\n",
              "      <td>0</td>\n",
              "      <td>3</td>\n",
              "      <td>0</td>\n",
              "      <td>1.0</td>\n",
              "      <td>1</td>\n",
              "      <td>...</td>\n",
              "      <td>430.7</td>\n",
              "      <td>483.5</td>\n",
              "      <td>477.4</td>\n",
              "      <td>520.0</td>\n",
              "      <td>1</td>\n",
              "      <td>2</td>\n",
              "      <td>1</td>\n",
              "      <td>0</td>\n",
              "      <td>0</td>\n",
              "      <td>0</td>\n",
              "    </tr>\n",
              "    <tr>\n",
              "      <th>19986</th>\n",
              "      <td>25</td>\n",
              "      <td>1</td>\n",
              "      <td>0.0</td>\n",
              "      <td>3</td>\n",
              "      <td>1</td>\n",
              "      <td>1</td>\n",
              "      <td>0</td>\n",
              "      <td>1</td>\n",
              "      <td>1.0</td>\n",
              "      <td>1</td>\n",
              "      <td>...</td>\n",
              "      <td>631.5</td>\n",
              "      <td>661.1</td>\n",
              "      <td>613.5</td>\n",
              "      <td>860.0</td>\n",
              "      <td>4</td>\n",
              "      <td>4</td>\n",
              "      <td>3</td>\n",
              "      <td>1</td>\n",
              "      <td>1</td>\n",
              "      <td>1</td>\n",
              "    </tr>\n",
              "    <tr>\n",
              "      <th>19987</th>\n",
              "      <td>10</td>\n",
              "      <td>0</td>\n",
              "      <td>0.0</td>\n",
              "      <td>1</td>\n",
              "      <td>1</td>\n",
              "      <td>0</td>\n",
              "      <td>1</td>\n",
              "      <td>0</td>\n",
              "      <td>1.0</td>\n",
              "      <td>1</td>\n",
              "      <td>...</td>\n",
              "      <td>609.6</td>\n",
              "      <td>606.9</td>\n",
              "      <td>626.2</td>\n",
              "      <td>780.0</td>\n",
              "      <td>3</td>\n",
              "      <td>4</td>\n",
              "      <td>3</td>\n",
              "      <td>0</td>\n",
              "      <td>1</td>\n",
              "      <td>0</td>\n",
              "    </tr>\n",
              "    <tr>\n",
              "      <th>19988</th>\n",
              "      <td>25</td>\n",
              "      <td>1</td>\n",
              "      <td>0.0</td>\n",
              "      <td>2</td>\n",
              "      <td>1</td>\n",
              "      <td>1</td>\n",
              "      <td>0</td>\n",
              "      <td>1</td>\n",
              "      <td>1.0</td>\n",
              "      <td>1</td>\n",
              "      <td>...</td>\n",
              "      <td>567.0</td>\n",
              "      <td>627.2</td>\n",
              "      <td>632.6</td>\n",
              "      <td>580.0</td>\n",
              "      <td>5</td>\n",
              "      <td>5</td>\n",
              "      <td>2</td>\n",
              "      <td>2</td>\n",
              "      <td>1</td>\n",
              "      <td>1</td>\n",
              "    </tr>\n",
              "    <tr>\n",
              "      <th>19989</th>\n",
              "      <td>25</td>\n",
              "      <td>0</td>\n",
              "      <td>0.0</td>\n",
              "      <td>1</td>\n",
              "      <td>1</td>\n",
              "      <td>0</td>\n",
              "      <td>9</td>\n",
              "      <td>0</td>\n",
              "      <td>1.0</td>\n",
              "      <td>1</td>\n",
              "      <td>...</td>\n",
              "      <td>481.2</td>\n",
              "      <td>638.7</td>\n",
              "      <td>576.0</td>\n",
              "      <td>520.0</td>\n",
              "      <td>1</td>\n",
              "      <td>4</td>\n",
              "      <td>7</td>\n",
              "      <td>0</td>\n",
              "      <td>1</td>\n",
              "      <td>0</td>\n",
              "    </tr>\n",
              "    <tr>\n",
              "      <th>19990</th>\n",
              "      <td>24</td>\n",
              "      <td>1</td>\n",
              "      <td>0.0</td>\n",
              "      <td>2</td>\n",
              "      <td>1</td>\n",
              "      <td>0</td>\n",
              "      <td>2</td>\n",
              "      <td>0</td>\n",
              "      <td>1.0</td>\n",
              "      <td>1</td>\n",
              "      <td>...</td>\n",
              "      <td>447.0</td>\n",
              "      <td>625.9</td>\n",
              "      <td>451.6</td>\n",
              "      <td>920.0</td>\n",
              "      <td>0</td>\n",
              "      <td>0</td>\n",
              "      <td>1</td>\n",
              "      <td>0</td>\n",
              "      <td>0</td>\n",
              "      <td>0</td>\n",
              "    </tr>\n",
              "    <tr>\n",
              "      <th>19991</th>\n",
              "      <td>14</td>\n",
              "      <td>0</td>\n",
              "      <td>0.0</td>\n",
              "      <td>2</td>\n",
              "      <td>1</td>\n",
              "      <td>0</td>\n",
              "      <td>4</td>\n",
              "      <td>0</td>\n",
              "      <td>1.0</td>\n",
              "      <td>1</td>\n",
              "      <td>...</td>\n",
              "      <td>540.6</td>\n",
              "      <td>435.5</td>\n",
              "      <td>407.9</td>\n",
              "      <td>540.0</td>\n",
              "      <td>4</td>\n",
              "      <td>4</td>\n",
              "      <td>1</td>\n",
              "      <td>0</td>\n",
              "      <td>0</td>\n",
              "      <td>0</td>\n",
              "    </tr>\n",
              "    <tr>\n",
              "      <th>19993</th>\n",
              "      <td>25</td>\n",
              "      <td>0</td>\n",
              "      <td>0.0</td>\n",
              "      <td>1</td>\n",
              "      <td>2</td>\n",
              "      <td>0</td>\n",
              "      <td>2</td>\n",
              "      <td>0</td>\n",
              "      <td>1.0</td>\n",
              "      <td>1</td>\n",
              "      <td>...</td>\n",
              "      <td>483.1</td>\n",
              "      <td>604.7</td>\n",
              "      <td>550.4</td>\n",
              "      <td>520.0</td>\n",
              "      <td>1</td>\n",
              "      <td>1</td>\n",
              "      <td>2</td>\n",
              "      <td>0</td>\n",
              "      <td>0</td>\n",
              "      <td>0</td>\n",
              "    </tr>\n",
              "    <tr>\n",
              "      <th>19994</th>\n",
              "      <td>5</td>\n",
              "      <td>0</td>\n",
              "      <td>0.0</td>\n",
              "      <td>2</td>\n",
              "      <td>1</td>\n",
              "      <td>1</td>\n",
              "      <td>0</td>\n",
              "      <td>1</td>\n",
              "      <td>1.0</td>\n",
              "      <td>1</td>\n",
              "      <td>...</td>\n",
              "      <td>430.3</td>\n",
              "      <td>609.0</td>\n",
              "      <td>607.4</td>\n",
              "      <td>880.0</td>\n",
              "      <td>7</td>\n",
              "      <td>4</td>\n",
              "      <td>2</td>\n",
              "      <td>0</td>\n",
              "      <td>1</td>\n",
              "      <td>1</td>\n",
              "    </tr>\n",
              "    <tr>\n",
              "      <th>19995</th>\n",
              "      <td>25</td>\n",
              "      <td>0</td>\n",
              "      <td>0.0</td>\n",
              "      <td>3</td>\n",
              "      <td>1</td>\n",
              "      <td>0</td>\n",
              "      <td>1</td>\n",
              "      <td>0</td>\n",
              "      <td>1.0</td>\n",
              "      <td>1</td>\n",
              "      <td>...</td>\n",
              "      <td>518.3</td>\n",
              "      <td>592.3</td>\n",
              "      <td>599.0</td>\n",
              "      <td>360.0</td>\n",
              "      <td>2</td>\n",
              "      <td>2</td>\n",
              "      <td>5</td>\n",
              "      <td>1</td>\n",
              "      <td>1</td>\n",
              "      <td>0</td>\n",
              "    </tr>\n",
              "    <tr>\n",
              "      <th>19998</th>\n",
              "      <td>25</td>\n",
              "      <td>0</td>\n",
              "      <td>1.0</td>\n",
              "      <td>3</td>\n",
              "      <td>1</td>\n",
              "      <td>0</td>\n",
              "      <td>12</td>\n",
              "      <td>0</td>\n",
              "      <td>1.0</td>\n",
              "      <td>0</td>\n",
              "      <td>...</td>\n",
              "      <td>0.0</td>\n",
              "      <td>0.0</td>\n",
              "      <td>0.0</td>\n",
              "      <td>0.0</td>\n",
              "      <td>2</td>\n",
              "      <td>1</td>\n",
              "      <td>2</td>\n",
              "      <td>0</td>\n",
              "      <td>1</td>\n",
              "      <td>0</td>\n",
              "    </tr>\n",
              "    <tr>\n",
              "      <th>19999</th>\n",
              "      <td>17</td>\n",
              "      <td>0</td>\n",
              "      <td>1.0</td>\n",
              "      <td>3</td>\n",
              "      <td>1</td>\n",
              "      <td>0</td>\n",
              "      <td>5</td>\n",
              "      <td>0</td>\n",
              "      <td>1.0</td>\n",
              "      <td>0</td>\n",
              "      <td>...</td>\n",
              "      <td>0.0</td>\n",
              "      <td>0.0</td>\n",
              "      <td>0.0</td>\n",
              "      <td>0.0</td>\n",
              "      <td>3</td>\n",
              "      <td>4</td>\n",
              "      <td>7</td>\n",
              "      <td>1</td>\n",
              "      <td>1</td>\n",
              "      <td>0</td>\n",
              "    </tr>\n",
              "  </tbody>\n",
              "</table>\n",
              "<p>14560 rows × 22 columns</p>\n",
              "</div>"
            ],
            "text/plain": [
              "       SG_UF_RESIDENCIA  TP_SEXO  TP_ESTADO_CIVIL  TP_COR_RACA  \\\n",
              "0                     6        1              1.0            1   \n",
              "1                     9        0              0.0            3   \n",
              "2                    25        0              0.0            1   \n",
              "3                     4        0              0.0            3   \n",
              "4                     4        1              0.0            0   \n",
              "5                    14        0              0.0            1   \n",
              "6                    10        0              0.0            1   \n",
              "7                    16        1              1.0            3   \n",
              "8                     5        1              0.0            3   \n",
              "9                    12        0              0.0            3   \n",
              "10                   19        0              0.0            1   \n",
              "11                    5        0              0.0            3   \n",
              "12                   26        0              0.0            2   \n",
              "13                   25        1              0.0            3   \n",
              "14                   10        1              0.0            1   \n",
              "15                   25        0              0.0            3   \n",
              "16                    5        1              0.0            3   \n",
              "17                   10        0              0.0            1   \n",
              "18                    6        1              0.0            1   \n",
              "19                   25        0              0.0            3   \n",
              "20                   19        0              0.0            1   \n",
              "21                    6        1              0.0            3   \n",
              "23                    4        0              0.0            3   \n",
              "24                   16        1              0.0            3   \n",
              "25                   22        0              0.0            1   \n",
              "26                   14        0              0.0            1   \n",
              "28                   22        0              0.0            1   \n",
              "29                   16        0              1.0            3   \n",
              "30                   22        0              1.0            1   \n",
              "32                    5        1              0.0            3   \n",
              "...                 ...      ...              ...          ...   \n",
              "19954                 1        0              0.0            3   \n",
              "19955                25        1              0.0            1   \n",
              "19956                13        0              1.0            3   \n",
              "19957                 4        1              0.0            3   \n",
              "19959                10        1              0.0            3   \n",
              "19961                10        0              0.0            3   \n",
              "19965                10        0              0.0            3   \n",
              "19967                10        0              1.0            3   \n",
              "19968                25        0              0.0            1   \n",
              "19969                 4        0              0.0            3   \n",
              "19970                23        0              0.0            1   \n",
              "19971                13        1              1.0            3   \n",
              "19975                13        1              0.0            3   \n",
              "19976                 6        0              0.0            1   \n",
              "19977                25        0              0.0            3   \n",
              "19978                13        0              0.0            2   \n",
              "19980                15        0              1.0            1   \n",
              "19982                12        0              0.0            3   \n",
              "19983                10        0              0.0            3   \n",
              "19986                25        1              0.0            3   \n",
              "19987                10        0              0.0            1   \n",
              "19988                25        1              0.0            2   \n",
              "19989                25        0              0.0            1   \n",
              "19990                24        1              0.0            2   \n",
              "19991                14        0              0.0            2   \n",
              "19993                25        0              0.0            1   \n",
              "19994                 5        0              0.0            2   \n",
              "19995                25        0              0.0            3   \n",
              "19998                25        0              1.0            3   \n",
              "19999                17        0              1.0            3   \n",
              "\n",
              "       TP_NACIONALIDADE  TP_ST_CONCLUSAO  TP_ANO_CONCLUIU  TP_ESCOLA  \\\n",
              "0                     0                1                0          1   \n",
              "1                     1                0                5          0   \n",
              "2                     1                0                3          0   \n",
              "3                     2                0                8          0   \n",
              "4                     1                1                0          1   \n",
              "5                     1                0                5          0   \n",
              "6                     1                0               12          0   \n",
              "7                     1                0               12          0   \n",
              "8                     1                1                0          1   \n",
              "9                     1                0                9          0   \n",
              "10                    1                0               12          0   \n",
              "11                    1                0                1          0   \n",
              "12                    1                0                1          0   \n",
              "13                    1                0                6          0   \n",
              "14                    1                0                1          0   \n",
              "15                    1                0                4          0   \n",
              "16                    1                1                0          1   \n",
              "17                    1                0                4          0   \n",
              "18                    1                0                2          0   \n",
              "19                    1                0               10          0   \n",
              "20                    1                0               12          0   \n",
              "21                    1                0               12          0   \n",
              "23                    1                0                1          0   \n",
              "24                    1                0                2          0   \n",
              "25                    1                0                6          0   \n",
              "26                    1                1                0          1   \n",
              "28                    1                0                7          0   \n",
              "29                    1                1                0          1   \n",
              "30                    1                0                3          0   \n",
              "32                    1                0                1          0   \n",
              "...                 ...              ...              ...        ...   \n",
              "19954                 1                0                3          0   \n",
              "19955                 1                0                2          0   \n",
              "19956                 1                0                2          0   \n",
              "19957                 1                1                0          3   \n",
              "19959                 1                0                2          0   \n",
              "19961                 2                1                0          0   \n",
              "19965                 1                0                4          0   \n",
              "19967                 1                0               12          0   \n",
              "19968                 1                0                4          0   \n",
              "19969                 1                0                1          0   \n",
              "19970                 1                1                0          1   \n",
              "19971                 1                0               12          0   \n",
              "19975                 1                1                0          1   \n",
              "19976                 1                1                0          1   \n",
              "19977                 1                1                0          1   \n",
              "19978                 1                0                3          0   \n",
              "19980                 1                0                7          0   \n",
              "19982                 2                0                2          0   \n",
              "19983                 1                0                3          0   \n",
              "19986                 1                1                0          1   \n",
              "19987                 1                0                1          0   \n",
              "19988                 1                1                0          1   \n",
              "19989                 1                0                9          0   \n",
              "19990                 1                0                2          0   \n",
              "19991                 1                0                4          0   \n",
              "19993                 2                0                2          0   \n",
              "19994                 1                1                0          1   \n",
              "19995                 1                0                1          0   \n",
              "19998                 1                0               12          0   \n",
              "19999                 1                0                5          0   \n",
              "\n",
              "       TP_ENSINO  TP_PRESENCA_CN  ...  NU_NOTA_CN  NU_NOTA_CH  NU_NOTA_LC  \\\n",
              "0            1.0               0  ...         0.0         0.0         0.0   \n",
              "1            1.0               1  ...       521.0       568.7       513.1   \n",
              "2            3.0               0  ...         0.0         0.0         0.0   \n",
              "3            1.0               0  ...         0.0         0.0         0.0   \n",
              "4            1.0               0  ...         0.0       419.9       345.8   \n",
              "5            1.0               1  ...       461.8       564.0       466.8   \n",
              "6            1.0               0  ...         0.0         0.0         0.0   \n",
              "7            1.0               1  ...       499.3       663.2       605.2   \n",
              "8            1.0               1  ...       411.8       429.8       445.2   \n",
              "9            1.0               1  ...       469.4       650.2       606.6   \n",
              "10           1.0               0  ...         0.0         0.0         0.0   \n",
              "11           1.0               0  ...         0.0       618.7       588.2   \n",
              "12           1.0               1  ...       467.4       640.5       516.7   \n",
              "13           1.0               1  ...       625.5       652.2       616.3   \n",
              "14           1.0               0  ...         0.0         0.0         0.0   \n",
              "15           1.0               0  ...         0.0         0.0         0.0   \n",
              "16           1.0               1  ...       478.5       513.3       564.7   \n",
              "17           1.0               1  ...       521.8       598.9       584.6   \n",
              "18           1.0               1  ...       397.7       612.0       455.0   \n",
              "19           1.0               1  ...       501.5       540.6       531.5   \n",
              "20           1.0               1  ...       453.6       678.9       598.1   \n",
              "21           1.0               0  ...         0.0         0.0         0.0   \n",
              "23           1.0               0  ...         0.0         0.0         0.0   \n",
              "24           1.0               1  ...       397.5       608.3       560.5   \n",
              "25           1.0               0  ...         0.0         0.0         0.0   \n",
              "26           1.0               1  ...       479.4       539.0       553.8   \n",
              "28           1.0               1  ...       514.7       576.6       512.2   \n",
              "29           1.0               1  ...       429.8       586.7       450.3   \n",
              "30           1.0               0  ...         0.0         0.0         0.0   \n",
              "32           1.0               1  ...       591.1       684.9       611.3   \n",
              "...          ...             ...  ...         ...         ...         ...   \n",
              "19954        1.0               0  ...         0.0         0.0         0.0   \n",
              "19955        1.0               0  ...         0.0         0.0         0.0   \n",
              "19956        1.0               1  ...       518.0       591.1       560.9   \n",
              "19957        1.0               1  ...       489.4       663.0       568.5   \n",
              "19959        3.0               1  ...       423.8       638.2       558.3   \n",
              "19961        1.0               0  ...         0.0         0.0         0.0   \n",
              "19965        1.0               0  ...         0.0         0.0         0.0   \n",
              "19967        1.0               0  ...         0.0         0.0         0.0   \n",
              "19968        1.0               1  ...       543.8       642.2       588.8   \n",
              "19969        1.0               1  ...       730.8       698.7       669.4   \n",
              "19970        1.0               0  ...         0.0       485.9       393.8   \n",
              "19971        1.0               1  ...       550.9       620.7       554.5   \n",
              "19975        1.0               1  ...       579.7       669.1       542.0   \n",
              "19976        1.0               1  ...       368.6       472.5       400.7   \n",
              "19977        1.0               1  ...       395.5       597.4       494.5   \n",
              "19978        1.0               0  ...         0.0         0.0         0.0   \n",
              "19980        3.0               0  ...         0.0         0.0         0.0   \n",
              "19982        1.0               1  ...       449.3       506.3       442.5   \n",
              "19983        1.0               1  ...       430.7       483.5       477.4   \n",
              "19986        1.0               1  ...       631.5       661.1       613.5   \n",
              "19987        1.0               1  ...       609.6       606.9       626.2   \n",
              "19988        1.0               1  ...       567.0       627.2       632.6   \n",
              "19989        1.0               1  ...       481.2       638.7       576.0   \n",
              "19990        1.0               1  ...       447.0       625.9       451.6   \n",
              "19991        1.0               1  ...       540.6       435.5       407.9   \n",
              "19993        1.0               1  ...       483.1       604.7       550.4   \n",
              "19994        1.0               1  ...       430.3       609.0       607.4   \n",
              "19995        1.0               1  ...       518.3       592.3       599.0   \n",
              "19998        1.0               0  ...         0.0         0.0         0.0   \n",
              "19999        1.0               0  ...         0.0         0.0         0.0   \n",
              "\n",
              "       NU_NOTA_REDACAO  Q001  Q002  Q006  Q024  Q025  Q026  \n",
              "0                  0.0     0     0     0     0     0     1  \n",
              "1                280.0     1     1     1     0     0     0  \n",
              "2                  0.0     4     4     2     1     1     0  \n",
              "3                  0.0     1     2     1     1     1     0  \n",
              "4                360.0     2     4     1     1     1     1  \n",
              "5                580.0     2     3     1     1     1     0  \n",
              "6                  0.0     1     1     4     1     1     0  \n",
              "7                680.0     0     4     7     1     1     0  \n",
              "8                340.0     3     3     2     0     0     1  \n",
              "9                740.0     2     2     2     0     0     0  \n",
              "10                 0.0     4     4     2     0     1     0  \n",
              "11               640.0     3     4     2     1     0     0  \n",
              "12               640.0     4     4     1     0     0     0  \n",
              "13               840.0     4     4     4     2     1     0  \n",
              "14                 0.0     1     1     6     0     0     0  \n",
              "15                 0.0     3     4     2     1     1     0  \n",
              "16               580.0     2     2     1     0     0     1  \n",
              "17               580.0     2     2     4     1     1     0  \n",
              "18               360.0     4     4     2     0     1     0  \n",
              "19               380.0     4     2     5     1     1     0  \n",
              "20               660.0     3     0     2     0     0     0  \n",
              "21                 0.0     1     4     5     1     1     0  \n",
              "23                 0.0     4     4     1     0     1     0  \n",
              "24               340.0     4     5     2     1     0     0  \n",
              "25                 0.0     1     1     4     0     1     0  \n",
              "26               620.0     7     4     1     0     1     1  \n",
              "28               540.0     2     3     7     2     1     0  \n",
              "29               300.0     1     0     1     0     0     1  \n",
              "30                 0.0     7     1     2     0     1     0  \n",
              "32               580.0     3     3     2     1     1     0  \n",
              "...                ...   ...   ...   ...   ...   ...   ...  \n",
              "19954              0.0     4     2     1     0     1     0  \n",
              "19955              0.0     1     1    10     2     1     0  \n",
              "19956            600.0     4     4     1     0     1     0  \n",
              "19957            820.0     5     4     3     0     0     1  \n",
              "19959            540.0     7     1     1     1     1     0  \n",
              "19961              0.0     3     4     3     1     1     1  \n",
              "19965              0.0     1     3     4     0     1     0  \n",
              "19967              0.0     4     3     3     1     1     0  \n",
              "19968            360.0     7     2     5     0     1     0  \n",
              "19969            940.0     2     4     4     1     1     0  \n",
              "19970            620.0     2     3     6     1     1     1  \n",
              "19971            520.0     1     1     3     0     1     0  \n",
              "19975            940.0     4     3     1     0     0     1  \n",
              "19976            360.0     4     4     2     0     1     1  \n",
              "19977            360.0     2     3     1     1     1     1  \n",
              "19978              0.0     0     4     2     1     1     0  \n",
              "19980              0.0     1     2     3     1     1     0  \n",
              "19982            400.0     2     2     2     0     0     0  \n",
              "19983            520.0     1     2     1     0     0     0  \n",
              "19986            860.0     4     4     3     1     1     1  \n",
              "19987            780.0     3     4     3     0     1     0  \n",
              "19988            580.0     5     5     2     2     1     1  \n",
              "19989            520.0     1     4     7     0     1     0  \n",
              "19990            920.0     0     0     1     0     0     0  \n",
              "19991            540.0     4     4     1     0     0     0  \n",
              "19993            520.0     1     1     2     0     0     0  \n",
              "19994            880.0     7     4     2     0     1     1  \n",
              "19995            360.0     2     2     5     1     1     0  \n",
              "19998              0.0     2     1     2     0     1     0  \n",
              "19999              0.0     3     4     7     1     1     0  \n",
              "\n",
              "[14560 rows x 22 columns]"
            ]
          },
          "metadata": {
            "tags": []
          },
          "execution_count": 8
        }
      ]
    },
    {
      "cell_type": "code",
      "metadata": {
        "id": "kKSdVjazQclS",
        "outputId": "90b836ac-a804-4fe2-8711-2ead875f3047"
      },
      "source": [
        "y.head()"
      ],
      "execution_count": null,
      "outputs": [
        {
          "output_type": "execute_result",
          "data": {
            "text/plain": [
              "0      0.0\n",
              "1    480.3\n",
              "2      0.0\n",
              "3      0.0\n",
              "4      0.0\n",
              "Name: NU_NOTA_MT, dtype: float64"
            ]
          },
          "metadata": {
            "tags": []
          },
          "execution_count": 9
        }
      ]
    },
    {
      "cell_type": "code",
      "metadata": {
        "id": "1QpYQACyQclT"
      },
      "source": [
        "from sklearn.model_selection import train_test_split\n",
        "\n",
        "X_train, X_test, y_train, y_test = train_test_split(X, y, test_size = 0.3, random_state = 42)\n",
        "\n",
        "#NORMALIZANDO OS DADOS\n",
        "#from sklearn.preprocessing import StandardScaler\n",
        "#sc = StandardScaler()  \n",
        "#X_train = sc.fit_transform(X_train)  \n",
        "#X_test = sc.transform(X_test)"
      ],
      "execution_count": null,
      "outputs": []
    },
    {
      "cell_type": "markdown",
      "metadata": {
        "id": "6JZXnw_4QclU"
      },
      "source": [
        "# Modelo MLP regressor"
      ]
    },
    {
      "cell_type": "code",
      "metadata": {
        "id": "B1NgdwgOQclU"
      },
      "source": [
        "from sklearn.neural_network import MLPRegressor\n",
        "from sklearn.datasets import make_regression"
      ],
      "execution_count": null,
      "outputs": []
    },
    {
      "cell_type": "code",
      "metadata": {
        "id": "n2qzo-sxQclV"
      },
      "source": [
        "print(\"Dados de Treino\", len(y_train))\n",
        "print(\"Dados de Teste\", len(y_test))"
      ],
      "execution_count": null,
      "outputs": []
    },
    {
      "cell_type": "code",
      "metadata": {
        "id": "EaEdtiEbQclV"
      },
      "source": [
        "from sklearn.preprocessing import StandardScaler\n",
        "scaler = StandardScaler()\n",
        "\n",
        "# Fit on training set only.\n",
        "scaler.fit(X_train)\n",
        "\n",
        "# Apply transform to both the training set and the test set.\n",
        "train_x = scaler.transform(X_train)\n",
        "test_x = scaler.transform(X_test)"
      ],
      "execution_count": null,
      "outputs": []
    },
    {
      "cell_type": "code",
      "metadata": {
        "id": "bywBczvrQclW"
      },
      "source": [
        "#Quantidade de neurônios de cada camada (Tem que escolher!!!)\n",
        " \n",
        "regr = MLPRegressor(random_state=1, max_iter=5000, hidden_layer_sizes= (23, 12, 1)).fit(X_train, y_train)\n",
        "# Predicting probability scores for the test set.\n",
        "y_prob = regr.predict(X_test)\n"
      ],
      "execution_count": null,
      "outputs": []
    },
    {
      "cell_type": "code",
      "metadata": {
        "id": "yYXXqLNbQclW"
      },
      "source": [
        "from sklearn.metrics import mean_absolute_error\n",
        "print(f'MAE {mean_absolute_error(y_test, y_prob)}')"
      ],
      "execution_count": null,
      "outputs": []
    },
    {
      "cell_type": "code",
      "metadata": {
        "id": "9oi_ly5uQclX"
      },
      "source": [
        "from sklearn.metrics import mean_squared_error\n",
        "print(f'MSE {mean_squared_error(y_test, y_prob)}')"
      ],
      "execution_count": null,
      "outputs": []
    },
    {
      "cell_type": "code",
      "metadata": {
        "id": "knv-I4y3QclX"
      },
      "source": [
        "sns.scatterplot(y_prob, y_test)\n",
        "plt.show()"
      ],
      "execution_count": null,
      "outputs": []
    },
    {
      "cell_type": "code",
      "metadata": {
        "id": "6BLrJG3jQclY"
      },
      "source": [
        "from sklearn.model_selection import cross_val_score\n",
        "resultado = cross_val_score(regr, X_test, y_test, cv = 10, scoring='r2')\n",
        "print(resultado.mean())"
      ],
      "execution_count": null,
      "outputs": []
    },
    {
      "cell_type": "code",
      "metadata": {
        "id": "4sptvKZ5QclZ"
      },
      "source": [
        "print('Root Mean Squared Error:', np.sqrt(metrics.mean_squared_error(y_test, y_prob)))"
      ],
      "execution_count": null,
      "outputs": []
    },
    {
      "cell_type": "code",
      "metadata": {
        "id": "LTM72n56QclZ"
      },
      "source": [
        "regr.score(X_test, y_test)"
      ],
      "execution_count": null,
      "outputs": []
    },
    {
      "cell_type": "code",
      "metadata": {
        "id": "gvbSw8I1Qcla"
      },
      "source": [
        "len(test_y)"
      ],
      "execution_count": null,
      "outputs": []
    },
    {
      "cell_type": "code",
      "metadata": {
        "id": "Cfl-KCl8Qcla"
      },
      "source": [
        "fig = plt.figure()\n",
        "ax1 = fig.add_subplot(111)\n",
        "ax1.scatter(X.iloc[:,15], y, s=1, c='b', marker=\"s\", label='real')\n",
        "ax1.scatter(X_test.iloc[:,15],test_y, s=10, c='r', marker=\"x\", label='NN Prediction')\n",
        "plt.show()"
      ],
      "execution_count": null,
      "outputs": []
    },
    {
      "cell_type": "code",
      "metadata": {
        "id": "I35xDK8lQclb"
      },
      "source": [
        ""
      ],
      "execution_count": null,
      "outputs": []
    },
    {
      "cell_type": "markdown",
      "metadata": {
        "id": "YbPKNAVfQclb"
      },
      "source": [
        "# Modelo Nearest Neighbors regression"
      ]
    },
    {
      "cell_type": "code",
      "metadata": {
        "id": "FrKKN31OQclc"
      },
      "source": [
        "from sklearn import neighbors\n",
        "from sklearn.metrics import mean_squared_error \n",
        "from math import sqrt"
      ],
      "execution_count": null,
      "outputs": []
    },
    {
      "cell_type": "code",
      "metadata": {
        "id": "amoi8GuyQclc",
        "outputId": "1e28926a-d0d3-43cf-e984-9caab013eaff"
      },
      "source": [
        "#Calculating error for K values between 1 and 20\n",
        "rmse_val = [] #to store rmse values for different k\n",
        "for K in range(30):\n",
        "    K = K+1\n",
        "    model = neighbors.KNeighborsRegressor(n_neighbors = K)\n",
        "\n",
        "    model.fit(X_train, y_train)  #fit the model\n",
        "    pred=model.predict(X_test) #make prediction on test set\n",
        "    error = sqrt(mean_squared_error(y_test,pred)) #calculate rmse\n",
        "    rmse_val.append(error) #store rmse values\n",
        "    print('RMSE value for k= ' , K , 'is:', error)"
      ],
      "execution_count": null,
      "outputs": [
        {
          "output_type": "error",
          "ename": "TypeError",
          "evalue": "'list' object is not callable",
          "traceback": [
            "\u001b[1;31m---------------------------------------------------------------------------\u001b[0m",
            "\u001b[1;31mTypeError\u001b[0m                                 Traceback (most recent call last)",
            "\u001b[1;32m<ipython-input-45-0f70728ebdd9>\u001b[0m in \u001b[0;36m<module>\u001b[1;34m\u001b[0m\n\u001b[0;32m      1\u001b[0m \u001b[1;31m#Calculating error for K values between 1 and 20\u001b[0m\u001b[1;33m\u001b[0m\u001b[1;33m\u001b[0m\u001b[1;33m\u001b[0m\u001b[0m\n\u001b[0;32m      2\u001b[0m \u001b[0mrmse_val\u001b[0m \u001b[1;33m=\u001b[0m \u001b[1;33m[\u001b[0m\u001b[1;33m]\u001b[0m \u001b[1;31m#to store rmse values for different k\u001b[0m\u001b[1;33m\u001b[0m\u001b[1;33m\u001b[0m\u001b[0m\n\u001b[1;32m----> 3\u001b[1;33m \u001b[1;32mfor\u001b[0m \u001b[0mK\u001b[0m \u001b[1;32min\u001b[0m \u001b[0mrange\u001b[0m\u001b[1;33m(\u001b[0m\u001b[1;36m30\u001b[0m\u001b[1;33m)\u001b[0m\u001b[1;33m:\u001b[0m\u001b[1;33m\u001b[0m\u001b[1;33m\u001b[0m\u001b[0m\n\u001b[0m\u001b[0;32m      4\u001b[0m     \u001b[0mK\u001b[0m \u001b[1;33m=\u001b[0m \u001b[0mK\u001b[0m\u001b[1;33m+\u001b[0m\u001b[1;36m1\u001b[0m\u001b[1;33m\u001b[0m\u001b[1;33m\u001b[0m\u001b[0m\n\u001b[0;32m      5\u001b[0m     \u001b[0mmodel\u001b[0m \u001b[1;33m=\u001b[0m \u001b[0mneighbors\u001b[0m\u001b[1;33m.\u001b[0m\u001b[0mKNeighborsRegressor\u001b[0m\u001b[1;33m(\u001b[0m\u001b[0mn_neighbors\u001b[0m \u001b[1;33m=\u001b[0m \u001b[0mK\u001b[0m\u001b[1;33m)\u001b[0m\u001b[1;33m\u001b[0m\u001b[1;33m\u001b[0m\u001b[0m\n",
            "\u001b[1;31mTypeError\u001b[0m: 'list' object is not callable"
          ]
        }
      ]
    },
    {
      "cell_type": "code",
      "metadata": {
        "id": "Z6ZHSyuuQcld"
      },
      "source": [
        "#plotting the rmse values against k values\n",
        "curve = pd.DataFrame(rmse_val) #elbow curve \n",
        "curve.plot()"
      ],
      "execution_count": null,
      "outputs": []
    },
    {
      "cell_type": "code",
      "metadata": {
        "id": "oChWHz-AQcld"
      },
      "source": [
        "from sklearn.model_selection import GridSearchCV\n",
        "params = {'n_neighbors':[2,3,4,5,6,7,8,9]}\n",
        "\n",
        "knn = neighbors.KNeighborsRegressor()\n",
        "\n",
        "model = GridSearchCV(knn, params, cv=5)\n",
        "model.fit(X_train,y_train)\n",
        "model.best_params_"
      ],
      "execution_count": null,
      "outputs": []
    },
    {
      "cell_type": "code",
      "metadata": {
        "id": "VOVyoWSCQcle"
      },
      "source": [
        "n_neighbors = 9"
      ],
      "execution_count": null,
      "outputs": []
    },
    {
      "cell_type": "code",
      "metadata": {
        "id": "py1rhAwQQcle",
        "outputId": "88cf4d29-5c40-4178-88f8-3f1897602098"
      },
      "source": [
        "for i, weights in enumerate(['uniform', 'distance']):\n",
        "    knn = neighbors.KNeighborsRegressor(n_neighbors, weights=weights).fit(X_train, y_train)\n",
        "    y_probk = knn.predict(X_test)\n",
        "    \n",
        "score = knn.score(X_test, y_test)\n",
        "print(score)"
      ],
      "execution_count": null,
      "outputs": [
        {
          "output_type": "stream",
          "text": [
            "0.9341934522603417\n"
          ],
          "name": "stdout"
        }
      ]
    },
    {
      "cell_type": "code",
      "metadata": {
        "id": "DeMQIZOsQclf",
        "outputId": "acaf58f3-2988-40b4-8992-17c277da7008"
      },
      "source": [
        "from sklearn.metrics import mean_absolute_error\n",
        "print(f'MAE {mean_absolute_error(y_test, y_probk)}')"
      ],
      "execution_count": null,
      "outputs": [
        {
          "output_type": "stream",
          "text": [
            "MAE 43.970863714325766\n"
          ],
          "name": "stdout"
        }
      ]
    },
    {
      "cell_type": "code",
      "metadata": {
        "id": "O1inWq35Qclf",
        "outputId": "d7aa7bf4-c4de-4564-d41a-c17cb448bf8e"
      },
      "source": [
        "from sklearn.metrics import mean_squared_error\n",
        "print(f'MSE {mean_squared_error(y_test, y_probk)}')"
      ],
      "execution_count": null,
      "outputs": [
        {
          "output_type": "stream",
          "text": [
            "MSE 4255.0128589190745\n"
          ],
          "name": "stdout"
        }
      ]
    },
    {
      "cell_type": "code",
      "metadata": {
        "id": "pKjVjaOlQclg",
        "outputId": "20b36686-5493-4005-b0f3-4967d15ffc02"
      },
      "source": [
        "from sklearn.model_selection import cross_val_score\n",
        "resultado = cross_val_score(knn, X_test, y_test, cv = 10)\n",
        "print(resultado.mean())"
      ],
      "execution_count": null,
      "outputs": [
        {
          "output_type": "stream",
          "text": [
            "0.9340390598763785\n"
          ],
          "name": "stdout"
        }
      ]
    },
    {
      "cell_type": "code",
      "metadata": {
        "id": "18nuQrHaQclg",
        "outputId": "ea774c39-67e9-420b-84cb-d69c6dc1d24f"
      },
      "source": [
        "print('Root Mean Squared Error:', np.sqrt(metrics.mean_squared_error(y_test, y_probk)))"
      ],
      "execution_count": null,
      "outputs": [
        {
          "output_type": "stream",
          "text": [
            "Root Mean Squared Error: 65.23045959457188\n"
          ],
          "name": "stdout"
        }
      ]
    },
    {
      "cell_type": "code",
      "metadata": {
        "id": "Pu9bLuYZQclh",
        "outputId": "c8b06408-56c2-4646-e435-dc855a88af8d"
      },
      "source": [
        "sns.scatterplot(y_probk, y_test)\n",
        "plt.show()"
      ],
      "execution_count": null,
      "outputs": [
        {
          "output_type": "display_data",
          "data": {
            "image/png": "[encoded data removed]",
            "text/plain": [
              "<Figure size 432x288 with 1 Axes>"
            ]
          },
          "metadata": {
            "tags": [],
            "needs_background": "light"
          }
        }
      ]
    },
    {
      "cell_type": "markdown",
      "metadata": {
        "id": "f_nKRm31Qcli"
      },
      "source": [
        "# Modelo Decision Tree"
      ]
    },
    {
      "cell_type": "code",
      "metadata": {
        "id": "kyHzG3AZQcli"
      },
      "source": [
        "from sklearn.tree import DecisionTreeRegressor"
      ],
      "execution_count": null,
      "outputs": []
    },
    {
      "cell_type": "code",
      "metadata": {
        "id": "WfNmjebLQclj",
        "outputId": "46307560-7770-4bd3-d798-b684ecec16b7"
      },
      "source": [
        "# Fit regression model\n",
        "regr_2 = DecisionTreeRegressor(max_depth=5)\n",
        "regr_2.fit(X_train, y_train)"
      ],
      "execution_count": null,
      "outputs": [
        {
          "output_type": "execute_result",
          "data": {
            "text/plain": [
              "DecisionTreeRegressor(max_depth=5)"
            ]
          },
          "metadata": {
            "tags": []
          },
          "execution_count": 54
        }
      ]
    },
    {
      "cell_type": "code",
      "metadata": {
        "id": "FIhV9OU7Qclj"
      },
      "source": [
        "# Predict\n",
        "y_2 = regr_2.predict(X_test)"
      ],
      "execution_count": null,
      "outputs": []
    },
    {
      "cell_type": "code",
      "metadata": {
        "id": "7lB__SEwQclk",
        "outputId": "20d2d0b8-251e-49d0-d5e7-b401665900c6"
      },
      "source": [
        "# The results\n",
        "score = regr_2.score(X_test, y_test)\n",
        "print(score)"
      ],
      "execution_count": null,
      "outputs": [
        {
          "output_type": "stream",
          "text": [
            "0.9330440098143034\n"
          ],
          "name": "stdout"
        }
      ]
    },
    {
      "cell_type": "code",
      "metadata": {
        "id": "7U7u38JYQclk",
        "outputId": "c12ac1b4-d7f3-4133-972d-d0b16e44ddb7"
      },
      "source": [
        "from sklearn.metrics import mean_absolute_error\n",
        "print(f'MAE {mean_absolute_error(y_test, y_2)}')"
      ],
      "execution_count": null,
      "outputs": [
        {
          "output_type": "stream",
          "text": [
            "MAE 43.767042275310345\n"
          ],
          "name": "stdout"
        }
      ]
    },
    {
      "cell_type": "code",
      "metadata": {
        "id": "Vke9fegAQcll",
        "outputId": "7eb78d67-1811-4fdf-bf47-0b0b0aba9932"
      },
      "source": [
        "from sklearn.metrics import mean_squared_error\n",
        "print(f'MSE {mean_squared_error(y_test, y_2)}')"
      ],
      "execution_count": null,
      "outputs": [
        {
          "output_type": "stream",
          "text": [
            "MSE 4153.973967297179\n"
          ],
          "name": "stdout"
        }
      ]
    },
    {
      "cell_type": "code",
      "metadata": {
        "id": "u561-1d7Qcll",
        "outputId": "1ecabf70-fd62-49bf-fbee-494bec993623"
      },
      "source": [
        "from sklearn.model_selection import cross_val_score\n",
        "resultado = cross_val_score(regr_2, X_test, y_test, cv = 10)\n",
        "print(resultado.mean())"
      ],
      "execution_count": null,
      "outputs": [
        {
          "output_type": "stream",
          "text": [
            "0.9354442929304361\n"
          ],
          "name": "stdout"
        }
      ]
    },
    {
      "cell_type": "code",
      "metadata": {
        "id": "9jKl8cBUQclm",
        "outputId": "de05a5cc-2060-4a77-bc2d-68ab00e67268"
      },
      "source": [
        "print('Root Mean Squared Error:', np.sqrt(metrics.mean_squared_error(y_test, y_2)))"
      ],
      "execution_count": null,
      "outputs": [
        {
          "output_type": "stream",
          "text": [
            "Root Mean Squared Error: 64.45133022131645\n"
          ],
          "name": "stdout"
        }
      ]
    },
    {
      "cell_type": "code",
      "metadata": {
        "id": "ZVJqZ11gQcln",
        "outputId": "07dbb1d3-9fba-4a6b-f9b0-bd56b2d00a2a"
      },
      "source": [
        "sns.scatterplot(y_2, y_test)\n",
        "plt.show()"
      ],
      "execution_count": null,
      "outputs": [
        {
          "output_type": "display_data",
          "data": {
            "image/png": "[encoded data removed]",
            "text/plain": [
              "<Figure size 432x288 with 1 Axes>"
            ]
          },
          "metadata": {
            "tags": [],
            "needs_background": "light"
          }
        }
      ]
    },
    {
      "cell_type": "code",
      "metadata": {
        "id": "-aS64SB_Qcln",
        "outputId": "40cfb5f6-d389-4052-94e3-51a8204c6b2c"
      },
      "source": [
        "max_depth = []\n",
        "acc_mse = []\n",
        "acc = []\n",
        "\n",
        "for i in range(2,30):\n",
        "    dtree = DecisionTreeRegressor(max_depth=i)\n",
        "    dtree.fit(X_train, y_train)\n",
        "    pred = dtree.predict(X_test)\n",
        "    #acc_mse.append(dtree.score(X_test, y_test))\n",
        "    acc.append(mean_squared_error(y_test,pred))\n",
        "    max_depth.append(i)\n",
        "\n",
        "\n",
        "# visualizing changes in parameters\n",
        "#plt.plot(acc_mse, data=d, label='Acc')\n",
        "plt.plot(acc, data=d, label='erro')\n",
        "plt.xlabel('max_depth')\n",
        "plt.ylabel('Erro')\n",
        "plt.legend()"
      ],
      "execution_count": null,
      "outputs": [
        {
          "output_type": "execute_result",
          "data": {
            "text/plain": [
              "<matplotlib.legend.Legend at 0x19a47ae8748>"
            ]
          },
          "metadata": {
            "tags": []
          },
          "execution_count": 22
        },
        {
          "output_type": "display_data",
          "data": {
            "image/png": "[encoded data removed]",
            "text/plain": [
              "<Figure size 432x288 with 1 Axes>"
            ]
          },
          "metadata": {
            "tags": [],
            "needs_background": "light"
          }
        }
      ]
    },
    {
      "cell_type": "code",
      "metadata": {
        "id": "ttyTSHfIQclo",
        "outputId": "23785829-b03f-40a3-d56e-be6c6527f4ee"
      },
      "source": [
        "from sklearn import tree\n",
        "text_representation = tree.export_text(regr_2)\n",
        "print(text_representation)"
      ],
      "execution_count": null,
      "outputs": [
        {
          "output_type": "stream",
          "text": [
            "|--- feature_12 <= 181.25\n",
            "|   |--- value: [0.00]\n",
            "|--- feature_12 >  181.25\n",
            "|   |--- feature_13 <= 634.05\n",
            "|   |   |--- feature_14 <= 513.05\n",
            "|   |   |   |--- feature_14 <= 465.15\n",
            "|   |   |   |   |--- feature_12 <= 448.05\n",
            "|   |   |   |   |   |--- value: [459.44]\n",
            "|   |   |   |   |--- feature_12 >  448.05\n",
            "|   |   |   |   |   |--- value: [478.57]\n",
            "|   |   |   |--- feature_14 >  465.15\n",
            "|   |   |   |   |--- feature_15 <= 350.00\n",
            "|   |   |   |   |   |--- value: [469.84]\n",
            "|   |   |   |   |--- feature_15 >  350.00\n",
            "|   |   |   |   |   |--- value: [497.65]\n",
            "|   |   |--- feature_14 >  513.05\n",
            "|   |   |   |--- feature_12 <= 518.65\n",
            "|   |   |   |   |--- feature_15 <= 610.00\n",
            "|   |   |   |   |   |--- value: [506.45]\n",
            "|   |   |   |   |--- feature_15 >  610.00\n",
            "|   |   |   |   |   |--- value: [532.28]\n",
            "|   |   |   |--- feature_12 >  518.65\n",
            "|   |   |   |   |--- feature_15 <= 690.00\n",
            "|   |   |   |   |   |--- value: [538.21]\n",
            "|   |   |   |   |--- feature_15 >  690.00\n",
            "|   |   |   |   |   |--- value: [582.05]\n",
            "|   |--- feature_13 >  634.05\n",
            "|   |   |--- feature_12 <= 618.70\n",
            "|   |   |   |--- feature_12 <= 552.75\n",
            "|   |   |   |   |--- feature_14 <= 595.25\n",
            "|   |   |   |   |   |--- value: [550.87]\n",
            "|   |   |   |   |--- feature_14 >  595.25\n",
            "|   |   |   |   |   |--- value: [590.92]\n",
            "|   |   |   |--- feature_12 >  552.75\n",
            "|   |   |   |   |--- feature_15 <= 690.00\n",
            "|   |   |   |   |   |--- value: [594.28]\n",
            "|   |   |   |   |--- feature_15 >  690.00\n",
            "|   |   |   |   |   |--- value: [641.69]\n",
            "|   |   |--- feature_12 >  618.70\n",
            "|   |   |   |--- feature_12 <= 661.55\n",
            "|   |   |   |   |--- feature_15 <= 630.00\n",
            "|   |   |   |   |   |--- value: [630.17]\n",
            "|   |   |   |   |--- feature_15 >  630.00\n",
            "|   |   |   |   |   |--- value: [685.95]\n",
            "|   |   |   |--- feature_12 >  661.55\n",
            "|   |   |   |   |--- feature_14 <= 613.00\n",
            "|   |   |   |   |   |--- value: [689.26]\n",
            "|   |   |   |   |--- feature_14 >  613.00\n",
            "|   |   |   |   |   |--- value: [769.76]\n",
            "\n"
          ],
          "name": "stdout"
        }
      ]
    },
    {
      "cell_type": "code",
      "metadata": {
        "id": "3tHO4G_1Qclp",
        "outputId": "b787bf29-2ff9-4015-b849-132347e466a0"
      },
      "source": [
        "#Desenhando a árvore\n",
        "fig = plt.figure(figsize=(25,20))\n",
        "_ = tree.plot_tree(regr_2, \n",
        "                   filled=True)"
      ],
      "execution_count": null,
      "outputs": [
        {
          "output_type": "display_data",
          "data": {
            "image/png": "[encoded data removed]",
            "text/plain": [
              "<Figure size 1800x1440 with 1 Axes>"
            ]
          },
          "metadata": {
            "tags": [],
            "needs_background": "light"
          }
        }
      ]
    },
    {
      "cell_type": "markdown",
      "metadata": {
        "id": "jinmTT7AQclp"
      },
      "source": [
        "# Regressão Linear"
      ]
    },
    {
      "cell_type": "code",
      "metadata": {
        "id": "eUr4PuW8Qclq"
      },
      "source": [
        "from sklearn.linear_model import LinearRegression\n",
        "from sklearn.feature_selection import RFE"
      ],
      "execution_count": null,
      "outputs": []
    },
    {
      "cell_type": "code",
      "metadata": {
        "id": "_b1KLxrkQclq",
        "outputId": "44648a5b-1f34-4a4a-cf94-92f6ec11381b"
      },
      "source": [
        "#criar uma instância do modelo\n",
        "\n",
        "model = LinearRegression()\n",
        "#Initializing RFE model\n",
        "rfe = RFE(model, 7)"
      ],
      "execution_count": null,
      "outputs": [
        {
          "output_type": "stream",
          "text": [
            "C:\\Users\\math_\\Anaconda3\\lib\\site-packages\\sklearn\\utils\\validation.py:70: FutureWarning: Pass n_features_to_select=7 as keyword args. From version 0.25 passing these as positional arguments will result in an error\n",
            "  FutureWarning)\n"
          ],
          "name": "stderr"
        }
      ]
    },
    {
      "cell_type": "code",
      "metadata": {
        "id": "1dzMS_24Qclr",
        "outputId": "ed53d8ee-4e69-40a0-bd01-b75b3b0c4dfc"
      },
      "source": [
        "#O modelo está aprendendo a relação entre x (dígitos) e y (rótulos)\n",
        "\n",
        "model.fit(X_train, y_train)"
      ],
      "execution_count": null,
      "outputs": [
        {
          "output_type": "execute_result",
          "data": {
            "text/plain": [
              "LinearRegression()"
            ]
          },
          "metadata": {
            "tags": []
          },
          "execution_count": 17
        }
      ]
    },
    {
      "cell_type": "code",
      "metadata": {
        "id": "SQLFy7E0Qclr",
        "outputId": "d6afbbbe-e0b0-44b4-ff3d-775d3a43df63"
      },
      "source": [
        "Y_prev = model.predict(X_test)\n",
        "score = model.score(X_test, y_test)\n",
        "print(score)"
      ],
      "execution_count": null,
      "outputs": [
        {
          "output_type": "stream",
          "text": [
            "0.9371648894604936\n"
          ],
          "name": "stdout"
        }
      ]
    },
    {
      "cell_type": "code",
      "metadata": {
        "id": "Y-LEkWXOQcls",
        "outputId": "74348ea5-6354-4445-dc98-c1ed1a675602"
      },
      "source": [
        "plt.scatter(y_test, Y_prev)\n",
        "range = [y_test.min(), Y_prev.max()]\n",
        "plt.plot(range, range, 'red')\n",
        "plt.xlabel('Notas reais')\n",
        "plt.ylabel('Notas preditas')\n",
        "plt.show()"
      ],
      "execution_count": null,
      "outputs": [
        {
          "output_type": "display_data",
          "data": {
            "image/png": "[encoded data removed]",
            "text/plain": [
              "<Figure size 432x288 with 1 Axes>"
            ]
          },
          "metadata": {
            "tags": [],
            "needs_background": "light"
          }
        }
      ]
    },
    {
      "cell_type": "code",
      "metadata": {
        "id": "LcqS9ex_Qcls",
        "outputId": "32a8e37e-5c7a-4f8c-e6c8-cc4929c8649b"
      },
      "source": [
        "from sklearn.metrics import mean_absolute_error\n",
        "print(f'MAE {mean_absolute_error(y_test, Y_prev)}')"
      ],
      "execution_count": null,
      "outputs": [
        {
          "output_type": "stream",
          "text": [
            "MAE 46.764925256247324\n"
          ],
          "name": "stdout"
        }
      ]
    },
    {
      "cell_type": "code",
      "metadata": {
        "id": "j1XNzhSuQclt",
        "outputId": "6f35b11d-a5ef-487e-83f9-3cf662107841"
      },
      "source": [
        "from sklearn.metrics import mean_squared_error\n",
        "print(f'MSE {mean_squared_error(y_test, Y_prev)}')"
      ],
      "execution_count": null,
      "outputs": [
        {
          "output_type": "stream",
          "text": [
            "MSE 4062.8814688006196\n"
          ],
          "name": "stdout"
        }
      ]
    },
    {
      "cell_type": "code",
      "metadata": {
        "id": "s4LqRpaxQclt",
        "outputId": "535fe8d4-2608-49a8-a36d-e567edb988dd"
      },
      "source": [
        "from sklearn.model_selection import cross_val_score\n",
        "resultado = cross_val_score(model, X_test, y_test, cv = 10)\n",
        "print(resultado.mean())"
      ],
      "execution_count": null,
      "outputs": [
        {
          "output_type": "stream",
          "text": [
            "0.9365907472823538\n"
          ],
          "name": "stdout"
        }
      ]
    },
    {
      "cell_type": "code",
      "metadata": {
        "id": "JOTybdC8Qclu",
        "outputId": "86613ec6-3ebe-493b-d246-c4d4b4f44c28"
      },
      "source": [
        "sns.scatterplot(Y_prev, y_test)\n",
        "plt.show()"
      ],
      "execution_count": null,
      "outputs": [
        {
          "output_type": "display_data",
          "data": {
            "image/png": "[encoded data removed]",
            "text/plain": [
              "<Figure size 432x288 with 1 Axes>"
            ]
          },
          "metadata": {
            "tags": [],
            "needs_background": "light"
          }
        }
      ]
    },
    {
      "cell_type": "code",
      "metadata": {
        "id": "VFlJtpAiQclu",
        "outputId": "c1f59154-0165-44b4-814a-330f094cad6d"
      },
      "source": [
        "print('Root Mean Squared Error:', np.sqrt(metrics.mean_squared_error(y_test, Y_prev)))"
      ],
      "execution_count": null,
      "outputs": [
        {
          "output_type": "stream",
          "text": [
            "Root Mean Squared Error: 63.740736337138586\n"
          ],
          "name": "stdout"
        }
      ]
    },
    {
      "cell_type": "code",
      "metadata": {
        "id": "4okrQ_-4Qclv",
        "outputId": "61d1c944-ef5f-405e-a733-d5668bf8de84"
      },
      "source": [
        "#TESTES ESTATÍSTICOS\n",
        "from scipy.stats import wilcoxon, friedmanchisquare\n",
        "\n",
        "mlp = [0.933, 0.937]\n",
        "knn = [0.937, 0.939]\n",
        "rl = [0.9408, 0.9305, 0.932, 0.934]\n",
        "dt = [0.941, 0.9307, 0.933, 0.937]\n",
        "\n",
        "# comparar\n",
        "stat, p = friedmanchisquare(mlp, knn, rl, dt)\n",
        "print('Statistics=%.3f, p=%.3f' % (stat, p))\n",
        "# interpret\n",
        "alpha = 0.05\n",
        "if p > alpha:\n",
        "    print('Mesmas distribuições (não rejeitar a hipótese nula)')\n",
        "else:\n",
        "    print('Distribuições diferentes (rejeitar a hipótese nula)')"
      ],
      "execution_count": null,
      "outputs": [
        {
          "output_type": "error",
          "ename": "ValueError",
          "evalue": "Unequal N in friedmanchisquare.  Aborting.",
          "traceback": [
            "\u001b[1;31m---------------------------------------------------------------------------\u001b[0m",
            "\u001b[1;31mValueError\u001b[0m                                Traceback (most recent call last)",
            "\u001b[1;32m<ipython-input-111-80bebd4bfc84>\u001b[0m in \u001b[0;36m<module>\u001b[1;34m\u001b[0m\n\u001b[0;32m      8\u001b[0m \u001b[1;33m\u001b[0m\u001b[0m\n\u001b[0;32m      9\u001b[0m \u001b[1;31m# comparar\u001b[0m\u001b[1;33m\u001b[0m\u001b[1;33m\u001b[0m\u001b[1;33m\u001b[0m\u001b[0m\n\u001b[1;32m---> 10\u001b[1;33m \u001b[0mstat\u001b[0m\u001b[1;33m,\u001b[0m \u001b[0mp\u001b[0m \u001b[1;33m=\u001b[0m \u001b[0mfriedmanchisquare\u001b[0m\u001b[1;33m(\u001b[0m\u001b[0mmlp\u001b[0m\u001b[1;33m,\u001b[0m \u001b[0mknn\u001b[0m\u001b[1;33m,\u001b[0m \u001b[0mrl\u001b[0m\u001b[1;33m,\u001b[0m \u001b[0mdt\u001b[0m\u001b[1;33m)\u001b[0m\u001b[1;33m\u001b[0m\u001b[1;33m\u001b[0m\u001b[0m\n\u001b[0m\u001b[0;32m     11\u001b[0m \u001b[0mprint\u001b[0m\u001b[1;33m(\u001b[0m\u001b[1;34m'Statistics=%.3f, p=%.3f'\u001b[0m \u001b[1;33m%\u001b[0m \u001b[1;33m(\u001b[0m\u001b[0mstat\u001b[0m\u001b[1;33m,\u001b[0m \u001b[0mp\u001b[0m\u001b[1;33m)\u001b[0m\u001b[1;33m)\u001b[0m\u001b[1;33m\u001b[0m\u001b[1;33m\u001b[0m\u001b[0m\n\u001b[0;32m     12\u001b[0m \u001b[1;31m# interpret\u001b[0m\u001b[1;33m\u001b[0m\u001b[1;33m\u001b[0m\u001b[1;33m\u001b[0m\u001b[0m\n",
            "\u001b[1;32m~\\Anaconda3\\lib\\site-packages\\scipy\\stats\\stats.py\u001b[0m in \u001b[0;36mfriedmanchisquare\u001b[1;34m(*args)\u001b[0m\n\u001b[0;32m   5232\u001b[0m     \u001b[1;32mfor\u001b[0m \u001b[0mi\u001b[0m \u001b[1;32min\u001b[0m \u001b[0mrange\u001b[0m\u001b[1;33m(\u001b[0m\u001b[1;36m1\u001b[0m\u001b[1;33m,\u001b[0m \u001b[0mk\u001b[0m\u001b[1;33m)\u001b[0m\u001b[1;33m:\u001b[0m\u001b[1;33m\u001b[0m\u001b[1;33m\u001b[0m\u001b[0m\n\u001b[0;32m   5233\u001b[0m         \u001b[1;32mif\u001b[0m \u001b[0mlen\u001b[0m\u001b[1;33m(\u001b[0m\u001b[0margs\u001b[0m\u001b[1;33m[\u001b[0m\u001b[0mi\u001b[0m\u001b[1;33m]\u001b[0m\u001b[1;33m)\u001b[0m \u001b[1;33m!=\u001b[0m \u001b[0mn\u001b[0m\u001b[1;33m:\u001b[0m\u001b[1;33m\u001b[0m\u001b[1;33m\u001b[0m\u001b[0m\n\u001b[1;32m-> 5234\u001b[1;33m             \u001b[1;32mraise\u001b[0m \u001b[0mValueError\u001b[0m\u001b[1;33m(\u001b[0m\u001b[1;34m'Unequal N in friedmanchisquare.  Aborting.'\u001b[0m\u001b[1;33m)\u001b[0m\u001b[1;33m\u001b[0m\u001b[1;33m\u001b[0m\u001b[0m\n\u001b[0m\u001b[0;32m   5235\u001b[0m \u001b[1;33m\u001b[0m\u001b[0m\n\u001b[0;32m   5236\u001b[0m     \u001b[1;31m# Rank data\u001b[0m\u001b[1;33m\u001b[0m\u001b[1;33m\u001b[0m\u001b[1;33m\u001b[0m\u001b[0m\n",
            "\u001b[1;31mValueError\u001b[0m: Unequal N in friedmanchisquare.  Aborting."
          ]
        }
      ]
    },
    {
      "cell_type": "code",
      "metadata": {
        "id": "syYe3l2JQclv",
        "outputId": "3c0ab613-69ca-40c8-e21d-0844b951134c"
      },
      "source": [
        "#Executando o teste de Wilcoxon. \n",
        "#Quando zero_method = 'zsplit' as classificações zero são divididas entre positivas e negativas.\n",
        "#O método supervisionado não precisou deste teste\n",
        "wilcoxon(rl, dt, zero_method='zsplit')"
      ],
      "execution_count": null,
      "outputs": [
        {
          "output_type": "execute_result",
          "data": {
            "text/plain": [
              "WilcoxonResult(statistic=0.0, pvalue=0.06559969214707187)"
            ]
          },
          "metadata": {
            "tags": []
          },
          "execution_count": 113
        }
      ]
    },
    {
      "cell_type": "markdown",
      "metadata": {
        "id": "L2z-jAgTQclw"
      },
      "source": [
        "# Modelos Não Supervisionados"
      ]
    },
    {
      "cell_type": "code",
      "metadata": {
        "id": "FayA2s92Qclw"
      },
      "source": [
        "from sklearn.preprocessing import StandardScaler\n",
        "scaler = StandardScaler()\n",
        "\n",
        "# Fit on training set only.\n",
        "scaler.fit(X)\n",
        "\n",
        "# Apply transform to both the training set and the test set.\n",
        "X = scaler.transform(X)"
      ],
      "execution_count": null,
      "outputs": []
    },
    {
      "cell_type": "code",
      "metadata": {
        "id": "yoMjTqzhQclx"
      },
      "source": [
        "#Testar esse\n",
        "\n",
        "from sklearn.preprocessing import MinMaxScaler\n",
        "scaler = MinMaxScaler()\n",
        "X = scaler.fit_transform(X)"
      ],
      "execution_count": null,
      "outputs": []
    },
    {
      "cell_type": "code",
      "metadata": {
        "id": "oWdP-Pc_Qclx"
      },
      "source": [
        "#K-Means com k = [2,20]\n",
        "#5 execuções para cada k variando o valor do seed\n",
        "\n",
        "from sklearn.cluster import KMeans\n",
        "\n",
        "kmeans = KMeans(\n",
        "     init=\"random\",\n",
        "     n_clusters=5,\n",
        "     n_init=10,\n",
        "     max_iter=300,\n",
        "     random_state=25 #Variar 5 vezes o valor (0,25,45,60,100)\n",
        " )"
      ],
      "execution_count": null,
      "outputs": []
    },
    {
      "cell_type": "code",
      "metadata": {
        "id": "NfJvPR9YQcly",
        "outputId": "7be484c9-dc59-4344-d008-67c0915ce13c"
      },
      "source": [
        "kmeans.fit(X)"
      ],
      "execution_count": null,
      "outputs": [
        {
          "output_type": "execute_result",
          "data": {
            "text/plain": [
              "KMeans(algorithm='auto', copy_x=True, init='random', max_iter=300, n_clusters=5,\n",
              "       n_init=10, n_jobs=None, precompute_distances='auto', random_state=25,\n",
              "       tol=0.0001, verbose=0)"
            ]
          },
          "metadata": {
            "tags": []
          },
          "execution_count": 199
        }
      ]
    },
    {
      "cell_type": "code",
      "metadata": {
        "id": "W1_crDrnQcly",
        "outputId": "5136eaa4-91b3-413c-be7f-e0699022fd72"
      },
      "source": [
        "#Eficiência do Kmeans\n",
        "\n",
        "correct = 0\n",
        "for i in range(len(X)):\n",
        "    predict_me = np.array(X[i].astype(float))\n",
        "    predict_me = predict_me.reshape(-1, len(predict_me))\n",
        "    prediction = kmeans.predict(predict_me)\n",
        "    if prediction[0] == y[i]:\n",
        "        correct += 1\n",
        "\n",
        "print(correct/len(X))"
      ],
      "execution_count": null,
      "outputs": [
        {
          "output_type": "stream",
          "text": [
            "0.09278846153846154\n"
          ],
          "name": "stdout"
        }
      ]
    },
    {
      "cell_type": "code",
      "metadata": {
        "id": "wrNudrAEQclz",
        "outputId": "43e17f77-bacc-4fc5-920d-d342a6fcad0f"
      },
      "source": [
        "kmeans.inertia_"
      ],
      "execution_count": null,
      "outputs": [
        {
          "output_type": "execute_result",
          "data": {
            "text/plain": [
              "197193367.7765443"
            ]
          },
          "metadata": {
            "tags": []
          },
          "execution_count": 149
        }
      ]
    },
    {
      "cell_type": "code",
      "metadata": {
        "id": "r5oAcPdDQclz",
        "outputId": "ad9ac44f-14d3-4254-d04b-011f3580457d"
      },
      "source": [
        "kmeans.cluster_centers_"
      ],
      "execution_count": null,
      "outputs": [
        {
          "output_type": "execute_result",
          "data": {
            "text/plain": [
              "array([[ 1.34564207e+01,  3.23649041e-01,  1.56885532e-01,\n",
              "         2.30883207e+00,  1.04503196e+00,  3.08832074e-01,\n",
              "         3.83149332e+00,  2.64090645e-01,  1.25595584e+00,\n",
              "         1.00000000e+00,  1.00000000e+00,  1.00000000e+00,\n",
              "         4.59255607e+02,  5.32540151e+02,  4.85574288e+02,\n",
              "         3.41411970e+02,  2.71615340e+00,  2.79081929e+00,\n",
              "         2.18593841e+00,  4.75595584e-01,  6.59790819e-01,\n",
              "         3.08832074e-01],\n",
              "       [ 1.43441860e+01,  3.71162791e-01,  3.95348837e-02,\n",
              "         2.09302326e+00,  1.02000000e+00,  3.66511628e-01,\n",
              "         2.25860465e+00,  4.93023256e-01,  1.05767442e+00,\n",
              "         1.00000000e+00,  1.00000000e+00,  1.00000000e+00,\n",
              "         5.60411163e+02,  6.40314837e+02,  5.92217674e+02,\n",
              "         7.87004651e+02,  3.35813953e+00,  3.54186047e+00,\n",
              "         3.90139535e+00,  9.25116279e-01,  8.52093023e-01,\n",
              "         3.66511628e-01],\n",
              "       [ 1.42219743e+01,  3.54155047e-01,  2.57389849e-01,\n",
              "         2.21305075e+00,  1.03262688e+00,  1.13218070e-01,\n",
              "         5.83296152e+00,  9.45343001e-02,  1.26464027e+00,\n",
              "         5.57724484e-04,  4.46179587e-03,  4.46179587e-03,\n",
              "         2.74400446e-01,  1.81898940e-11,  6.20831009e-01,\n",
              "         2.67707752e-01,  2.65978806e+00,  2.68655884e+00,\n",
              "         2.50948132e+00,  5.55772448e-01,  7.03569437e-01,\n",
              "         1.13218070e-01],\n",
              "       [ 1.38494420e+01,  3.55443251e-01,  1.30764371e-01,\n",
              "         2.21225521e+00,  1.03706043e+00,  2.88692356e-01,\n",
              "         3.73341756e+00,  2.71214993e-01,  1.14360918e+00,\n",
              "         1.00000000e+00,  1.00000000e+00,  1.00000000e+00,\n",
              "         4.87850347e+02,  5.81361065e+02,  5.36999726e+02,\n",
              "         5.68132238e+02,  2.81259212e+00,  2.97367867e+00,\n",
              "         2.69488313e+00,  6.40345336e-01,  7.32785850e-01,\n",
              "         2.88692356e-01],\n",
              "       [ 1.41706161e+01,  3.38072670e-01,  1.67456556e-01,\n",
              "         2.24802528e+00,  1.03001580e+00,  2.70142180e-01,\n",
              "         4.34913112e+00,  2.27488152e-01,  1.28593997e+00,\n",
              "         3.15955766e-03,  1.00000000e+00,  1.00000000e+00,\n",
              "        -2.72848411e-12,  5.43610585e+02,  5.05479147e+02,\n",
              "         4.29857820e+02,  2.67140600e+00,  2.72985782e+00,\n",
              "         2.33965245e+00,  5.02369668e-01,  7.06161137e-01,\n",
              "         2.70142180e-01]])"
            ]
          },
          "metadata": {
            "tags": []
          },
          "execution_count": 150
        }
      ]
    },
    {
      "cell_type": "code",
      "metadata": {
        "id": "nW8W28EYQcl0",
        "outputId": "0e8bbdb8-fbd9-4d89-b0a2-0115d8894e52"
      },
      "source": [
        "kmeans.n_iter_"
      ],
      "execution_count": null,
      "outputs": [
        {
          "output_type": "execute_result",
          "data": {
            "text/plain": [
              "16"
            ]
          },
          "metadata": {
            "tags": []
          },
          "execution_count": 151
        }
      ]
    },
    {
      "cell_type": "code",
      "metadata": {
        "id": "WMQGeHnZQcl1",
        "outputId": "e8aa70b9-ebbd-4e19-fcc5-c101c392ae16"
      },
      "source": [
        "kmeans.labels_[:5]"
      ],
      "execution_count": null,
      "outputs": [
        {
          "output_type": "execute_result",
          "data": {
            "text/plain": [
              "array([2, 0, 2, 2, 4])"
            ]
          },
          "metadata": {
            "tags": []
          },
          "execution_count": 152
        }
      ]
    },
    {
      "cell_type": "code",
      "metadata": {
        "id": "ZrZd4P4zQcl1"
      },
      "source": [
        "#Elbow method"
      ],
      "execution_count": null,
      "outputs": []
    },
    {
      "cell_type": "code",
      "metadata": {
        "id": "Np5OxaH1Qcl2"
      },
      "source": [
        "kmeans_kwargs = {\n",
        "   \"init\": \"random\",\n",
        "   \"n_init\": 10,\n",
        "   \"max_iter\": 300,\n",
        "   \"random_state\": 25,\n",
        " }"
      ],
      "execution_count": null,
      "outputs": []
    },
    {
      "cell_type": "code",
      "metadata": {
        "id": "lJoyhvLQQcl2"
      },
      "source": [
        "sse = []\n",
        "for k in range(2, 21):\n",
        "    kmeans = KMeans(n_clusters=k, **kmeans_kwargs)\n",
        "    kmeans.fit(X)\n",
        "    sse.append(kmeans.inertia_)"
      ],
      "execution_count": null,
      "outputs": []
    },
    {
      "cell_type": "code",
      "metadata": {
        "id": "zK61ETILQcl3",
        "outputId": "c0458901-35bc-4234-affd-80fdc7bdce5d"
      },
      "source": [
        "plt.style.use(\"fivethirtyeight\")\n",
        "plt.plot(range(2, 21), sse)\n",
        "plt.xticks(range(2, 21))\n",
        "plt.xlabel(\"Número de Clusters\")\n",
        "plt.ylabel(\"SSE\")\n",
        "plt.show()"
      ],
      "execution_count": null,
      "outputs": [
        {
          "output_type": "display_data",
          "data": {
            "image/png": "[encoded data removed]",
            "text/plain": [
              "<Figure size 432x288 with 1 Axes>"
            ]
          },
          "metadata": {
            "tags": []
          }
        }
      ]
    },
    {
      "cell_type": "code",
      "metadata": {
        "id": "XKLe7yyDQcl3"
      },
      "source": [
        "from kneed import KneeLocator\n",
        "\n",
        "kl = KneeLocator(\n",
        "    range(2, 21), sse, curve=\"convex\", direction=\"decreasing\")"
      ],
      "execution_count": null,
      "outputs": []
    },
    {
      "cell_type": "code",
      "metadata": {
        "id": "Xv9rwkzVQcl4",
        "outputId": "7ee9c760-d39f-45c1-e419-ca0a60b623fb"
      },
      "source": [
        "kl.elbow"
      ],
      "execution_count": null,
      "outputs": [
        {
          "output_type": "execute_result",
          "data": {
            "text/plain": [
              "5"
            ]
          },
          "metadata": {
            "tags": []
          },
          "execution_count": 158
        }
      ]
    },
    {
      "cell_type": "code",
      "metadata": {
        "id": "KSy74SJXQcl4",
        "outputId": "45df8867-f797-44ff-fa08-fc32a72129c0"
      },
      "source": [
        "#Índice Silhouette\n",
        "from sklearn.metrics import silhouette_score, adjusted_rand_score\n",
        "\n",
        "k_silhouette_coefficients = []\n",
        "\n",
        "for k in range(2, 21):\n",
        "    kmeans = KMeans(n_clusters=k, **kmeans_kwargs)\n",
        "    kmeans.fit(X)\n",
        "    print(k)\n",
        "    score = silhouette_score(X, kmeans.labels_)\n",
        "    k_silhouette_coefficients.append(score)"
      ],
      "execution_count": null,
      "outputs": [
        {
          "output_type": "stream",
          "text": [
            "2\n",
            "3\n",
            "4\n",
            "5\n",
            "6\n",
            "7\n",
            "8\n",
            "9\n",
            "10\n",
            "11\n",
            "12\n",
            "13\n",
            "14\n",
            "15\n",
            "16\n",
            "17\n",
            "18\n",
            "19\n",
            "20\n"
          ],
          "name": "stdout"
        }
      ]
    },
    {
      "cell_type": "code",
      "metadata": {
        "id": "k4xfnMDQQcl5",
        "outputId": "bdf12cec-64eb-4981-85cd-a44e36732c34"
      },
      "source": [
        "plt.style.use(\"fivethirtyeight\")\n",
        "plt.plot(range(2, 21), k_silhouette_coefficients)\n",
        "plt.xticks(range(2, 21))\n",
        "plt.title(\"Algoritmo K-Means\")\n",
        "plt.xlabel(\"Número de Clusters\")\n",
        "plt.ylabel(\"Índice Silhouette\")\n",
        "plt.show()"
      ],
      "execution_count": null,
      "outputs": [
        {
          "output_type": "display_data",
          "data": {
            "image/png": "[encoded data removed]",
            "text/plain": [
              "<Figure size 432x288 with 1 Axes>"
            ]
          },
          "metadata": {
            "tags": []
          }
        }
      ]
    },
    {
      "cell_type": "code",
      "metadata": {
        "id": "ti-j8hzXQcl5",
        "outputId": "77c20187-b261-44c5-e021-635fda1b3b81"
      },
      "source": [
        "plt.style.use(\"fivethirtyeight\")\n",
        "plt.plot(range(2, 21), silhouette_coefficients)\n",
        "plt.xticks(range(2, 21))\n",
        "plt.title(\"Algoritmo K-Means\")\n",
        "plt.xlabel(\"Número de Clusters\")\n",
        "plt.ylabel(\"Índice Silhouette\")\n",
        "plt.show()"
      ],
      "execution_count": null,
      "outputs": [
        {
          "output_type": "display_data",
          "data": {
            "image/png": "[encoded data removed]",
            "text/plain": [
              "<Figure size 432x288 with 1 Axes>"
            ]
          },
          "metadata": {
            "tags": []
          }
        }
      ]
    },
    {
      "cell_type": "code",
      "metadata": {
        "id": "lN0Bt6oTQcl6"
      },
      "source": [
        "#Índice DB\n",
        "from sklearn.metrics import davies_bouldin_score\n",
        "\n",
        "k_davies_bouldin_coefficients = []\n",
        "\n",
        "for k in range(2, 21):\n",
        "    kmeans = KMeans(n_clusters=k, **kmeans_kwargs)\n",
        "    kmeans.fit(X)\n",
        "    score = davies_bouldin_score(X, kmeans.labels_)\n",
        "    k_davies_bouldin_coefficients.append(score)"
      ],
      "execution_count": null,
      "outputs": []
    },
    {
      "cell_type": "code",
      "metadata": {
        "id": "aIfnT_1LQcl6",
        "outputId": "111447f8-c742-4973-85d6-fb28b87548e1"
      },
      "source": [
        "plt.style.use(\"fivethirtyeight\")\n",
        "plt.plot(range(2, 21), davies_bouldin_coefficients)\n",
        "plt.xticks(range(2, 21))\n",
        "plt.title(\"Algoritmo K-Means\")\n",
        "plt.xlabel(\"Número de Clusters\")\n",
        "plt.ylabel(\"Índice Davies Bouldin\")\n",
        "plt.show()"
      ],
      "execution_count": null,
      "outputs": [
        {
          "output_type": "display_data",
          "data": {
            "image/png": "[encoded data removed]",
            "text/plain": [
              "<Figure size 432x288 with 1 Axes>"
            ]
          },
          "metadata": {
            "tags": []
          }
        }
      ]
    },
    {
      "cell_type": "code",
      "metadata": {
        "id": "4XE-EpI_Qcl7",
        "outputId": "a3a24764-c35b-45e4-b8bf-702724b075e2"
      },
      "source": [
        "kmeans = KMeans(n_clusters=5)\n",
        "kmeans.fit(X)\n",
        "score = adjusted_rand_score(y, kmeans.labels_)\n",
        "score"
      ],
      "execution_count": null,
      "outputs": [
        {
          "output_type": "execute_result",
          "data": {
            "text/plain": [
              "0.28921947825236216"
            ]
          },
          "metadata": {
            "tags": []
          },
          "execution_count": 128
        }
      ]
    },
    {
      "cell_type": "code",
      "metadata": {
        "id": "VyzZ1tMkQcl7",
        "outputId": "8256929b-2b56-44b5-fa1c-e051c527d8cc"
      },
      "source": [
        "kmeans.labels_"
      ],
      "execution_count": null,
      "outputs": [
        {
          "output_type": "execute_result",
          "data": {
            "text/plain": [
              "array([1, 3, 1, ..., 0, 1, 1])"
            ]
          },
          "metadata": {
            "tags": []
          },
          "execution_count": 68
        }
      ]
    },
    {
      "cell_type": "code",
      "metadata": {
        "id": "2s-pHHPAQcl8",
        "outputId": "921ae72f-4c24-401c-9503-6d4b7c7ff234"
      },
      "source": [
        "#Índice CR\n",
        "from sklearn.metrics import adjusted_rand_score\n",
        "\n",
        "k_ARI_coefficients = []\n",
        "\n",
        "for k in range(2, 21):\n",
        "    kmeans = KMeans(n_clusters=k, **kmeans_kwargs)\n",
        "    kmeans.fit(X)\n",
        "    print(k)\n",
        "    score = adjusted_rand_score(y, kmeans.labels_) #(label true, label pred)\n",
        "    k_ARI_coefficients.append(score)"
      ],
      "execution_count": null,
      "outputs": [
        {
          "output_type": "stream",
          "text": [
            "2\n",
            "3\n",
            "4\n",
            "5\n",
            "6\n",
            "7\n",
            "8\n",
            "9\n",
            "10\n",
            "11\n",
            "12\n",
            "13\n",
            "14\n",
            "15\n",
            "16\n",
            "17\n",
            "18\n",
            "19\n",
            "20\n"
          ],
          "name": "stdout"
        }
      ]
    },
    {
      "cell_type": "code",
      "metadata": {
        "id": "9fkPLGybQcl-",
        "outputId": "bc5d0c8b-3e91-4e38-c323-d7fcf01f34a3"
      },
      "source": [
        "plt.style.use(\"fivethirtyeight\")\n",
        "plt.plot(range(2, 21), ARI_coefficients)\n",
        "plt.xticks(range(2, 21))\n",
        "plt.title(\"Algoritmo K-Means\")\n",
        "plt.xlabel(\"Número de Clusters\")\n",
        "plt.ylabel(\"Índice CR\")\n",
        "plt.show()"
      ],
      "execution_count": null,
      "outputs": [
        {
          "output_type": "display_data",
          "data": {
            "image/png": "[encoded data removed]",
            "text/plain": [
              "<Figure size 432x288 with 1 Axes>"
            ]
          },
          "metadata": {
            "tags": []
          }
        }
      ]
    },
    {
      "cell_type": "code",
      "metadata": {
        "id": "EaJvwO90Qcl-"
      },
      "source": [
        "#Hieráquico aglomerativo\n",
        "\n",
        "from sklearn.cluster import AgglomerativeClustering\n",
        "import scipy.cluster.hierarchy as sch"
      ],
      "execution_count": null,
      "outputs": []
    },
    {
      "cell_type": "code",
      "metadata": {
        "id": "ndAhtOCBQcl_",
        "outputId": "673aa21d-236f-43eb-fed2-4df628a1a8df"
      },
      "source": [
        "dendrogram = sch.dendrogram(sch.linkage(X_train, method='ward'))"
      ],
      "execution_count": null,
      "outputs": [
        {
          "output_type": "display_data",
          "data": {
            "image/png": "[encoded data removed]",
            "text/plain": [
              "<Figure size 432x288 with 1 Axes>"
            ]
          },
          "metadata": {
            "tags": []
          }
        }
      ]
    },
    {
      "cell_type": "code",
      "metadata": {
        "id": "v0_FomGRQcl_"
      },
      "source": [
        "#Varia número de clusters entre 2 e 20\n",
        "model = AgglomerativeClustering(n_clusters=10, affinity='euclidean', linkage='ward')\n",
        "model.fit(X_train)\n",
        "labels = model.labels_"
      ],
      "execution_count": null,
      "outputs": []
    },
    {
      "cell_type": "code",
      "metadata": {
        "id": "xhonc7YlQcmA"
      },
      "source": [
        ""
      ],
      "execution_count": null,
      "outputs": []
    },
    {
      "cell_type": "code",
      "metadata": {
        "id": "Cm4XCepWQcmA"
      },
      "source": [
        "#Elbow\n"
      ],
      "execution_count": null,
      "outputs": []
    },
    {
      "cell_type": "code",
      "metadata": {
        "id": "m7stq97jQcmA"
      },
      "source": [
        ""
      ],
      "execution_count": null,
      "outputs": []
    },
    {
      "cell_type": "code",
      "metadata": {
        "id": "E11UL02yQcmB",
        "outputId": "7e133f25-e112-478c-ac5d-92b21a140c36"
      },
      "source": [
        "#Índice Silhouette\n",
        "\n",
        "silhouette_coefficients = []\n",
        "\n",
        "for k in range(2, 21):\n",
        "    model = AgglomerativeClustering(n_clusters=k, affinity='euclidean', linkage='ward')\n",
        "    model.fit(X)\n",
        "    print(k)\n",
        "    score = silhouette_score(X, model.labels_)\n",
        "    silhouette_coefficients.append(score)"
      ],
      "execution_count": null,
      "outputs": [
        {
          "output_type": "stream",
          "text": [
            "2\n",
            "3\n",
            "4\n",
            "5\n",
            "6\n",
            "7\n",
            "8\n",
            "9\n",
            "10\n",
            "11\n",
            "12\n",
            "13\n",
            "14\n",
            "15\n",
            "16\n",
            "17\n",
            "18\n",
            "19\n",
            "20\n"
          ],
          "name": "stdout"
        }
      ]
    },
    {
      "cell_type": "code",
      "metadata": {
        "id": "cxZ9ISA6QcmB",
        "outputId": "c5f3a72a-ab3f-41fd-e8da-f021026d83f3"
      },
      "source": [
        "plt.style.use(\"fivethirtyeight\")\n",
        "plt.plot(range(2, 21), silhouette_coefficients)\n",
        "plt.xticks(range(2, 21))\n",
        "plt.title(\"Algoritmo Hierárquico\")\n",
        "plt.xlabel(\"Número de Clusters\")\n",
        "plt.ylabel(\"Índice Silhouette\")\n",
        "plt.show()"
      ],
      "execution_count": null,
      "outputs": [
        {
          "output_type": "display_data",
          "data": {
            "image/png": "[encoded data removed]",
            "text/plain": [
              "<Figure size 432x288 with 1 Axes>"
            ]
          },
          "metadata": {
            "tags": []
          }
        }
      ]
    },
    {
      "cell_type": "code",
      "metadata": {
        "id": "jCTkeX71QcmC",
        "outputId": "5f63f523-e2ec-43e3-d927-413210e5649f"
      },
      "source": [
        "#Índice DB\n",
        "\n",
        "davies_bouldin_coefficients = []\n",
        "\n",
        "for k in range(2, 21):\n",
        "    model = AgglomerativeClustering(n_clusters=k, affinity='euclidean', linkage='ward')\n",
        "    model.fit(X)\n",
        "    print(k)\n",
        "    score = davies_bouldin_score(X, model.labels_)\n",
        "    davies_bouldin_coefficients.append(score)"
      ],
      "execution_count": null,
      "outputs": [
        {
          "output_type": "stream",
          "text": [
            "2\n",
            "3\n",
            "4\n",
            "5\n",
            "6\n",
            "7\n",
            "8\n",
            "9\n",
            "10\n",
            "11\n",
            "12\n",
            "13\n",
            "14\n",
            "15\n",
            "16\n",
            "17\n",
            "18\n",
            "19\n",
            "20\n"
          ],
          "name": "stdout"
        }
      ]
    },
    {
      "cell_type": "code",
      "metadata": {
        "id": "XAfn08s3QcmC",
        "outputId": "4d94b840-d32a-4d88-820c-8f050494d354"
      },
      "source": [
        "plt.style.use(\"fivethirtyeight\")\n",
        "plt.plot(range(2, 21), davies_bouldin_coefficients)\n",
        "plt.xticks(range(2, 21))\n",
        "plt.title(\"Algoritmo Hierárquico\")\n",
        "plt.xlabel(\"Número de Clusters\")\n",
        "plt.ylabel(\"Índice Davies Bouldin\")\n",
        "plt.show()"
      ],
      "execution_count": null,
      "outputs": [
        {
          "output_type": "display_data",
          "data": {
            "image/png": "[encoded data removed]",
            "text/plain": [
              "<Figure size 432x288 with 1 Axes>"
            ]
          },
          "metadata": {
            "tags": []
          }
        }
      ]
    },
    {
      "cell_type": "code",
      "metadata": {
        "id": "PI-N91a8QcmD",
        "outputId": "2ab33492-6787-4831-becf-c59f003e12b3"
      },
      "source": [
        "#Índice CR\n",
        "from sklearn.metrics import adjusted_rand_score\n",
        "\n",
        "ARI_coefficients = []\n",
        "\n",
        "for k in range(2, 21):\n",
        "    model = AgglomerativeClustering(n_clusters=k, affinity='euclidean', linkage='ward')\n",
        "    model.fit(X)\n",
        "    print(k)\n",
        "    score = adjusted_rand_score(y, model.labels_) #(label true, label pred)\n",
        "    ARI_coefficients.append(score)"
      ],
      "execution_count": null,
      "outputs": [
        {
          "output_type": "stream",
          "text": [
            "2\n",
            "3\n",
            "4\n",
            "5\n",
            "6\n",
            "7\n",
            "8\n",
            "9\n",
            "10\n",
            "11\n",
            "12\n",
            "13\n",
            "14\n",
            "15\n",
            "16\n",
            "17\n",
            "18\n",
            "19\n",
            "20\n"
          ],
          "name": "stdout"
        }
      ]
    },
    {
      "cell_type": "code",
      "metadata": {
        "id": "5umqvcDDQcmE"
      },
      "source": [
        ""
      ],
      "execution_count": null,
      "outputs": []
    },
    {
      "cell_type": "code",
      "metadata": {
        "id": "8t7r8r50QcmE",
        "outputId": "9e38cd5a-7a4a-41ce-afa6-e297b60ad64f"
      },
      "source": [
        "plt.style.use(\"fivethirtyeight\")\n",
        "plt.plot(range(2, 21), ARI_coefficients)\n",
        "plt.xticks(range(2, 21))\n",
        "plt.title(\"Algoritmo Hierárquico\")\n",
        "plt.xlabel(\"Número de Clusters\")\n",
        "plt.ylabel(\"Índice CR\")\n",
        "plt.show()"
      ],
      "execution_count": null,
      "outputs": [
        {
          "output_type": "display_data",
          "data": {
            "image/png": "[encoded data removed]",
            "text/plain": [
              "<Figure size 432x288 with 1 Axes>"
            ]
          },
          "metadata": {
            "tags": []
          }
        }
      ]
    },
    {
      "cell_type": "code",
      "metadata": {
        "id": "623cid1uQcmE"
      },
      "source": [
        "#Teste Estatístico com índice silhoutte\n",
        "kmeans = k_silhouette_coefficients\n",
        "hierarquico = silhouette_coefficients"
      ],
      "execution_count": null,
      "outputs": []
    },
    {
      "cell_type": "code",
      "metadata": {
        "id": "7cgTf0xYQcmF",
        "outputId": "8f9bdae7-7be7-431e-c0c6-f531ee4a62a4"
      },
      "source": [
        "#kmeans"
      ],
      "execution_count": null,
      "outputs": [
        {
          "output_type": "execute_result",
          "data": {
            "text/plain": [
              "[0.32214950558571775,\n",
              " 0.256478039585454,\n",
              " 0.17496030763729842,\n",
              " 0.17890571815896622,\n",
              " 0.18940044939857492,\n",
              " 0.1657478668718427,\n",
              " 0.12507832275395495,\n",
              " 0.123650004192792,\n",
              " 0.1255307560753734,\n",
              " 0.11365529042611272,\n",
              " 0.11570012318909989,\n",
              " 0.15248478839230312,\n",
              " 0.11879240869855166,\n",
              " 0.11948861455576598,\n",
              " 0.12754981268297677,\n",
              " 0.1300036853906374,\n",
              " 0.13122993472535105,\n",
              " 0.11296055404972241,\n",
              " 0.1115522704240141]"
            ]
          },
          "metadata": {
            "tags": []
          },
          "execution_count": 99
        }
      ]
    },
    {
      "cell_type": "code",
      "metadata": {
        "id": "ztjxQbAtQcmF"
      },
      "source": [
        "#Teste Estatístico com índice DB\n",
        "kmeans_bd = k_davies_bouldin_coefficients\n",
        "hierarquico_bd = davies_bouldin_coefficients"
      ],
      "execution_count": null,
      "outputs": []
    },
    {
      "cell_type": "code",
      "metadata": {
        "id": "p7t9X5RJQcmG"
      },
      "source": [
        "#Teste Estatístico com índice CR\n",
        "kmeans_a = k_ARI_coefficients\n",
        "hierarquico_a = ARI_coefficients"
      ],
      "execution_count": null,
      "outputs": []
    },
    {
      "cell_type": "code",
      "metadata": {
        "id": "4wOJMfI8QcmG",
        "outputId": "035edcbd-7531-412b-a23f-fe44810715f8"
      },
      "source": [
        "# comparar Fiedman\n",
        "stat, p = friedmanchisquare(kmeans, kmeans_bd, kmeans_a, hierarquico, hierarquico_bd, hierarquico_a)\n",
        "print('Statistics=%.3f, p=%.3f' % (stat, p))\n",
        "# interpret\n",
        "alpha = 0.05\n",
        "if p > alpha:\n",
        "    print('Mesmas distribuições (não rejeitar a hipótese nula)')\n",
        "else:\n",
        "    print('Distribuições diferentes (rejeitar a hipótese nula)')"
      ],
      "execution_count": null,
      "outputs": [
        {
          "output_type": "stream",
          "text": [
            "Statistics=71.932, p=0.000\n",
            "Distribuições diferentes (rejeitar a hipótese nula)\n"
          ],
          "name": "stdout"
        }
      ]
    },
    {
      "cell_type": "code",
      "metadata": {
        "id": "T-mNtrTAQcmH",
        "outputId": "ed9efb60-5fcd-482e-97f4-db36c6e42290"
      },
      "source": [
        "#Wilcoxon\n",
        "#Executando o teste de Wilcoxon. \n",
        "#Quando zero_method = 'zsplit' as classificações zero são divididas entre positivas e negativas.\n",
        "#O método supervisionado não precisou deste teste\n",
        "wilcoxon(kmeans_a, hierarquico_a, zero_method='zsplit')"
      ],
      "execution_count": null,
      "outputs": [
        {
          "output_type": "execute_result",
          "data": {
            "text/plain": [
              "WilcoxonResult(statistic=80.0, pvalue=0.5460878490645904)"
            ]
          },
          "metadata": {
            "tags": []
          },
          "execution_count": 107
        }
      ]
    },
    {
      "cell_type": "code",
      "metadata": {
        "id": "S08po6YCQcmH",
        "outputId": "dd712e42-c2c7-430d-88b8-b03817f065f4"
      },
      "source": [
        "data = {'Silhouette_kmeans':kmeans,\n",
        "        'Silhouette_hierarquico':hierarquico,\n",
        "       'BD_kmeans': kmeans_bd,\n",
        "       'BD_hierarquico': hierarquico_bd,\n",
        "       'CR_kmeans': kmeans_a,\n",
        "       'CR_hierarquico': hierarquico_a}\n",
        "data_k = pd.DataFrame(data)\n",
        "data_k"
      ],
      "execution_count": null,
      "outputs": [
        {
          "output_type": "execute_result",
          "data": {
            "text/html": [
              "<div>\n",
              "<style scoped>\n",
              "    .dataframe tbody tr th:only-of-type {\n",
              "        vertical-align: middle;\n",
              "    }\n",
              "\n",
              "    .dataframe tbody tr th {\n",
              "        vertical-align: top;\n",
              "    }\n",
              "\n",
              "    .dataframe thead th {\n",
              "        text-align: right;\n",
              "    }\n",
              "</style>\n",
              "<table border=\"1\" class=\"dataframe\">\n",
              "  <thead>\n",
              "    <tr style=\"text-align: right;\">\n",
              "      <th></th>\n",
              "      <th>Silhouette_kmeans</th>\n",
              "      <th>Silhouette_hierarquico</th>\n",
              "      <th>BD_kmeans</th>\n",
              "      <th>BD_hierarquico</th>\n",
              "      <th>CR_kmeans</th>\n",
              "      <th>CR_hierarquico</th>\n",
              "    </tr>\n",
              "  </thead>\n",
              "  <tbody>\n",
              "    <tr>\n",
              "      <th>0</th>\n",
              "      <td>0.322150</td>\n",
              "      <td>0.321028</td>\n",
              "      <td>1.274174</td>\n",
              "      <td>1.271994</td>\n",
              "      <td>0.031655</td>\n",
              "      <td>0.030071</td>\n",
              "    </tr>\n",
              "    <tr>\n",
              "      <th>1</th>\n",
              "      <td>0.256478</td>\n",
              "      <td>0.240517</td>\n",
              "      <td>1.580504</td>\n",
              "      <td>1.619293</td>\n",
              "      <td>0.143954</td>\n",
              "      <td>0.131384</td>\n",
              "    </tr>\n",
              "    <tr>\n",
              "      <th>2</th>\n",
              "      <td>0.174960</td>\n",
              "      <td>0.250395</td>\n",
              "      <td>2.140465</td>\n",
              "      <td>1.510896</td>\n",
              "      <td>0.272846</td>\n",
              "      <td>0.148673</td>\n",
              "    </tr>\n",
              "    <tr>\n",
              "      <th>3</th>\n",
              "      <td>0.178906</td>\n",
              "      <td>0.250698</td>\n",
              "      <td>1.923299</td>\n",
              "      <td>1.586075</td>\n",
              "      <td>0.286051</td>\n",
              "      <td>0.193289</td>\n",
              "    </tr>\n",
              "    <tr>\n",
              "      <th>4</th>\n",
              "      <td>0.189400</td>\n",
              "      <td>0.181607</td>\n",
              "      <td>1.869630</td>\n",
              "      <td>1.965869</td>\n",
              "      <td>0.314174</td>\n",
              "      <td>0.316841</td>\n",
              "    </tr>\n",
              "    <tr>\n",
              "      <th>5</th>\n",
              "      <td>0.165748</td>\n",
              "      <td>0.188475</td>\n",
              "      <td>2.083243</td>\n",
              "      <td>1.880045</td>\n",
              "      <td>0.409869</td>\n",
              "      <td>0.331432</td>\n",
              "    </tr>\n",
              "    <tr>\n",
              "      <th>6</th>\n",
              "      <td>0.125078</td>\n",
              "      <td>0.188239</td>\n",
              "      <td>2.387102</td>\n",
              "      <td>1.759804</td>\n",
              "      <td>0.198496</td>\n",
              "      <td>0.355565</td>\n",
              "    </tr>\n",
              "    <tr>\n",
              "      <th>7</th>\n",
              "      <td>0.123650</td>\n",
              "      <td>0.174108</td>\n",
              "      <td>2.324233</td>\n",
              "      <td>1.815727</td>\n",
              "      <td>0.287298</td>\n",
              "      <td>0.281713</td>\n",
              "    </tr>\n",
              "    <tr>\n",
              "      <th>8</th>\n",
              "      <td>0.125531</td>\n",
              "      <td>0.155511</td>\n",
              "      <td>2.124674</td>\n",
              "      <td>1.974359</td>\n",
              "      <td>0.240106</td>\n",
              "      <td>0.137250</td>\n",
              "    </tr>\n",
              "    <tr>\n",
              "      <th>9</th>\n",
              "      <td>0.113655</td>\n",
              "      <td>0.151601</td>\n",
              "      <td>2.269279</td>\n",
              "      <td>1.868774</td>\n",
              "      <td>0.282863</td>\n",
              "      <td>0.143709</td>\n",
              "    </tr>\n",
              "    <tr>\n",
              "      <th>10</th>\n",
              "      <td>0.115700</td>\n",
              "      <td>0.137911</td>\n",
              "      <td>2.206710</td>\n",
              "      <td>1.935820</td>\n",
              "      <td>0.139955</td>\n",
              "      <td>0.196537</td>\n",
              "    </tr>\n",
              "    <tr>\n",
              "      <th>11</th>\n",
              "      <td>0.152485</td>\n",
              "      <td>0.128744</td>\n",
              "      <td>1.892960</td>\n",
              "      <td>1.989601</td>\n",
              "      <td>0.561304</td>\n",
              "      <td>0.218926</td>\n",
              "    </tr>\n",
              "    <tr>\n",
              "      <th>12</th>\n",
              "      <td>0.118792</td>\n",
              "      <td>0.130835</td>\n",
              "      <td>1.994461</td>\n",
              "      <td>1.894052</td>\n",
              "      <td>0.217083</td>\n",
              "      <td>0.200192</td>\n",
              "    </tr>\n",
              "    <tr>\n",
              "      <th>13</th>\n",
              "      <td>0.119489</td>\n",
              "      <td>0.125891</td>\n",
              "      <td>2.058667</td>\n",
              "      <td>1.927680</td>\n",
              "      <td>0.217923</td>\n",
              "      <td>0.240087</td>\n",
              "    </tr>\n",
              "    <tr>\n",
              "      <th>14</th>\n",
              "      <td>0.127550</td>\n",
              "      <td>0.132108</td>\n",
              "      <td>1.997774</td>\n",
              "      <td>1.919840</td>\n",
              "      <td>0.174294</td>\n",
              "      <td>0.243420</td>\n",
              "    </tr>\n",
              "    <tr>\n",
              "      <th>15</th>\n",
              "      <td>0.130004</td>\n",
              "      <td>0.128255</td>\n",
              "      <td>1.937572</td>\n",
              "      <td>1.953138</td>\n",
              "      <td>0.138836</td>\n",
              "      <td>0.141019</td>\n",
              "    </tr>\n",
              "    <tr>\n",
              "      <th>16</th>\n",
              "      <td>0.131230</td>\n",
              "      <td>0.126399</td>\n",
              "      <td>1.871795</td>\n",
              "      <td>1.970624</td>\n",
              "      <td>0.106070</td>\n",
              "      <td>0.150283</td>\n",
              "    </tr>\n",
              "    <tr>\n",
              "      <th>17</th>\n",
              "      <td>0.112961</td>\n",
              "      <td>0.123347</td>\n",
              "      <td>1.953814</td>\n",
              "      <td>1.911599</td>\n",
              "      <td>0.089439</td>\n",
              "      <td>0.144583</td>\n",
              "    </tr>\n",
              "    <tr>\n",
              "      <th>18</th>\n",
              "      <td>0.111552</td>\n",
              "      <td>0.121101</td>\n",
              "      <td>1.994899</td>\n",
              "      <td>1.858209</td>\n",
              "      <td>0.098433</td>\n",
              "      <td>0.154178</td>\n",
              "    </tr>\n",
              "  </tbody>\n",
              "</table>\n",
              "</div>"
            ],
            "text/plain": [
              "    Silhouette_kmeans  Silhouette_hierarquico  BD_kmeans  BD_hierarquico  \\\n",
              "0            0.322150                0.321028   1.274174        1.271994   \n",
              "1            0.256478                0.240517   1.580504        1.619293   \n",
              "2            0.174960                0.250395   2.140465        1.510896   \n",
              "3            0.178906                0.250698   1.923299        1.586075   \n",
              "4            0.189400                0.181607   1.869630        1.965869   \n",
              "5            0.165748                0.188475   2.083243        1.880045   \n",
              "6            0.125078                0.188239   2.387102        1.759804   \n",
              "7            0.123650                0.174108   2.324233        1.815727   \n",
              "8            0.125531                0.155511   2.124674        1.974359   \n",
              "9            0.113655                0.151601   2.269279        1.868774   \n",
              "10           0.115700                0.137911   2.206710        1.935820   \n",
              "11           0.152485                0.128744   1.892960        1.989601   \n",
              "12           0.118792                0.130835   1.994461        1.894052   \n",
              "13           0.119489                0.125891   2.058667        1.927680   \n",
              "14           0.127550                0.132108   1.997774        1.919840   \n",
              "15           0.130004                0.128255   1.937572        1.953138   \n",
              "16           0.131230                0.126399   1.871795        1.970624   \n",
              "17           0.112961                0.123347   1.953814        1.911599   \n",
              "18           0.111552                0.121101   1.994899        1.858209   \n",
              "\n",
              "    CR_kmeans  CR_hierarquico  \n",
              "0    0.031655        0.030071  \n",
              "1    0.143954        0.131384  \n",
              "2    0.272846        0.148673  \n",
              "3    0.286051        0.193289  \n",
              "4    0.314174        0.316841  \n",
              "5    0.409869        0.331432  \n",
              "6    0.198496        0.355565  \n",
              "7    0.287298        0.281713  \n",
              "8    0.240106        0.137250  \n",
              "9    0.282863        0.143709  \n",
              "10   0.139955        0.196537  \n",
              "11   0.561304        0.218926  \n",
              "12   0.217083        0.200192  \n",
              "13   0.217923        0.240087  \n",
              "14   0.174294        0.243420  \n",
              "15   0.138836        0.141019  \n",
              "16   0.106070        0.150283  \n",
              "17   0.089439        0.144583  \n",
              "18   0.098433        0.154178  "
            ]
          },
          "metadata": {
            "tags": []
          },
          "execution_count": 147
        }
      ]
    },
    {
      "cell_type": "code",
      "metadata": {
        "id": "aVsymcr8QcmI"
      },
      "source": [
        "# First, we extract the algorithms names.\n",
        "algorithms_names = data_k.columns\n",
        "# Then, we extract the performances as a numpy.ndarray.\n",
        "performances_array = data_k[algorithms_names].values"
      ],
      "execution_count": null,
      "outputs": []
    },
    {
      "cell_type": "code",
      "metadata": {
        "id": "kSfAQtoWQcmI"
      },
      "source": [
        "ranks = np.array([rankdata(-p) for p in performances_array])"
      ],
      "execution_count": null,
      "outputs": []
    },
    {
      "cell_type": "code",
      "metadata": {
        "id": "Uy-ZYQfNQcmJ",
        "outputId": "32c92078-0eb1-48b8-e217-601b6819da9f"
      },
      "source": [
        "ranks"
      ],
      "execution_count": null,
      "outputs": [
        {
          "output_type": "execute_result",
          "data": {
            "text/plain": [
              "array([[3., 4., 1., 2., 5., 6.],\n",
              "       [3., 4., 2., 1., 5., 6.],\n",
              "       [5., 4., 1., 2., 3., 6.],\n",
              "       [6., 4., 1., 2., 3., 5.],\n",
              "       [5., 6., 2., 1., 4., 3.],\n",
              "       [6., 5., 1., 2., 3., 4.],\n",
              "       [6., 5., 1., 2., 4., 3.],\n",
              "       [6., 5., 1., 2., 3., 4.],\n",
              "       [6., 4., 1., 2., 3., 5.],\n",
              "       [6., 4., 1., 2., 3., 5.],\n",
              "       [6., 5., 1., 2., 4., 3.],\n",
              "       [5., 6., 2., 1., 3., 4.],\n",
              "       [6., 5., 1., 2., 3., 4.],\n",
              "       [6., 5., 1., 2., 4., 3.],\n",
              "       [6., 5., 1., 2., 4., 3.],\n",
              "       [5., 6., 2., 1., 4., 3.],\n",
              "       [4., 5., 2., 1., 6., 3.],\n",
              "       [5., 4., 1., 2., 6., 3.],\n",
              "       [5., 4., 1., 2., 6., 3.]])"
            ]
          },
          "metadata": {
            "tags": []
          },
          "execution_count": 150
        }
      ]
    },
    {
      "cell_type": "code",
      "metadata": {
        "id": "cO9sWClsQcmJ",
        "outputId": "ca19215a-838d-4748-dc89-d3f1337e3e54"
      },
      "source": [
        "cd"
      ],
      "execution_count": null,
      "outputs": [
        {
          "output_type": "execute_result",
          "data": {
            "text/plain": [
              "0.37735538751992903"
            ]
          },
          "metadata": {
            "tags": []
          },
          "execution_count": 151
        }
      ]
    },
    {
      "cell_type": "code",
      "metadata": {
        "id": "jPckBqsxQcmK"
      },
      "source": [
        "average_ranks = np.mean(ranks, axis=0)"
      ],
      "execution_count": null,
      "outputs": []
    },
    {
      "cell_type": "code",
      "metadata": {
        "id": "sGSNv3fnQcmK",
        "outputId": "557efa63-8422-4d29-887a-b32ade18b599"
      },
      "source": [
        "# This method computes the critical difference for Nemenyi test with alpha=0.1.\n",
        "# For some reason, this method only accepts alpha='0.05' or alpha='0.1'.\n",
        "from Orange.evaluation import compute_CD, graph_ranks\n",
        "\n",
        "cd = compute_CD(average_ranks,\n",
        "                n=len(data_k),\n",
        "                alpha='0.1',\n",
        "                test='nemenyi')\n",
        "\n",
        "# This method generates the plot.\n",
        "graph_ranks(average_ranks,\n",
        "            names=algorithms_names,\n",
        "            cd=cd,\n",
        "            width=10,\n",
        "            textspace=1.5,\n",
        "            reverse=True)\n",
        "plt.show()"
      ],
      "execution_count": null,
      "outputs": [
        {
          "output_type": "display_data",
          "data": {
            "image/png": "[encoded data removed]",
            "text/plain": [
              "<Figure size 720x133.2 with 1 Axes>"
            ]
          },
          "metadata": {
            "tags": []
          }
        }
      ]
    },
    {
      "cell_type": "markdown",
      "metadata": {
        "id": "Eozhodb8QcmL"
      },
      "source": [
        "# Boosting e Bagging"
      ]
    },
    {
      "cell_type": "code",
      "metadata": {
        "id": "G4BtcpdSQcmL"
      },
      "source": [
        "#Colocar aqui o regressor que vai ser usado de acordo com a tabela\n",
        "regressor = MLPRegressor(random_state=1, max_iter=5000, hidden_layer_sizes= (23, 12, 1)) "
      ],
      "execution_count": null,
      "outputs": []
    },
    {
      "cell_type": "code",
      "metadata": {
        "id": "IlPyrcmWQcmL",
        "outputId": "26ee2904-8217-4388-d4b5-5b6aa762363f"
      },
      "source": [
        "from sklearn.ensemble import BaggingRegressor\n",
        "#MLP\n",
        "\n",
        "regr = BaggingRegressor(base_estimator=regressor,\n",
        "                        n_estimators=20, random_state=0).fit(X_train, y_train)"
      ],
      "execution_count": null,
      "outputs": [
        {
          "output_type": "stream",
          "text": [
            "C:\\Users\\math_\\Anaconda3\\lib\\site-packages\\sklearn\\neural_network\\multilayer_perceptron.py:566: ConvergenceWarning: Stochastic Optimizer: Maximum iterations (5000) reached and the optimization hasn't converged yet.\n",
            "  % self.max_iter, ConvergenceWarning)\n",
            "C:\\Users\\math_\\Anaconda3\\lib\\site-packages\\sklearn\\neural_network\\multilayer_perceptron.py:566: ConvergenceWarning: Stochastic Optimizer: Maximum iterations (5000) reached and the optimization hasn't converged yet.\n",
            "  % self.max_iter, ConvergenceWarning)\n",
            "C:\\Users\\math_\\Anaconda3\\lib\\site-packages\\sklearn\\neural_network\\multilayer_perceptron.py:566: ConvergenceWarning: Stochastic Optimizer: Maximum iterations (5000) reached and the optimization hasn't converged yet.\n",
            "  % self.max_iter, ConvergenceWarning)\n",
            "C:\\Users\\math_\\Anaconda3\\lib\\site-packages\\sklearn\\neural_network\\multilayer_perceptron.py:566: ConvergenceWarning: Stochastic Optimizer: Maximum iterations (5000) reached and the optimization hasn't converged yet.\n",
            "  % self.max_iter, ConvergenceWarning)\n",
            "C:\\Users\\math_\\Anaconda3\\lib\\site-packages\\sklearn\\neural_network\\multilayer_perceptron.py:566: ConvergenceWarning: Stochastic Optimizer: Maximum iterations (5000) reached and the optimization hasn't converged yet.\n",
            "  % self.max_iter, ConvergenceWarning)\n",
            "C:\\Users\\math_\\Anaconda3\\lib\\site-packages\\sklearn\\neural_network\\multilayer_perceptron.py:566: ConvergenceWarning: Stochastic Optimizer: Maximum iterations (5000) reached and the optimization hasn't converged yet.\n",
            "  % self.max_iter, ConvergenceWarning)\n",
            "C:\\Users\\math_\\Anaconda3\\lib\\site-packages\\sklearn\\neural_network\\multilayer_perceptron.py:566: ConvergenceWarning: Stochastic Optimizer: Maximum iterations (5000) reached and the optimization hasn't converged yet.\n",
            "  % self.max_iter, ConvergenceWarning)\n",
            "C:\\Users\\math_\\Anaconda3\\lib\\site-packages\\sklearn\\neural_network\\multilayer_perceptron.py:566: ConvergenceWarning: Stochastic Optimizer: Maximum iterations (5000) reached and the optimization hasn't converged yet.\n",
            "  % self.max_iter, ConvergenceWarning)\n",
            "C:\\Users\\math_\\Anaconda3\\lib\\site-packages\\sklearn\\neural_network\\multilayer_perceptron.py:566: ConvergenceWarning: Stochastic Optimizer: Maximum iterations (5000) reached and the optimization hasn't converged yet.\n",
            "  % self.max_iter, ConvergenceWarning)\n",
            "C:\\Users\\math_\\Anaconda3\\lib\\site-packages\\sklearn\\neural_network\\multilayer_perceptron.py:566: ConvergenceWarning: Stochastic Optimizer: Maximum iterations (5000) reached and the optimization hasn't converged yet.\n",
            "  % self.max_iter, ConvergenceWarning)\n",
            "C:\\Users\\math_\\Anaconda3\\lib\\site-packages\\sklearn\\neural_network\\multilayer_perceptron.py:566: ConvergenceWarning: Stochastic Optimizer: Maximum iterations (5000) reached and the optimization hasn't converged yet.\n",
            "  % self.max_iter, ConvergenceWarning)\n",
            "C:\\Users\\math_\\Anaconda3\\lib\\site-packages\\sklearn\\neural_network\\multilayer_perceptron.py:566: ConvergenceWarning: Stochastic Optimizer: Maximum iterations (5000) reached and the optimization hasn't converged yet.\n",
            "  % self.max_iter, ConvergenceWarning)\n"
          ],
          "name": "stderr"
        }
      ]
    },
    {
      "cell_type": "code",
      "metadata": {
        "id": "DCr0deTJQcmQ",
        "outputId": "32ecc163-b365-4d9f-ed56-f46e2de58ea5"
      },
      "source": [
        "regr.score(X_test, y_test)\n",
        "\n",
        "#10 - 69.4%\n",
        "#15 - 56.1%\n",
        "#20 - 60.8%"
      ],
      "execution_count": null,
      "outputs": [
        {
          "output_type": "execute_result",
          "data": {
            "text/plain": [
              "0.6088289757296386"
            ]
          },
          "metadata": {
            "tags": []
          },
          "execution_count": 43
        }
      ]
    },
    {
      "cell_type": "code",
      "metadata": {
        "id": "8l2zPOELQcmQ"
      },
      "source": [
        "#AD\n",
        "regr = BaggingRegressor(base_estimator=DecisionTreeRegressor(max_depth=5),\n",
        "                        n_estimators=20, random_state=0).fit(X_train, y_train)"
      ],
      "execution_count": null,
      "outputs": []
    },
    {
      "cell_type": "code",
      "metadata": {
        "id": "keQz-s0vQcmR",
        "outputId": "496f23da-8559-481c-d22a-4f5074000c98"
      },
      "source": [
        "regr.score(X_test, y_test)\n",
        "#10 - 93.9%\n",
        "#15 - 93.9%\n",
        "#20 - 93.9%"
      ],
      "execution_count": null,
      "outputs": [
        {
          "output_type": "execute_result",
          "data": {
            "text/plain": [
              "0.9398800398349192"
            ]
          },
          "metadata": {
            "tags": []
          },
          "execution_count": 30
        }
      ]
    },
    {
      "cell_type": "code",
      "metadata": {
        "id": "o_XrLYvwQcmS"
      },
      "source": [
        ""
      ],
      "execution_count": null,
      "outputs": []
    },
    {
      "cell_type": "code",
      "metadata": {
        "id": "oQoyWvGEQcmS"
      },
      "source": [
        "#KNN\n",
        "regr = BaggingRegressor(base_estimator=neighbors.KNeighborsRegressor(n_neighbors),\n",
        "                        n_estimators=20, random_state=0).fit(X_train, y_train)"
      ],
      "execution_count": null,
      "outputs": []
    },
    {
      "cell_type": "code",
      "metadata": {
        "id": "c4ZreV58QcmS",
        "outputId": "c759d1e2-bb12-4af1-d7b8-dff5edc50063"
      },
      "source": [
        "regr.score(X_test, y_test)\n",
        "#10 - 93.5%\n",
        "#15 - 93.5%\n",
        "#20 - 93.5%"
      ],
      "execution_count": null,
      "outputs": [
        {
          "output_type": "execute_result",
          "data": {
            "text/plain": [
              "0.9353795089681445"
            ]
          },
          "metadata": {
            "tags": []
          },
          "execution_count": 37
        }
      ]
    },
    {
      "cell_type": "code",
      "metadata": {
        "id": "gCUPygAXQcmT"
      },
      "source": [
        "#Regressão Linear\n",
        "regr = BaggingRegressor(base_estimator=LinearRegression(),\n",
        "                        n_estimators=20, random_state=0).fit(X_train, y_train)"
      ],
      "execution_count": null,
      "outputs": []
    },
    {
      "cell_type": "code",
      "metadata": {
        "id": "NJruvQfuQcmU",
        "outputId": "1a1e9951-4a58-40e2-8056-30bb52975c59"
      },
      "source": [
        "regr.score(X_test, y_test)\n",
        "#10 - 93.7%\n",
        "#15 - 93.7%\n",
        "#20 - 93.7%"
      ],
      "execution_count": null,
      "outputs": [
        {
          "output_type": "execute_result",
          "data": {
            "text/plain": [
              "0.9371400679914242"
            ]
          },
          "metadata": {
            "tags": []
          },
          "execution_count": 24
        }
      ]
    },
    {
      "cell_type": "code",
      "metadata": {
        "id": "cKTKoyh_QcmU",
        "outputId": "efafa019-4eab-4d49-8449-8c27fd3d44a8"
      },
      "source": [
        "from sklearn.ensemble import AdaBoostRegressor\n",
        "\n",
        "regr = AdaBoostRegressor(base_estimator=MLPRegressor(random_state=1, max_iter=5000, hidden_layer_sizes= (23, 12, 1)), random_state=0, n_estimators=15).fit(X_train, y_train)"
      ],
      "execution_count": null,
      "outputs": [
        {
          "output_type": "stream",
          "text": [
            "C:\\Users\\math_\\Anaconda3\\lib\\site-packages\\sklearn\\neural_network\\multilayer_perceptron.py:566: ConvergenceWarning: Stochastic Optimizer: Maximum iterations (5000) reached and the optimization hasn't converged yet.\n",
            "  % self.max_iter, ConvergenceWarning)\n",
            "C:\\Users\\math_\\Anaconda3\\lib\\site-packages\\sklearn\\neural_network\\multilayer_perceptron.py:566: ConvergenceWarning: Stochastic Optimizer: Maximum iterations (5000) reached and the optimization hasn't converged yet.\n",
            "  % self.max_iter, ConvergenceWarning)\n",
            "C:\\Users\\math_\\Anaconda3\\lib\\site-packages\\sklearn\\neural_network\\multilayer_perceptron.py:566: ConvergenceWarning: Stochastic Optimizer: Maximum iterations (5000) reached and the optimization hasn't converged yet.\n",
            "  % self.max_iter, ConvergenceWarning)\n",
            "C:\\Users\\math_\\Anaconda3\\lib\\site-packages\\sklearn\\neural_network\\multilayer_perceptron.py:566: ConvergenceWarning: Stochastic Optimizer: Maximum iterations (5000) reached and the optimization hasn't converged yet.\n",
            "  % self.max_iter, ConvergenceWarning)\n",
            "C:\\Users\\math_\\Anaconda3\\lib\\site-packages\\sklearn\\neural_network\\multilayer_perceptron.py:566: ConvergenceWarning: Stochastic Optimizer: Maximum iterations (5000) reached and the optimization hasn't converged yet.\n",
            "  % self.max_iter, ConvergenceWarning)\n",
            "C:\\Users\\math_\\Anaconda3\\lib\\site-packages\\sklearn\\neural_network\\multilayer_perceptron.py:566: ConvergenceWarning: Stochastic Optimizer: Maximum iterations (5000) reached and the optimization hasn't converged yet.\n",
            "  % self.max_iter, ConvergenceWarning)\n",
            "C:\\Users\\math_\\Anaconda3\\lib\\site-packages\\sklearn\\neural_network\\multilayer_perceptron.py:566: ConvergenceWarning: Stochastic Optimizer: Maximum iterations (5000) reached and the optimization hasn't converged yet.\n",
            "  % self.max_iter, ConvergenceWarning)\n",
            "C:\\Users\\math_\\Anaconda3\\lib\\site-packages\\sklearn\\neural_network\\multilayer_perceptron.py:566: ConvergenceWarning: Stochastic Optimizer: Maximum iterations (5000) reached and the optimization hasn't converged yet.\n",
            "  % self.max_iter, ConvergenceWarning)\n",
            "C:\\Users\\math_\\Anaconda3\\lib\\site-packages\\sklearn\\neural_network\\multilayer_perceptron.py:566: ConvergenceWarning: Stochastic Optimizer: Maximum iterations (5000) reached and the optimization hasn't converged yet.\n",
            "  % self.max_iter, ConvergenceWarning)\n",
            "C:\\Users\\math_\\Anaconda3\\lib\\site-packages\\sklearn\\neural_network\\multilayer_perceptron.py:566: ConvergenceWarning: Stochastic Optimizer: Maximum iterations (5000) reached and the optimization hasn't converged yet.\n",
            "  % self.max_iter, ConvergenceWarning)\n"
          ],
          "name": "stderr"
        }
      ]
    },
    {
      "cell_type": "code",
      "metadata": {
        "id": "vOOvw3ucQcmV",
        "outputId": "420516bf-0de3-4a72-e00b-a1975a706036"
      },
      "source": [
        "regr.score(X_test, y_test)\n",
        "#Boost MLP\n",
        "#10 - 9.4%\n",
        "#15 - 93.9%\n",
        "#20 - 93.9%"
      ],
      "execution_count": null,
      "outputs": [
        {
          "output_type": "execute_result",
          "data": {
            "text/plain": [
              "0.9393712037833963"
            ]
          },
          "metadata": {
            "tags": []
          },
          "execution_count": 15
        }
      ]
    },
    {
      "cell_type": "code",
      "metadata": {
        "id": "zZB_nf0DQcmV"
      },
      "source": [
        "regr = AdaBoostRegressor(base_estimator=DecisionTreeRegressor(max_depth=5),\n",
        "                        n_estimators=20, random_state=0).fit(X_train, y_train)"
      ],
      "execution_count": null,
      "outputs": []
    },
    {
      "cell_type": "code",
      "metadata": {
        "id": "DebgQL34QcmW",
        "outputId": "4666e3cf-e3a4-4c6c-faf1-2c0b09231d24"
      },
      "source": [
        "regr.score(X_test, y_test)\n",
        "#Boost AD\n",
        "#10 - 93.9%\n",
        "#15 - 93.9%\n",
        "#20 - 93.8%"
      ],
      "execution_count": null,
      "outputs": [
        {
          "output_type": "execute_result",
          "data": {
            "text/plain": [
              "0.9389580826055345"
            ]
          },
          "metadata": {
            "tags": []
          },
          "execution_count": 51
        }
      ]
    },
    {
      "cell_type": "code",
      "metadata": {
        "id": "4awE8zSDQcmW"
      },
      "source": [
        "regr = AdaBoostRegressor(base_estimator=neighbors.KNeighborsRegressor(n_neighbors),\n",
        "                        n_estimators=15, random_state=0).fit(X_train, y_train)"
      ],
      "execution_count": null,
      "outputs": []
    },
    {
      "cell_type": "code",
      "metadata": {
        "id": "PrkqRcYMQcmX",
        "outputId": "fb32cbcf-e1f7-4028-af23-ab492d3b841f"
      },
      "source": [
        "regr.score(X_test, y_test)\n",
        "#Boost knn\n",
        "#10 - 92.5%\n",
        "#15 - 92.5%\n",
        "#20 - 91.9%"
      ],
      "execution_count": null,
      "outputs": [
        {
          "output_type": "execute_result",
          "data": {
            "text/plain": [
              "0.9255358676002168"
            ]
          },
          "metadata": {
            "tags": []
          },
          "execution_count": 55
        }
      ]
    },
    {
      "cell_type": "code",
      "metadata": {
        "id": "GZzXlTm4QcmY"
      },
      "source": [
        "regr = AdaBoostRegressor(base_estimator=LinearRegression(),\n",
        "                        n_estimators=15, random_state=0).fit(X_train, y_train)"
      ],
      "execution_count": null,
      "outputs": []
    },
    {
      "cell_type": "code",
      "metadata": {
        "id": "reuGC0ZiQcmY",
        "outputId": "2b01c93c-55ab-4ac4-cda9-e4142a042bc7"
      },
      "source": [
        "regr.score(X_test, y_test)\n",
        "#Boost Linear\n",
        "#10 - 93.5%\n",
        "#15 - 93.2%\n",
        "#20 - 93.2%"
      ],
      "execution_count": null,
      "outputs": [
        {
          "output_type": "execute_result",
          "data": {
            "text/plain": [
              "0.9320715220114758"
            ]
          },
          "metadata": {
            "tags": []
          },
          "execution_count": 62
        }
      ]
    },
    {
      "cell_type": "code",
      "metadata": {
        "id": "h-fGYVV3QcmZ"
      },
      "source": [
        ""
      ],
      "execution_count": null,
      "outputs": []
    },
    {
      "cell_type": "code",
      "metadata": {
        "id": "hGXJtsHtQcmZ"
      },
      "source": [
        "#Stacking\n",
        "from sklearn.ensemble import StackingRegressor\n",
        "from sklearn.ensemble import RandomForestRegressor\n",
        "\n",
        "estimators = [\n",
        "    ('lr', LinearRegression()),\n",
        "    ('ad', DecisionTreeRegressor(max_depth=5)),\n",
        "   ('knn', neighbors.KNeighborsRegressor(n_neighbors))\n",
        "]\n",
        "\n",
        "reg = StackingRegressor(estimators=estimators)"
      ],
      "execution_count": null,
      "outputs": []
    },
    {
      "cell_type": "code",
      "metadata": {
        "id": "YGqSqsWoQcmZ",
        "outputId": "1722ed0f-3e04-4260-ad20-b847e8bb5725"
      },
      "source": [
        "reg.fit(X_train, y_train).score(X_test, y_test)"
      ],
      "execution_count": null,
      "outputs": [
        {
          "output_type": "execute_result",
          "data": {
            "text/plain": [
              "0.9399056284947539"
            ]
          },
          "metadata": {
            "tags": []
          },
          "execution_count": 56
        }
      ]
    },
    {
      "cell_type": "markdown",
      "metadata": {
        "id": "RFe4xtXfQcma"
      },
      "source": [
        "# Tabela Stacking homogeneo\n",
        "LR \n",
        "\n",
        "10 - 91.2\n",
        "15 - 91.3\n",
        "20 - 91.3\n",
        "\n",
        "AD \n",
        "\n",
        "10 - 93.4\n",
        "15 - 93.3\n",
        "20 - 93.4\n",
        "\n",
        "KNN \n",
        "\n",
        "10 - 90.4\n",
        "15 - 90.5\n",
        "20 - 90.6\n",
        "\n",
        "MLP (500 iterações, lento)\n",
        "\n",
        "10 - 91.2\n",
        "15 - 91.3\n",
        "20 - 91.3 \n",
        "# Tabela Stacking Heterogeneo (3 regressores) \n",
        "\n",
        "33% todos - 94\n",
        "50%  lr e ad - 93.9  \n",
        "50% lr e knn - 93.9\n",
        "50% ad e knn - 93.7"
      ]
    },
    {
      "cell_type": "code",
      "metadata": {
        "id": "4TnN9fg1Qcma",
        "outputId": "3e1d053c-7845-4906-e08f-ea07f423a809"
      },
      "source": [
        "#TESTES ESTATÍSTICOS\n",
        "from scipy.stats import wilcoxon, friedmanchisquare\n",
        "\n",
        "bag = [0.621, 0.939, 0.935, 0.937]\n",
        "boo = [0.657, 0.9386, 0.923, 0.933]\n",
        "stk = [0.912, 0.9336, 0.905, 0.912]\n",
        "\n",
        "# comparar\n",
        "stat, p = friedmanchisquare(bag, boo, stk)\n",
        "print('Statistics=%.3f, p=%.3f' % (stat, p))\n",
        "# interpret\n",
        "alpha = 0.05\n",
        "if p > alpha:\n",
        "    print('Mesmas distribuições (não rejeitar a hipótese nula)')\n",
        "else:\n",
        "    print('Distribuições diferentes (rejeitar a hipótese nula)')"
      ],
      "execution_count": null,
      "outputs": [
        {
          "output_type": "stream",
          "text": [
            "Statistics=2.000, p=0.368\n",
            "Mesmas distribuições (não rejeitar a hipótese nula)\n"
          ],
          "name": "stdout"
        }
      ]
    },
    {
      "cell_type": "code",
      "metadata": {
        "id": "GxUYPOdkQcmb"
      },
      "source": [
        "# TESTE ESTATÍSTICO\n",
        "\n",
        "# Criar testes randomicos com 50% da base original\n",
        "\n",
        "# Fazer o Bagging com os testes aleatorios (para 2 regressores do comitê)\n",
        "\n",
        "#X = dados.drop(\"NU_NOTA_MT\",1)\n",
        "#y = dados[\"NU_NOTA_MT\"]\n",
        "\n",
        "from sklearn.model_selection import train_test_split\n",
        "\n",
        "X_train, X_test, y_train, y_test = train_test_split(X, y, test_size = 0.4, random_state = 50)\n",
        "\n",
        "#Configs - 1)test_size = 0.2 \n",
        "#2)test_size = 0.3 \n",
        "#3)test_size = 0.4"
      ],
      "execution_count": null,
      "outputs": []
    },
    {
      "cell_type": "code",
      "metadata": {
        "id": "eDyg6IhgQcmb",
        "outputId": "8c386115-c635-4a57-85d1-1821f6b1763f"
      },
      "source": [
        "#6 testes com bagging AD \n",
        "from sklearn.ensemble import BaggingRegressor\n",
        "\n",
        "#AD\n",
        "regr = BaggingRegressor(base_estimator=DecisionTreeRegressor(max_depth=5),\n",
        "                        n_estimators=20, random_state=0).fit(X_train, y_train)\n",
        "regr.score(X_test, y_test)"
      ],
      "execution_count": null,
      "outputs": [
        {
          "output_type": "execute_result",
          "data": {
            "text/plain": [
              "0.9426316075048958"
            ]
          },
          "metadata": {
            "tags": []
          },
          "execution_count": 94
        }
      ]
    },
    {
      "cell_type": "code",
      "metadata": {
        "id": "DZwQwicMQcmc",
        "outputId": "7e8d51ae-428a-4858-ad63-7f312e377877"
      },
      "source": [
        "#6 testes com bagging Reg. Linear\n",
        "\n",
        "#Regressão Linear\n",
        "regr = BaggingRegressor(base_estimator=LinearRegression(),\n",
        "                        n_estimators=20, random_state=0).fit(X_train, y_train)\n",
        "regr.score(X_test, y_test)"
      ],
      "execution_count": null,
      "outputs": [
        {
          "output_type": "execute_result",
          "data": {
            "text/plain": [
              "0.9404410198116858"
            ]
          },
          "metadata": {
            "tags": []
          },
          "execution_count": 95
        }
      ]
    },
    {
      "cell_type": "code",
      "metadata": {
        "id": "StC4lylGQcmc"
      },
      "source": [
        "#6 testes AD (3 base de dados 20k e 3 base de dados 10k)\n",
        "1- 93.8\n",
        "2- 93.9\n",
        "3- 93.9\n",
        "4- 94\n",
        "5- 94.2\n",
        "6- 94.1\n",
        "7- 94.7\n",
        "8- 94.4\n",
        "9- 94.2\n",
        "Intervalo de Confiança para a média (rodando várias vezes e usando a média)\n",
        "Intervalo de confiança (Média) -  94.13\n",
        "\n",
        "#6 testes RegLinear\n",
        "1- 93.4\n",
        "2- 93.7\n",
        "3- 93.6\n",
        "4- 93.7\n",
        "5- 93.8\n",
        "6- 93.7\n",
        "7- 94.4\n",
        "8- 94.1\n",
        "9- 94\n",
        "Media - 93.82\n",
        "\n",
        "Desvio padrão amostral(z) = "
      ],
      "execution_count": null,
      "outputs": []
    },
    {
      "cell_type": "code",
      "metadata": {
        "id": "qQO86HJCQcmc"
      },
      "source": [
        "import numpy as np\n",
        "import scipy.stats\n",
        "\n",
        "\n",
        "def mean_confidence_interval(data, confidence=0.95):\n",
        "    a = 1.0 * np.array(data)\n",
        "    n = len(a)\n",
        "    m, se = np.mean(a), scipy.stats.sem(a)\n",
        "    h = se * scipy.stats.t.ppf((1 + confidence) / 2., n-1)\n",
        "    return m, m-h, m+h"
      ],
      "execution_count": null,
      "outputs": []
    },
    {
      "cell_type": "code",
      "metadata": {
        "id": "iEKJW0bWQcmd"
      },
      "source": [
        "ad = [0.938, 0.939, 0.939, 0.94, 0.942, 0.941, 0.947, 0.944, 0.942]\n",
        "rl = [0.934, 0.937, 0.936, 0.937, 0.938, 0.937, 0.944, 0.941, 0.94]"
      ],
      "execution_count": null,
      "outputs": []
    },
    {
      "cell_type": "code",
      "metadata": {
        "id": "NurQ16vgQcmd",
        "outputId": "b0be9a9b-c8d4-4066-d2fa-02a24327078e"
      },
      "source": [
        "from scipy.stats import wilcoxon\n",
        "wilcoxon(ad, rl, zero_method='zsplit')"
      ],
      "execution_count": null,
      "outputs": [
        {
          "output_type": "execute_result",
          "data": {
            "text/plain": [
              "WilcoxonResult(statistic=0.0, pvalue=0.007526315166457887)"
            ]
          },
          "metadata": {
            "tags": []
          },
          "execution_count": 115
        }
      ]
    },
    {
      "cell_type": "code",
      "metadata": {
        "id": "c07UYCqcQcmd",
        "outputId": "4a17ec9f-837c-4d57-aec7-bdd440f2d62e"
      },
      "source": [
        "mean_confidence_interval(ad)"
      ],
      "execution_count": null,
      "outputs": [
        {
          "output_type": "execute_result",
          "data": {
            "text/plain": [
              "(0.9413333333333332, 0.9391592117848981, 0.9435074548817683)"
            ]
          },
          "metadata": {
            "tags": []
          },
          "execution_count": 111
        }
      ]
    },
    {
      "cell_type": "code",
      "metadata": {
        "id": "m1KxhJnVQcme",
        "outputId": "04f66e4f-6271-4551-c344-841a83247f5a"
      },
      "source": [
        "ad_2 = [0.939, 0.939, 0.939]\n",
        "mean_confidence_interval(ad_2)"
      ],
      "execution_count": null,
      "outputs": [
        {
          "output_type": "execute_result",
          "data": {
            "text/plain": [
              "(0.939, 0.939, 0.939)"
            ]
          },
          "metadata": {
            "tags": []
          },
          "execution_count": 96
        }
      ]
    },
    {
      "cell_type": "code",
      "metadata": {
        "id": "Gjg3NytjQcme",
        "outputId": "667ba9dd-a3d7-4ed2-954f-36bfeece98e6"
      },
      "source": [
        "mean_confidence_interval(rl)"
      ],
      "execution_count": null,
      "outputs": [
        {
          "output_type": "execute_result",
          "data": {
            "text/plain": [
              "(0.9382222222222221, 0.9359233464014154, 0.9405210980430287)"
            ]
          },
          "metadata": {
            "tags": []
          },
          "execution_count": 95
        }
      ]
    },
    {
      "cell_type": "code",
      "metadata": {
        "id": "ayNeFv7dQcme",
        "outputId": "f5ab329a-4816-40bd-e6c5-dfe07bfe6cab"
      },
      "source": [
        "rl_2 = [93.7, 93.7, 93.7]\n",
        "mean_confidence_interval(rl_2)"
      ],
      "execution_count": null,
      "outputs": [
        {
          "output_type": "execute_result",
          "data": {
            "text/plain": [
              "(93.7, 93.7, 93.7)"
            ]
          },
          "metadata": {
            "tags": []
          },
          "execution_count": 127
        }
      ]
    },
    {
      "cell_type": "code",
      "metadata": {
        "id": "Jd7_sL40Qcmf"
      },
      "source": [
        "#Intervalo de Confiança para a Proporção"
      ],
      "execution_count": null,
      "outputs": []
    },
    {
      "cell_type": "code",
      "metadata": {
        "id": "Q8X5V7rYQcmf"
      },
      "source": [
        "#Teste de Hipóteses\n",
        "import statistics\n",
        "\n",
        "#Calcular a média e o desvio padrão das amostras \n",
        "Media_ad = 0.9413333333333334\n",
        "Media_rl = 0.9382222222222224"
      ],
      "execution_count": null,
      "outputs": []
    },
    {
      "cell_type": "code",
      "metadata": {
        "id": "amvqcN99Qcmg"
      },
      "source": [
        "DP_ad2 = DP_ad*DP_ad\n",
        "DP_rl2 = DP_rl*DP_rl"
      ],
      "execution_count": null,
      "outputs": []
    },
    {
      "cell_type": "code",
      "metadata": {
        "id": "Nsgvmn7AQcmg"
      },
      "source": [
        "media = Media_ad - Media_rl"
      ],
      "execution_count": null,
      "outputs": []
    },
    {
      "cell_type": "code",
      "metadata": {
        "id": "OD6iz0iWQcmh"
      },
      "source": [
        "DP_ad = statistics.stdev(ad)\n",
        "DP_rl = statistics.stdev(rl)"
      ],
      "execution_count": null,
      "outputs": []
    },
    {
      "cell_type": "code",
      "metadata": {
        "id": "FCFnyyTJQcmh",
        "outputId": "d8cfcca7-397e-4738-cf81-92d50da72edc"
      },
      "source": [
        "DP_rl"
      ],
      "execution_count": null,
      "outputs": [
        {
          "output_type": "execute_result",
          "data": {
            "text/plain": [
              "0.0029907264074876825"
            ]
          },
          "metadata": {
            "tags": []
          },
          "execution_count": 103
        }
      ]
    },
    {
      "cell_type": "code",
      "metadata": {
        "id": "DwiaYroKQcmh",
        "outputId": "3ec9dc38-e4b1-4c3f-af1a-84b8ed4c17b2"
      },
      "source": [
        "media"
      ],
      "execution_count": null,
      "outputs": [
        {
          "output_type": "execute_result",
          "data": {
            "text/plain": [
              "0.0031111111111109535"
            ]
          },
          "metadata": {
            "tags": []
          },
          "execution_count": 104
        }
      ]
    },
    {
      "cell_type": "code",
      "metadata": {
        "id": "h4HSPUaWQcmi"
      },
      "source": [
        "import math\n",
        "num = (DP_ad2/9)+(DP_rl2/9)\n",
        "raiz = math.sqrt(num)"
      ],
      "execution_count": null,
      "outputs": []
    },
    {
      "cell_type": "code",
      "metadata": {
        "id": "91E9EUiPQcmi"
      },
      "source": [
        "#Divisão medias pelo erro padrão\n",
        "#Estatística de Teste\n",
        "Est_teste = media/raiz"
      ],
      "execution_count": null,
      "outputs": []
    },
    {
      "cell_type": "code",
      "metadata": {
        "id": "Vrevw11YQcmi",
        "outputId": "81988265-0dfe-40e6-e2ac-57ca92267d32"
      },
      "source": [
        "Est_teste\n",
        "#Olhando a tabela Z - 0.9981\n",
        "#p = 0.9981\n",
        "#Teste não igual (bicaudal): 2 x p = 0.9962\n",
        "#Alfa = 0.05 nível de significancia\n",
        "#p-Valor = 0,9962 > 0.05\n",
        "\n",
        "#Valores altos de p-valor evidenciam que a hipótese nula é verdadeira. \n",
        "#Não existe uma diferença estatística significante entre ad e rl"
      ],
      "execution_count": null,
      "outputs": [
        {
          "output_type": "execute_result",
          "data": {
            "text/plain": [
              "2.2673737245008665"
            ]
          },
          "metadata": {
            "tags": []
          },
          "execution_count": 109
        }
      ]
    },
    {
      "cell_type": "markdown",
      "metadata": {
        "id": "0GHemGLZQcmj"
      },
      "source": [
        "# Métricas para AVALIAÇÃO DO MODELO"
      ]
    },
    {
      "cell_type": "code",
      "metadata": {
        "id": "XeL55sm6Qcmj"
      },
      "source": [
        "from sklearn.metrics import mean_squared_error, r2_score\n",
        "\n",
        "mean_squared_error(y_test, y_pred_test)"
      ],
      "execution_count": null,
      "outputs": []
    },
    {
      "cell_type": "code",
      "metadata": {
        "id": "Jys_2oojQcmj"
      },
      "source": [
        "print('MAE:', metrics.mean_absolute_error(y_train, y_pred_train).round(8)  )\n",
        "print('MSE:', metrics.mean_squared_error(y_train, y_pred_train).round(8) )  \n",
        "print('RMSE:', np.sqrt(metrics.mean_squared_error(y_train, y_pred_train)).round(8))"
      ],
      "execution_count": null,
      "outputs": []
    },
    {
      "cell_type": "code",
      "metadata": {
        "id": "EXeMtd32Qcmk"
      },
      "source": [
        "X_testN = df_test1.drop(columns =['NU_INSCRICAO'], axis=1)\n",
        "\n",
        "ypredict_test = model_lr.predict(X_testN)"
      ],
      "execution_count": null,
      "outputs": []
    },
    {
      "cell_type": "code",
      "metadata": {
        "id": "zb9d4xvVQcmk"
      },
      "source": [
        "df_test1['NU_NOTA_MT'] = ypredict_test"
      ],
      "execution_count": null,
      "outputs": []
    },
    {
      "cell_type": "code",
      "metadata": {
        "id": "axh9bTljQcmk"
      },
      "source": [
        "#answer = df_test1[['NU_INSCRICAO','NU_NOTA_MT']]"
      ],
      "execution_count": null,
      "outputs": []
    },
    {
      "cell_type": "code",
      "metadata": {
        "id": "OeHwN5HWQcmk"
      },
      "source": [
        "# SALVANDO NOSSA RESPOSTA\n",
        "#answer.to_csv(\"answer.csv\",index=False)"
      ],
      "execution_count": null,
      "outputs": []
    },
    {
      "cell_type": "code",
      "metadata": {
        "id": "EAfdO-XaQcml"
      },
      "source": [
        "# Find the unique numbers from the train labels\n",
        "classes = np.unique(y_train)\n",
        "nClasses = len(classes)\n",
        "print('Total number of outputs : ', nClasses)\n",
        "print('Output classes : ', classes)"
      ],
      "execution_count": null,
      "outputs": []
    },
    {
      "cell_type": "code",
      "metadata": {
        "id": "X2i4ZKTGQcml"
      },
      "source": [
        ""
      ],
      "execution_count": null,
      "outputs": []
    }
  ]
}